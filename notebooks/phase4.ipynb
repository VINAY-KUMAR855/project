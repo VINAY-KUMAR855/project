{
  "nbformat": 4,
  "nbformat_minor": 0,
  "metadata": {
    "colab": {
      "provenance": [],
      "gpuType": "T4"
    },
    "kernelspec": {
      "name": "python3",
      "display_name": "Python 3"
    },
    "language_info": {
      "name": "python"
    },
    "accelerator": "GPU"
  },
  "cells": [
    {
      "cell_type": "code",
      "execution_count": null,
      "metadata": {
        "id": "9VGgOK074rCJ"
      },
      "outputs": [],
      "source": []
    },
    {
      "cell_type": "code",
      "execution_count": null,
      "metadata": {
        "id": "DJCui_tAgJ0T"
      },
      "outputs": [],
      "source": []
    },
    {
      "cell_type": "code",
      "execution_count": 1,
      "metadata": {
        "id": "LmFQCiSWyyd1",
        "colab": {
          "base_uri": "https://localhost:8080/"
        },
        "outputId": "3a766388-f613-4cd3-8276-b5cb4f93ff62"
      },
      "outputs": [
        {
          "output_type": "stream",
          "name": "stdout",
          "text": [
            "Removing cache files...\n",
            "Cache files cleared!\n"
          ]
        }
      ],
      "source": [
        "# Solution 1: Clear cache files and restart\n",
        "import os\n",
        "import glob\n",
        "\n",
        "# Clear all cache files\n",
        "cache_files = glob.glob(\"/tmp/cattle_*.cache*\")\n",
        "lock_files = glob.glob(\"/tmp/cattle_*.lockfile\")\n",
        "\n",
        "print(\"Removing cache files...\")\n",
        "for file in cache_files + lock_files:\n",
        "    try:\n",
        "        os.remove(file)\n",
        "        print(f\"Removed: {file}\")\n",
        "    except FileNotFoundError:\n",
        "        print(f\"File not found: {file}\")\n",
        "    except Exception as e:\n",
        "        print(f\"Error removing {file}: {e}\")\n",
        "\n",
        "print(\"Cache files cleared!\")"
      ]
    },
    {
      "cell_type": "code",
      "execution_count": 2,
      "metadata": {
        "id": "ag8uxtGdyt5J"
      },
      "outputs": [],
      "source": [
        "import os, json, math, random\n",
        "import numpy as np\n",
        "import tensorflow as tf\n",
        "import matplotlib.pyplot as plt\n",
        "import numpy as np"
      ]
    },
    {
      "cell_type": "code",
      "source": [
        "from google.colab import drive\n",
        "drive.mount('/content/drive')"
      ],
      "metadata": {
        "colab": {
          "base_uri": "https://localhost:8080/"
        },
        "id": "OJcSD6dF9KjC",
        "outputId": "8dabbc28-d0fa-44af-b5a5-ad66c3dffd4e"
      },
      "execution_count": 3,
      "outputs": [
        {
          "output_type": "stream",
          "name": "stdout",
          "text": [
            "Mounted at /content/drive\n"
          ]
        }
      ]
    },
    {
      "cell_type": "code",
      "source": [
        "!ls \"/content/drive/MyDrive/Colab Notebooks/SIH/data/raw_data\""
      ],
      "metadata": {
        "colab": {
          "base_uri": "https://localhost:8080/"
        },
        "id": "1oRMD2tj9hcY",
        "outputId": "a23968db-7819-4aa1-93f1-9743fa460958"
      },
      "execution_count": 4,
      "outputs": [
        {
          "output_type": "stream",
          "name": "stdout",
          "text": [
            "'Ayrshire cattle'\t    'Jaffrabadi Buffalo'  'Nili ravi Buffalo'\n",
            "'Brown Swiss cattle'\t    'Jersey cattle'\t  'Rathi Cow'\n",
            "'Gir Cow'\t\t    'Kankrej Cow'\t  'Sahiwal Cow'\n",
            "'Hallikar Cow'\t\t     Murrah\t\t  'Tharparkar Cow'\n",
            "'Holstein Friesian cattle'  'Nagpuri Buffalo'\n"
          ]
        }
      ]
    },
    {
      "cell_type": "code",
      "source": [
        "print(tf.__version__)"
      ],
      "metadata": {
        "colab": {
          "base_uri": "https://localhost:8080/"
        },
        "id": "nKj__DTV7j1P",
        "outputId": "aa967ad3-bbe2-4bfd-9867-ea062dd2a648"
      },
      "execution_count": 5,
      "outputs": [
        {
          "output_type": "stream",
          "name": "stdout",
          "text": [
            "2.19.0\n"
          ]
        }
      ]
    },
    {
      "cell_type": "code",
      "source": [],
      "metadata": {
        "id": "VV7lPtqF_zon"
      },
      "execution_count": 5,
      "outputs": []
    },
    {
      "cell_type": "code",
      "source": [
        "tf.random.set_seed(42)\n",
        "np.random.seed(42)\n",
        "random.seed(42)"
      ],
      "metadata": {
        "id": "P0jNckVw8HAB"
      },
      "execution_count": 6,
      "outputs": []
    },
    {
      "cell_type": "code",
      "source": [
        "DATA_DIR = \"/content/drive/MyDrive/Colab Notebooks/SIH/data/raw_data\""
      ],
      "metadata": {
        "id": "ElfPG6868IEz"
      },
      "execution_count": 7,
      "outputs": []
    },
    {
      "cell_type": "code",
      "source": [
        "if os.path.isdir(DATA_DIR):\n",
        "  print(f\"Folder found: {DATA_DIR}\")\n",
        "else:\n",
        "  print(f\"Folder not found: {DATA_DIR}\")"
      ],
      "metadata": {
        "colab": {
          "base_uri": "https://localhost:8080/"
        },
        "id": "EAyzsTp6-CnZ",
        "outputId": "e884ad94-f474-4a5c-be79-49de323b9580"
      },
      "execution_count": 8,
      "outputs": [
        {
          "output_type": "stream",
          "name": "stdout",
          "text": [
            "Folder found: /content/drive/MyDrive/Colab Notebooks/SIH/data/raw_data\n"
          ]
        }
      ]
    },
    {
      "cell_type": "code",
      "source": [
        "def explore_dataset(data_dir):\n",
        "    \"\"\"\n",
        "    Explore the dataset structure and show sample counts\n",
        "    \"\"\"\n",
        "    print(\"Dataset Structure:\")\n",
        "    print(\"-\" * 40)\n",
        "\n",
        "    breeds = []\n",
        "    image_counts = []\n",
        "\n",
        "    if os.path.exists(data_dir):\n",
        "        for breed_folder in sorted(os.listdir(data_dir)):\n",
        "            breed_path = os.path.join(data_dir, breed_folder)\n",
        "            if os.path.isdir(breed_path):\n",
        "                image_count = len([f for f in os.listdir(breed_path)\n",
        "                                 if f.lower().endswith(('.jpg', '.jpeg', '.png'))])\n",
        "                breeds.append(breed_folder)\n",
        "                image_counts.append(image_count)\n",
        "                print(f\"{breed_folder}: {image_count} images\")\n",
        "\n",
        "    total_images = sum(image_counts)\n",
        "    print(\"-\" * 40)\n",
        "    print(f\"Total Images: {total_images}\")\n",
        "    print(f\"Total Breeds: {len(breeds)}\")\n",
        "\n",
        "    # Plot distribution\n",
        "    plt.figure(figsize=(12, 6))\n",
        "    plt.bar(breeds, image_counts, color=['skyblue' if 'cattle' in breed.lower() else 'lightcoral' for breed in breeds])\n",
        "    plt.title('Distribution of Images per Breed')\n",
        "    plt.xlabel('Breed')\n",
        "    plt.ylabel('Number of Images')\n",
        "    plt.xticks(rotation=45, ha='right')\n",
        "    plt.tight_layout()\n",
        "    plt.show()\n",
        "\n",
        "    return breeds, image_counts"
      ],
      "metadata": {
        "id": "H4NzXrx6C10Z"
      },
      "execution_count": 9,
      "outputs": []
    },
    {
      "cell_type": "code",
      "source": [
        "# Explore your dataset\n",
        "breeds, counts = explore_dataset(DATA_DIR)"
      ],
      "metadata": {
        "colab": {
          "base_uri": "https://localhost:8080/",
          "height": 919
        },
        "id": "jzM4t_mcEVzw",
        "outputId": "c823fef3-f09b-4eef-a01d-b12f725f47c1",
        "collapsed": true
      },
      "execution_count": 10,
      "outputs": [
        {
          "output_type": "stream",
          "name": "stdout",
          "text": [
            "Dataset Structure:\n",
            "----------------------------------------\n",
            "Ayrshire cattle: 260 images\n",
            "Brown Swiss cattle: 238 images\n",
            "Gir Cow: 250 images\n",
            "Hallikar Cow: 210 images\n",
            "Holstein Friesian cattle: 254 images\n",
            "Jaffrabadi Buffalo: 210 images\n",
            "Jersey cattle: 252 images\n",
            "Kankrej Cow: 210 images\n",
            "Murrah: 210 images\n",
            "Nagpuri Buffalo: 220 images\n",
            "Nili ravi Buffalo: 210 images\n",
            "Rathi Cow: 210 images\n",
            "Sahiwal Cow: 240 images\n",
            "Tharparkar Cow: 221 images\n",
            "----------------------------------------\n",
            "Total Images: 3195\n",
            "Total Breeds: 14\n"
          ]
        },
        {
          "output_type": "display_data",
          "data": {
            "text/plain": [
              "<Figure size 1200x600 with 1 Axes>"
            ],
            "image/png": "[encoded data removed]"
          },
          "metadata": {}
        }
      ]
    },
    {
      "cell_type": "code",
      "source": [
        "import os\n",
        "for cls in sorted(os.listdir(DATA_DIR)):\n",
        "    cls_path = os.path.join(DATA_DIR, cls)\n",
        "    if os.path.isdir(cls_path):\n",
        "        print(cls, len(os.listdir(cls_path)))\n"
      ],
      "metadata": {
        "colab": {
          "base_uri": "https://localhost:8080/"
        },
        "id": "BF9CBOtWQF1u",
        "outputId": "8a4a6e77-fdf7-4d1d-a24c-86db5daaad42"
      },
      "execution_count": 11,
      "outputs": [
        {
          "output_type": "stream",
          "name": "stdout",
          "text": [
            "Ayrshire cattle 260\n",
            "Brown Swiss cattle 238\n",
            "Gir Cow 250\n",
            "Hallikar Cow 210\n",
            "Holstein Friesian cattle 254\n",
            "Jaffrabadi Buffalo 210\n",
            "Jersey cattle 252\n",
            "Kankrej Cow 210\n",
            "Murrah 210\n",
            "Nagpuri Buffalo 220\n",
            "Nili ravi Buffalo 210\n",
            "Rathi Cow 210\n",
            "Sahiwal Cow 240\n",
            "Tharparkar Cow 221\n"
          ]
        }
      ]
    },
    {
      "cell_type": "code",
      "source": [
        "IMG_SIZE = 224  # ResNet50 default\n",
        "BATCH_SIZE = 32\n",
        "VAL_SPLIT = 0.20       # 20% for val+test (we'll split this in half later into val and test)\n",
        "SEED = 42\n",
        "COLOR_MODE = \"rgb\"\n",
        "#LEARNING_RATE = 0.0001"
      ],
      "metadata": {
        "id": "s-5o4wkP-Qhr"
      },
      "execution_count": 12,
      "outputs": []
    },
    {
      "cell_type": "code",
      "source": [
        "# Load datasets (train / val_temp)\n",
        "train_ds = tf.keras.preprocessing.image_dataset_from_directory(\n",
        "    DATA_DIR,\n",
        "    labels=\"inferred\",       # Automatically label based on folder\n",
        "    label_mode=\"int\",        # keep integer labels; we can one-hot later inside the model\n",
        "    class_names=None,        # infer from subfolder names\n",
        "    color_mode=COLOR_MODE,\n",
        "    batch_size=BATCH_SIZE,\n",
        "    image_size=(IMG_SIZE,IMG_SIZE),     # will resize for you\n",
        "    shuffle=True,\n",
        "    seed=SEED,\n",
        "    validation_split=VAL_SPLIT,\n",
        "    subset=\"training\",\n",
        ")\n"
      ],
      "metadata": {
        "id": "TCGZd6A--bvm",
        "colab": {
          "base_uri": "https://localhost:8080/"
        },
        "outputId": "e832fd6b-ca96-494a-b5a4-40034e7bb53b"
      },
      "execution_count": 13,
      "outputs": [
        {
          "output_type": "stream",
          "name": "stdout",
          "text": [
            "Found 3195 files belonging to 14 classes.\n",
            "Using 2556 files for training.\n"
          ]
        }
      ]
    },
    {
      "cell_type": "code",
      "source": [
        "val_temp_ds = tf.keras.preprocessing.image_dataset_from_directory(\n",
        "    DATA_DIR,\n",
        "    labels=\"inferred\",\n",
        "    label_mode=\"int\",\n",
        "    color_mode=COLOR_MODE,\n",
        "    batch_size=BATCH_SIZE,\n",
        "    image_size=(IMG_SIZE,IMG_SIZE),\n",
        "    shuffle=True,\n",
        "    seed=SEED,\n",
        "    validation_split=VAL_SPLIT,\n",
        "    subset=\"validation\",\n",
        ")"
      ],
      "metadata": {
        "colab": {
          "base_uri": "https://localhost:8080/"
        },
        "id": "kP5AL60XLncz",
        "outputId": "3b5a7a6a-2308-4d9b-cda1-143ee826823a"
      },
      "execution_count": 14,
      "outputs": [
        {
          "output_type": "stream",
          "name": "stdout",
          "text": [
            "Found 3195 files belonging to 14 classes.\n",
            "Using 639 files for validation.\n"
          ]
        }
      ]
    },
    {
      "cell_type": "code",
      "source": [
        "# Save class names (folder names) for later use\n",
        "class_names = train_ds.class_names\n",
        "num_classes = len(class_names)\n",
        "print(\"Classes:\", class_names)"
      ],
      "metadata": {
        "colab": {
          "base_uri": "https://localhost:8080/"
        },
        "id": "Wak8UhhjLqNw",
        "outputId": "ea3e79d2-74a0-4b2e-bbea-a426d289cbad"
      },
      "execution_count": 15,
      "outputs": [
        {
          "output_type": "stream",
          "name": "stdout",
          "text": [
            "Classes: ['Ayrshire cattle', 'Brown Swiss cattle', 'Gir Cow', 'Hallikar Cow', 'Holstein Friesian cattle', 'Jaffrabadi Buffalo', 'Jersey cattle', 'Kankrej Cow', 'Murrah', 'Nagpuri Buffalo', 'Nili ravi Buffalo', 'Rathi Cow', 'Sahiwal Cow', 'Tharparkar Cow']\n"
          ]
        }
      ]
    },
    {
      "cell_type": "code",
      "source": [
        "# Check the labels\n",
        "#print(\"Class labels:\", train_ds.class_indices)\n",
        "label_map = {i: name for i, name in enumerate(class_names)}\n",
        "print(label_map)"
      ],
      "metadata": {
        "colab": {
          "base_uri": "https://localhost:8080/"
        },
        "id": "59tBBl9OKE0v",
        "outputId": "58c143ae-7104-4c73-bb9e-89f3b8b153c4"
      },
      "execution_count": 16,
      "outputs": [
        {
          "output_type": "stream",
          "name": "stdout",
          "text": [
            "{0: 'Ayrshire cattle', 1: 'Brown Swiss cattle', 2: 'Gir Cow', 3: 'Hallikar Cow', 4: 'Holstein Friesian cattle', 5: 'Jaffrabadi Buffalo', 6: 'Jersey cattle', 7: 'Kankrej Cow', 8: 'Murrah', 9: 'Nagpuri Buffalo', 10: 'Nili ravi Buffalo', 11: 'Rathi Cow', 12: 'Sahiwal Cow', 13: 'Tharparkar Cow'}\n"
          ]
        }
      ]
    },
    {
      "cell_type": "code",
      "source": [
        "# Save mapping to file\n",
        "label_map = {i: name for i, name in enumerate(class_names)}\n",
        "#print(label_map)\n",
        "with open(\"/content/drive/MyDrive/Colab Notebooks/SIH/data/class_names.json\", \"w\") as f:\n",
        "    json.dump(label_map, f, indent=2)\n",
        "print(\"/content/drive/MyDrive/Colab Notebooks/SIH/data/class_names.json\")"
      ],
      "metadata": {
        "colab": {
          "base_uri": "https://localhost:8080/"
        },
        "id": "SIXJXrn4Mbij",
        "outputId": "b845ea32-4048-4f61-b09e-da653987f914"
      },
      "execution_count": 17,
      "outputs": [
        {
          "output_type": "stream",
          "name": "stdout",
          "text": [
            "/content/drive/MyDrive/Colab Notebooks/SIH/data/class_names.json\n"
          ]
        }
      ]
    },
    {
      "cell_type": "code",
      "source": [
        "for images, labels in train_ds.take(1): # take first batch\n",
        "  print(\"Labels: \",labels.numpy())\n",
        "  print(\"Class names: \", [class_names[i] for i in labels.numpy()])"
      ],
      "metadata": {
        "colab": {
          "base_uri": "https://localhost:8080/"
        },
        "id": "jjeHKHsqNDja",
        "outputId": "1081086d-c140-4e68-849f-57724068e7f8"
      },
      "execution_count": 18,
      "outputs": [
        {
          "output_type": "stream",
          "name": "stdout",
          "text": [
            "Labels:  [ 0  4 11  3 12 12 12  4  1  0  1  2  6  3 10 12]\n",
            "Class names:  ['Ayrshire cattle', 'Holstein Friesian cattle', 'Rathi Cow', 'Hallikar Cow', 'Sahiwal Cow', 'Sahiwal Cow', 'Sahiwal Cow', 'Holstein Friesian cattle', 'Brown Swiss cattle', 'Ayrshire cattle', 'Brown Swiss cattle', 'Gir Cow', 'Jersey cattle', 'Hallikar Cow', 'Nili ravi Buffalo', 'Sahiwal Cow']\n"
          ]
        }
      ]
    },
    {
      "cell_type": "code",
      "source": [
        "# revesre mapping\n",
        "class_to_idx = {name: i for i, name in enumerate(class_names)}\n",
        "print(class_to_idx)\n"
      ],
      "metadata": {
        "colab": {
          "base_uri": "https://localhost:8080/"
        },
        "id": "rtk2dR8_N0oU",
        "outputId": "b9c9cbfe-a2d8-4257-df0e-07384c2cf54b"
      },
      "execution_count": 19,
      "outputs": [
        {
          "output_type": "stream",
          "name": "stdout",
          "text": [
            "{'Ayrshire cattle': 0, 'Brown Swiss cattle': 1, 'Gir Cow': 2, 'Hallikar Cow': 3, 'Holstein Friesian cattle': 4, 'Jaffrabadi Buffalo': 5, 'Jersey cattle': 6, 'Kankrej Cow': 7, 'Murrah': 8, 'Nagpuri Buffalo': 9, 'Nili ravi Buffalo': 10, 'Rathi Cow': 11, 'Sahiwal Cow': 12, 'Tharparkar Cow': 13}\n"
          ]
        }
      ]
    },
    {
      "cell_type": "code",
      "source": [
        "# Split val_temp into real val and test (50/50)"
      ],
      "metadata": {
        "id": "7iTxjrLSRrxQ"
      },
      "execution_count": 20,
      "outputs": []
    },
    {
      "cell_type": "code",
      "source": [
        "# In TensorFlow, a tf.data.Dataset doesn’t store everything in memory — it’s a pipeline of operations (like “read images → resize → batch → shuffle”)\n",
        "# To know how many batches are inside the dataset, you use: tf.data.experimental.cardinality(dataset)\n",
        "# This returns a special TensorFlow object (tf.Tensor) representing the count of batches\n",
        "val_temp_batches = tf.data.experimental.cardinality(val_temp_ds).numpy()\n",
        "print(val_temp_batches)"
      ],
      "metadata": {
        "colab": {
          "base_uri": "https://localhost:8080/"
        },
        "id": "QEJajt30Pfc8",
        "outputId": "2b2dc170-0d25-4091-8cf5-8bdafb6fe45a"
      },
      "execution_count": 21,
      "outputs": [
        {
          "output_type": "stream",
          "name": "stdout",
          "text": [
            "40\n"
          ]
        }
      ]
    },
    {
      "cell_type": "code",
      "source": [
        "test_ds = val_temp_ds.take(val_temp_batches // 2)\n",
        "val_ds  = val_temp_ds.skip(val_temp_batches // 2)"
      ],
      "metadata": {
        "id": "JB6-5YWJSOfm"
      },
      "execution_count": 22,
      "outputs": []
    },
    {
      "cell_type": "code",
      "source": [
        "print(\"Batches -> train:\", tf.data.experimental.cardinality(train_ds).numpy(),\n",
        "      \"| val:\", tf.data.experimental.cardinality(val_ds).numpy(),\n",
        "      \"| test:\", tf.data.experimental.cardinality(test_ds).numpy())"
      ],
      "metadata": {
        "colab": {
          "base_uri": "https://localhost:8080/"
        },
        "id": "u4giij8YSVJO",
        "outputId": "fad3651a-2c9a-41ef-9673-4526778ff3ab"
      },
      "execution_count": 23,
      "outputs": [
        {
          "output_type": "stream",
          "name": "stdout",
          "text": [
            "Batches -> train: 160 | val: 20 | test: 20\n"
          ]
        }
      ]
    },
    {
      "cell_type": "code",
      "source": [
        "print(32*(31+4+4))\n",
        "print(260+238+254+252+204) # last batch are not full"
      ],
      "metadata": {
        "colab": {
          "base_uri": "https://localhost:8080/"
        },
        "id": "vzpLOAxUSddW",
        "outputId": "9420cc25-9683-4302-f8c1-fc84d2573dee"
      },
      "execution_count": 24,
      "outputs": [
        {
          "output_type": "stream",
          "name": "stdout",
          "text": [
            "1248\n",
            "1208\n"
          ]
        }
      ]
    },
    {
      "cell_type": "markdown",
      "source": [
        "Data augmentation (training only)"
      ],
      "metadata": {
        "id": "aHaAuUvwTcBe"
      }
    },
    {
      "cell_type": "code",
      "source": [
        "#    Keep augmentations conservative to avoid distorting breed characteristics.\n",
        "#    NOTE: These layers work fine before preprocess_input(i.e., before preprocess_input). Augmentation works on normal images (0–255 pixel range)"
      ],
      "metadata": {
        "id": "OZZimYxvTfMn"
      },
      "execution_count": 25,
      "outputs": []
    },
    {
      "cell_type": "code",
      "source": [
        "data_augmentation = tf.keras.Sequential([\n",
        "    tf.keras.layers.RandomFlip(\"horizontal\"),\n",
        "    tf.keras.layers.RandomRotation(factor=0.20),\n",
        "    tf.keras.layers.RandomZoom(height_factor=0.15, width_factor=0.15),\n",
        "    tf.keras.layers.RandomTranslation(height_factor=0.08, width_factor=0.08),\n",
        "    tf.keras.layers.RandomBrightness(0.20),  # brightness variation\n",
        "    tf.keras.layers.RandomContrast(0.20),    # contrast variation\n",
        "    #tf.keras.layers.RandomCrop(height=200, width=200),  # Random crop then resize\n",
        "    #tf.keras.layers.Resizing(224, 224)\n",
        "], name=\"enhanced_data_augmentation\")"
      ],
      "metadata": {
        "id": "4G3yxsuEU8vr"
      },
      "execution_count": 26,
      "outputs": []
    },
    {
      "cell_type": "code",
      "source": [
        "from tensorflow.keras import mixed_precision\n",
        "\n",
        "# Set the global mixed precision policy\n",
        "policy = mixed_precision.Policy('mixed_float16')\n",
        "mixed_precision.set_global_policy(policy)"
      ],
      "metadata": {
        "id": "hhhecis3cusp"
      },
      "execution_count": 27,
      "outputs": []
    },
    {
      "cell_type": "markdown",
      "source": [
        "Preprocess for ResNet50"
      ],
      "metadata": {
        "id": "LFpAMw6sV5Gj"
      }
    },
    {
      "cell_type": "code",
      "source": [
        "#    Use tf.keras.applications.resnet50.preprocess_input (Caffe-style: BGR, mean subtraction).\n",
        "#    Do NOT also rescale 1/255."
      ],
      "metadata": {
        "id": "e1OLohzZV54f"
      },
      "execution_count": 28,
      "outputs": []
    },
    {
      "cell_type": "code",
      "source": [
        "from tensorflow.keras.applications.resnet50 import preprocess_input\n",
        "\n",
        "AUTOTUNE = tf.data.AUTOTUNE"
      ],
      "metadata": {
        "id": "Elb2zZj5W3DI"
      },
      "execution_count": 29,
      "outputs": []
    },
    {
      "cell_type": "code",
      "source": [
        "def add_augmentation(image, label):\n",
        "    # Apply only on training\n",
        "    image = data_augmentation(image, training=True)\n",
        "    return image, label"
      ],
      "metadata": {
        "id": "ZcVFEwmKXWLe"
      },
      "execution_count": 30,
      "outputs": []
    },
    {
      "cell_type": "code",
      "source": [
        "def preprocess_for_resnet(image, label):\n",
        "    image = tf.cast(image, tf.float32)      # convert to float32\n",
        "    image = preprocess_input(image)  # expects float32 in [0..255]\n",
        "    return image, label"
      ],
      "metadata": {
        "id": "D305xX9oXefK"
      },
      "execution_count": 31,
      "outputs": []
    },
    {
      "cell_type": "code",
      "source": [
        "# Apply augmentation to train only, then preprocess on all sets\n",
        "train_ds = (train_ds\n",
        "            .map(add_augmentation, num_parallel_calls=AUTOTUNE)\n",
        "            .map(preprocess_for_resnet, num_parallel_calls=AUTOTUNE))"
      ],
      "metadata": {
        "id": "-9RRQKNJX5ct"
      },
      "execution_count": 32,
      "outputs": []
    },
    {
      "cell_type": "code",
      "source": [
        "val_ds   = val_ds.map(preprocess_for_resnet, num_parallel_calls=AUTOTUNE)\n",
        "test_ds  = test_ds.map(preprocess_for_resnet, num_parallel_calls=AUTOTUNE)"
      ],
      "metadata": {
        "id": "4czDVrGyYSyw"
      },
      "execution_count": 33,
      "outputs": []
    },
    {
      "cell_type": "markdown",
      "source": [
        "pipeline optimizations:- Caching, shuffling, prefetching (performance)\n",
        "Cache to disk to avoid RAM spikes on large datasets in Colab."
      ],
      "metadata": {
        "id": "RjlxP435hg7T"
      }
    },
    {
      "cell_type": "code",
      "source": [
        "import time\n",
        "import random\n",
        "\n",
        "# Create unique cache names\n",
        "cache_suffix = f\"{int(time.time())}_{random.randint(1000, 9999)}\"\n",
        "\n",
        "train_ds = (train_ds\n",
        "            .cache(f\"/tmp/cattle_train_{cache_suffix}.cache\")\n",
        "            .shuffle(buffer_size= BATCH_SIZE * 5, seed=SEED, reshuffle_each_iteration=True) # changed 8 to 3\n",
        "            .prefetch(AUTOTUNE))\n",
        "\n",
        "val_ds   = val_ds.cache(f\"/tmp/cattle_val_{cache_suffix}.cache\").prefetch(AUTOTUNE)\n",
        "test_ds  = test_ds.cache(f\"/tmp/cattle_test_{cache_suffix}.cache\").prefetch(AUTOTUNE)"
      ],
      "metadata": {
        "id": "vUPUcPZfhpzc"
      },
      "execution_count": 34,
      "outputs": []
    },
    {
      "cell_type": "markdown",
      "source": [
        "Quick sanity checks"
      ],
      "metadata": {
        "id": "E7vjvZy7_EXW"
      }
    },
    {
      "cell_type": "code",
      "source": [
        "'''for images, labels in train_ds.take(1):\n",
        "    print(\"Image batch shape:\", images.shape, \"Label batch shape:\", labels.shape)\n",
        "    print(\"Label dtype:\", labels.dtype)\n",
        "    print(\"Min/Max pixel after preprocess_input:\", tf.reduce_min(images).numpy(), tf.reduce_max(images).numpy())'''"
      ],
      "metadata": {
        "id": "RtvVA6rnh2rR",
        "colab": {
          "base_uri": "https://localhost:8080/",
          "height": 72
        },
        "outputId": "12fd12f4-95cd-4ef8-d096-fe48aef3119a"
      },
      "execution_count": 35,
      "outputs": [
        {
          "output_type": "execute_result",
          "data": {
            "text/plain": [
              "'for images, labels in train_ds.take(1):\\n    print(\"Image batch shape:\", images.shape, \"Label batch shape:\", labels.shape)\\n    print(\"Label dtype:\", labels.dtype)\\n    print(\"Min/Max pixel after preprocess_input:\", tf.reduce_min(images).numpy(), tf.reduce_max(images).numpy())'"
            ],
            "application/vnd.google.colaboratory.intrinsic+json": {
              "type": "string"
            }
          },
          "metadata": {},
          "execution_count": 35
        }
      ]
    },
    {
      "cell_type": "markdown",
      "source": [
        "Class distribution — helpful later for class weight"
      ],
      "metadata": {
        "id": "cbVNWpjdJnIh"
      }
    },
    {
      "cell_type": "code",
      "source": [
        "'''import numpy as np\n",
        "\n",
        "# Count labels in training dataset\n",
        "train_class_counts = np.zeros(len(class_names))\n",
        "for images, labels in train_ds.unbatch():\n",
        "    train_class_counts[labels.numpy()] += 1\n",
        "\n",
        "print(\"Class counts:\", train_class_counts)'''"
      ],
      "metadata": {
        "id": "NH4MmYjSiEc-",
        "colab": {
          "base_uri": "https://localhost:8080/",
          "height": 54
        },
        "outputId": "44bb1237-b166-4374-af48-f250ca64165a"
      },
      "execution_count": 36,
      "outputs": [
        {
          "output_type": "execute_result",
          "data": {
            "text/plain": [
              "'import numpy as np\\n\\n# Count labels in training dataset\\ntrain_class_counts = np.zeros(len(class_names))\\nfor images, labels in train_ds.unbatch():\\n    train_class_counts[labels.numpy()] += 1\\n\\nprint(\"Class counts:\", train_class_counts)'"
            ],
            "application/vnd.google.colaboratory.intrinsic+json": {
              "type": "string"
            }
          },
          "metadata": {},
          "execution_count": 36
        }
      ]
    },
    {
      "cell_type": "code",
      "source": [
        "'''from sklearn.utils.class_weight import compute_class_weight\n",
        "\n",
        "# Collect all labels into a single 1D numpy array\n",
        "y_labels = np.array([labels.numpy() for _, labels in train_ds.unbatch()])\n",
        "#print(y_labels)\n",
        "\n",
        "\n",
        "class_weights = compute_class_weight(\n",
        "    class_weight=\"balanced\",\n",
        "    classes=np.arange(len(class_names)),\n",
        "    y=y_labels\n",
        ")\n",
        "\n",
        "class_weights = dict(enumerate(class_weights))\n",
        "print(\"Class Weights:\", class_weights)'''\n",
        "\n",
        "\n",
        "'''\n",
        "\n",
        "class_weights = {0: np.float64(0.7556014150943396), 1: np.float64(0.7891009852216748), 2: np.float64(0.8131345177664975),\n",
        "                 3: np.float64(1.0971746575342465), 4: np.float64(1.601875), 5: np.float64(0.8172831632653061),\n",
        "                 6: np.float64(1.8845588235294117), 7: np.float64(0.8009375), 8: np.float64(1.186574074074074),\n",
        "                 9: np.float64(1.0897108843537415), 10: np.float64(0.8949022346368715), 11: np.float64(1.0268429487179487),\n",
        "                 12: np.float64(1.4302455357142858), 13: np.float64(1.1778492647058822), 14: np.float64(0.8257087628865979),\n",
        "                 15: np.float64(0.9708333333333333)}'''\n",
        "\n",
        "import os\n",
        "from sklearn.utils.class_weight import compute_class_weight\n",
        "import numpy as np\n",
        "\n",
        "def count_files_by_class(data_dir, class_names):\n",
        "    \"\"\"Count files in each class folder\"\"\"\n",
        "    class_counts = {}\n",
        "    for class_name in class_names:\n",
        "        class_path = os.path.join(data_dir, class_name)\n",
        "        if os.path.exists(class_path):\n",
        "            class_counts[class_name] = len([f for f in os.listdir(class_path)\n",
        "                                          if f.lower().endswith(('.png', '.jpg', '.jpeg', '.gif', '.bmp'))])\n",
        "    return class_counts\n",
        "\n",
        "# Count files\n",
        "class_counts = count_files_by_class(DATA_DIR, class_names)\n",
        "\n",
        "# Convert to format needed for compute_class_weight\n",
        "y_labels = []\n",
        "for i, class_name in enumerate(class_names):\n",
        "    y_labels.extend([i] * class_counts[class_name])\n",
        "\n",
        "class_weights = compute_class_weight(\n",
        "    class_weight=\"balanced\",\n",
        "    classes=np.arange(len(class_names)),\n",
        "    y=np.array(y_labels)\n",
        ")\n",
        "\n",
        "class_weights = dict(enumerate(class_weights))\n",
        "print(\"Class Weights:\", class_weights)"
      ],
      "metadata": {
        "id": "DgG7R43GE6b0",
        "colab": {
          "base_uri": "https://localhost:8080/"
        },
        "outputId": "31c08ce4-bf56-4cd3-c3e0-5413064e9c01"
      },
      "execution_count": 37,
      "outputs": [
        {
          "output_type": "stream",
          "name": "stdout",
          "text": [
            "Class Weights: {0: np.float64(0.8777472527472527), 1: np.float64(0.9588835534213686), 2: np.float64(0.9128571428571428), 3: np.float64(1.086734693877551), 4: np.float64(0.8984814398200225), 5: np.float64(1.086734693877551), 6: np.float64(0.9056122448979592), 7: np.float64(1.086734693877551), 8: np.float64(1.086734693877551), 9: np.float64(1.0373376623376624), 10: np.float64(1.086734693877551), 11: np.float64(1.086734693877551), 12: np.float64(0.9508928571428571), 13: np.float64(1.032643826761474)}\n"
          ]
        }
      ]
    },
    {
      "cell_type": "code",
      "source": [
        "\n",
        "import tensorflow as tf\n",
        "from tensorflow.keras.applications import ResNet50\n",
        "from tensorflow.keras.applications.resnet50 import preprocess_input\n",
        "from tensorflow.keras.preprocessing.image import ImageDataGenerator, load_img, img_to_array\n",
        "from tensorflow.keras.layers import Dense, GlobalAveragePooling2D, Dropout, BatchNormalization\n",
        "from tensorflow.keras.models import Model, load_model\n",
        "from tensorflow.keras.optimizers import Adam\n",
        "from tensorflow.keras.callbacks import EarlyStopping, ModelCheckpoint, ReduceLROnPlateau\n",
        "from tensorflow.keras.utils import plot_model\n",
        "from tensorflow.keras.regularizers import l2"
      ],
      "metadata": {
        "id": "qJzS3HPKJ6uY"
      },
      "execution_count": 38,
      "outputs": []
    },
    {
      "cell_type": "code",
      "source": [
        "num_classes = len(class_names)"
      ],
      "metadata": {
        "id": "W3jDno4dLM4C"
      },
      "execution_count": 39,
      "outputs": []
    },
    {
      "cell_type": "code",
      "source": [
        "\n",
        "# Load base ResNet50 (pretrained on ImageNet)\n",
        "'''base_model = tf.keras.applications.ResNet50(\n",
        "    include_top=False,  # remove old classifier head\n",
        "    weights=\"imagenet\",\n",
        "    input_shape=(224, 224, 3)\n",
        ")'''"
      ],
      "metadata": {
        "id": "kXgo-vilsd1u",
        "colab": {
          "base_uri": "https://localhost:8080/",
          "height": 54
        },
        "outputId": "7671cdc0-56d3-41ea-a825-ed4b6c20423c"
      },
      "execution_count": 40,
      "outputs": [
        {
          "output_type": "execute_result",
          "data": {
            "text/plain": [
              "'base_model = tf.keras.applications.ResNet50(\\n    include_top=False,  # remove old classifier head\\n    weights=\"imagenet\",\\n    input_shape=(224, 224, 3)\\n)'"
            ],
            "application/vnd.google.colaboratory.intrinsic+json": {
              "type": "string"
            }
          },
          "metadata": {},
          "execution_count": 40
        }
      ]
    },
    {
      "cell_type": "code",
      "source": [
        "def create_breed_classification_model():\n",
        "    \"\"\"\n",
        "    Create transfer learning model using ResNet50 as backbone\n",
        "    ResNet50: 50-layer Residual Network pre-trained on ImageNet\n",
        "    \"\"\"\n",
        "\n",
        "    # Load ResNet50 pre-trained on ImageNet (without top classification layer)\n",
        "    base_model = ResNet50(\n",
        "        weights='imagenet',  # Use ImageNet pre-trained weights\n",
        "        include_top=False,   # Exclude final classification layer\n",
        "        input_shape=(224, 224, 3),  # Input image shape\n",
        "        pooling=None         # We'll add our own pooling\n",
        "    )\n",
        "\n",
        "    # Freeze the base model initially (transfer learning)\n",
        "    base_model.trainable = False\n",
        "\n",
        "    print(f\"ResNet50 base model has {len(base_model.layers)} layers\")\n",
        "    print(f\"Base model output shape: {base_model.output_shape}\")\n",
        "\n",
        "    # Build the complete model\n",
        "\n",
        "    #Creates the \"entrance door\" for our images\n",
        "    inputs = tf.keras.Input(shape=(224, 224, 3))\n",
        "\n",
        "    # Pass through ResNet50 base\n",
        "    x = base_model(inputs, training=False)\n",
        "    # Input: (IMG_SIZE, IMG_SIZE, 3) → ResNet50 → Output: (7, 7, 2048)\n",
        "\n",
        "    # Add custom classification head with MORE regularization\n",
        "\n",
        "    x = GlobalAveragePooling2D(name='global_avg_pooling')(x) # Converts the 3D feature map to a 1D vector; Before: (7, 7, 2048) = 100,352 numbers arranged in grids After: (2048,) = 2048 summary numbers\n",
        "    x = BatchNormalization(name='batch_norm_1')(x) # Normalizes the data to have mean=0 and standard deviation=1\n",
        "    x = Dropout(0.5, name='dropout_1')(x)\n",
        "    # First dense layer with L2 regularization\n",
        "    x = Dense(1024,\n",
        "              activation='relu',\n",
        "              kernel_regularizer=l2(0.01),  # NEW: L2 regularization\n",
        "              name='dense_1')(x)\n",
        "    x = BatchNormalization(name='batch_norm_2')(x)\n",
        "    x = Dropout(0.5, name='dropout_2')(x)\n",
        "\n",
        "    # Second dense layer with L2 regularization\n",
        "    x = Dense(512,\n",
        "              activation='relu',\n",
        "              kernel_regularizer=l2(0.01),\n",
        "              name='dense_2')(x)\n",
        "    x = Dropout(0.3, name='dropout_3')(x)\n",
        "\n",
        "    # Second dense layer\n",
        "    x = Dense(256,\n",
        "              activation='relu',\n",
        "              kernel_regularizer=l2(0.005),\n",
        "              name='dense_3')(x)\n",
        "    x = Dropout(0.2, name='dropout_4')(x)\n",
        "\n",
        "    # Final classification layer\n",
        "    outputs = Dense(num_classes, activation='softmax',\n",
        "                    kernel_regularizer=l2(0.005),\n",
        "                    name='breed_classification',\n",
        "                    dtype='float32')(x)\n",
        "\n",
        "    # Create the model\n",
        "    model = Model(inputs, outputs, name='Cattle_Buffalo_Breed_Classifier')\n",
        "\n",
        "    return model, base_model\n"
      ],
      "metadata": {
        "id": "_6eNClZmt1_u"
      },
      "execution_count": 41,
      "outputs": []
    },
    {
      "cell_type": "code",
      "source": [
        "# Create the model\n",
        "print(\"Building ResNet50-based breed classification model...\")\n",
        "model, base_model = create_breed_classification_model()"
      ],
      "metadata": {
        "id": "qC8Ycjzt0Zzs",
        "colab": {
          "base_uri": "https://localhost:8080/"
        },
        "outputId": "162f14d3-8adf-4c95-ca4f-fd755ef9fdfe"
      },
      "execution_count": 42,
      "outputs": [
        {
          "output_type": "stream",
          "name": "stdout",
          "text": [
            "Building ResNet50-based breed classification model...\n",
            "Downloading data from https://storage.googleapis.com/tensorflow/keras-applications/resnet/resnet50_weights_tf_dim_ordering_tf_kernels_notop.h5\n",
            "\u001b[1m94765736/94765736\u001b[0m \u001b[32m━━━━━━━━━━━━━━━━━━━━\u001b[0m\u001b[37m\u001b[0m \u001b[1m0s\u001b[0m 0us/step\n",
            "ResNet50 base model has 175 layers\n",
            "Base model output shape: (None, 7, 7, 2048)\n"
          ]
        }
      ]
    },
    {
      "cell_type": "code",
      "source": [
        "# Display model architecture\n",
        "model.summary()"
      ],
      "metadata": {
        "id": "NAwSn_-g0dhU",
        "colab": {
          "base_uri": "https://localhost:8080/",
          "height": 606
        },
        "outputId": "0563ec27-0717-4f89-b29f-c2c4cf517636"
      },
      "execution_count": 43,
      "outputs": [
        {
          "output_type": "display_data",
          "data": {
            "text/plain": [
              "\u001b[1mModel: \"Cattle_Buffalo_Breed_Classifier\"\u001b[0m\n"
            ],
            "text/html": [
              "<pre style=\"white-space:pre;overflow-x:auto;line-height:normal;font-family:Menlo,'DejaVu Sans Mono',consolas,'Courier New',monospace\"><span style=\"font-weight: bold\">Model: \"Cattle_Buffalo_Breed_Classifier\"</span>\n",
              "</pre>\n"
            ]
          },
          "metadata": {}
        },
        {
          "output_type": "display_data",
          "data": {
            "text/plain": [
              "┏━━━━━━━━━━━━━━━━━━━━━━━━━━━━━━━━━┳━━━━━━━━━━━━━━━━━━━━━━━━┳━━━━━━━━━━━━━━━┓\n",
              "┃\u001b[1m \u001b[0m\u001b[1mLayer (type)                   \u001b[0m\u001b[1m \u001b[0m┃\u001b[1m \u001b[0m\u001b[1mOutput Shape          \u001b[0m\u001b[1m \u001b[0m┃\u001b[1m \u001b[0m\u001b[1m      Param #\u001b[0m\u001b[1m \u001b[0m┃\n",
              "┡━━━━━━━━━━━━━━━━━━━━━━━━━━━━━━━━━╇━━━━━━━━━━━━━━━━━━━━━━━━╇━━━━━━━━━━━━━━━┩\n",
              "│ input_layer_2 (\u001b[38;5;33mInputLayer\u001b[0m)      │ (\u001b[38;5;45mNone\u001b[0m, \u001b[38;5;34m224\u001b[0m, \u001b[38;5;34m224\u001b[0m, \u001b[38;5;34m3\u001b[0m)    │             \u001b[38;5;34m0\u001b[0m │\n",
              "├─────────────────────────────────┼────────────────────────┼───────────────┤\n",
              "│ resnet50 (\u001b[38;5;33mFunctional\u001b[0m)           │ (\u001b[38;5;45mNone\u001b[0m, \u001b[38;5;34m7\u001b[0m, \u001b[38;5;34m7\u001b[0m, \u001b[38;5;34m2048\u001b[0m)     │    \u001b[38;5;34m23,587,712\u001b[0m │\n",
              "├─────────────────────────────────┼────────────────────────┼───────────────┤\n",
              "│ global_avg_pooling              │ (\u001b[38;5;45mNone\u001b[0m, \u001b[38;5;34m2048\u001b[0m)           │             \u001b[38;5;34m0\u001b[0m │\n",
              "│ (\u001b[38;5;33mGlobalAveragePooling2D\u001b[0m)        │                        │               │\n",
              "├─────────────────────────────────┼────────────────────────┼───────────────┤\n",
              "│ batch_norm_1                    │ (\u001b[38;5;45mNone\u001b[0m, \u001b[38;5;34m2048\u001b[0m)           │         \u001b[38;5;34m8,192\u001b[0m │\n",
              "│ (\u001b[38;5;33mBatchNormalization\u001b[0m)            │                        │               │\n",
              "├─────────────────────────────────┼────────────────────────┼───────────────┤\n",
              "│ dropout_1 (\u001b[38;5;33mDropout\u001b[0m)             │ (\u001b[38;5;45mNone\u001b[0m, \u001b[38;5;34m2048\u001b[0m)           │             \u001b[38;5;34m0\u001b[0m │\n",
              "├─────────────────────────────────┼────────────────────────┼───────────────┤\n",
              "│ dense_1 (\u001b[38;5;33mDense\u001b[0m)                 │ (\u001b[38;5;45mNone\u001b[0m, \u001b[38;5;34m1024\u001b[0m)           │     \u001b[38;5;34m2,098,176\u001b[0m │\n",
              "├─────────────────────────────────┼────────────────────────┼───────────────┤\n",
              "│ batch_norm_2                    │ (\u001b[38;5;45mNone\u001b[0m, \u001b[38;5;34m1024\u001b[0m)           │         \u001b[38;5;34m4,096\u001b[0m │\n",
              "│ (\u001b[38;5;33mBatchNormalization\u001b[0m)            │                        │               │\n",
              "├─────────────────────────────────┼────────────────────────┼───────────────┤\n",
              "│ dropout_2 (\u001b[38;5;33mDropout\u001b[0m)             │ (\u001b[38;5;45mNone\u001b[0m, \u001b[38;5;34m1024\u001b[0m)           │             \u001b[38;5;34m0\u001b[0m │\n",
              "├─────────────────────────────────┼────────────────────────┼───────────────┤\n",
              "│ dense_2 (\u001b[38;5;33mDense\u001b[0m)                 │ (\u001b[38;5;45mNone\u001b[0m, \u001b[38;5;34m512\u001b[0m)            │       \u001b[38;5;34m524,800\u001b[0m │\n",
              "├─────────────────────────────────┼────────────────────────┼───────────────┤\n",
              "│ dropout_3 (\u001b[38;5;33mDropout\u001b[0m)             │ (\u001b[38;5;45mNone\u001b[0m, \u001b[38;5;34m512\u001b[0m)            │             \u001b[38;5;34m0\u001b[0m │\n",
              "├─────────────────────────────────┼────────────────────────┼───────────────┤\n",
              "│ dense_3 (\u001b[38;5;33mDense\u001b[0m)                 │ (\u001b[38;5;45mNone\u001b[0m, \u001b[38;5;34m256\u001b[0m)            │       \u001b[38;5;34m131,328\u001b[0m │\n",
              "├─────────────────────────────────┼────────────────────────┼───────────────┤\n",
              "│ dropout_4 (\u001b[38;5;33mDropout\u001b[0m)             │ (\u001b[38;5;45mNone\u001b[0m, \u001b[38;5;34m256\u001b[0m)            │             \u001b[38;5;34m0\u001b[0m │\n",
              "├─────────────────────────────────┼────────────────────────┼───────────────┤\n",
              "│ breed_classification (\u001b[38;5;33mDense\u001b[0m)    │ (\u001b[38;5;45mNone\u001b[0m, \u001b[38;5;34m14\u001b[0m)             │         \u001b[38;5;34m3,598\u001b[0m │\n",
              "└─────────────────────────────────┴────────────────────────┴───────────────┘\n"
            ],
            "text/html": [
              "<pre style=\"white-space:pre;overflow-x:auto;line-height:normal;font-family:Menlo,'DejaVu Sans Mono',consolas,'Courier New',monospace\">┏━━━━━━━━━━━━━━━━━━━━━━━━━━━━━━━━━┳━━━━━━━━━━━━━━━━━━━━━━━━┳━━━━━━━━━━━━━━━┓\n",
              "┃<span style=\"font-weight: bold\"> Layer (type)                    </span>┃<span style=\"font-weight: bold\"> Output Shape           </span>┃<span style=\"font-weight: bold\">       Param # </span>┃\n",
              "┡━━━━━━━━━━━━━━━━━━━━━━━━━━━━━━━━━╇━━━━━━━━━━━━━━━━━━━━━━━━╇━━━━━━━━━━━━━━━┩\n",
              "│ input_layer_2 (<span style=\"color: #0087ff; text-decoration-color: #0087ff\">InputLayer</span>)      │ (<span style=\"color: #00d7ff; text-decoration-color: #00d7ff\">None</span>, <span style=\"color: #00af00; text-decoration-color: #00af00\">224</span>, <span style=\"color: #00af00; text-decoration-color: #00af00\">224</span>, <span style=\"color: #00af00; text-decoration-color: #00af00\">3</span>)    │             <span style=\"color: #00af00; text-decoration-color: #00af00\">0</span> │\n",
              "├─────────────────────────────────┼────────────────────────┼───────────────┤\n",
              "│ resnet50 (<span style=\"color: #0087ff; text-decoration-color: #0087ff\">Functional</span>)           │ (<span style=\"color: #00d7ff; text-decoration-color: #00d7ff\">None</span>, <span style=\"color: #00af00; text-decoration-color: #00af00\">7</span>, <span style=\"color: #00af00; text-decoration-color: #00af00\">7</span>, <span style=\"color: #00af00; text-decoration-color: #00af00\">2048</span>)     │    <span style=\"color: #00af00; text-decoration-color: #00af00\">23,587,712</span> │\n",
              "├─────────────────────────────────┼────────────────────────┼───────────────┤\n",
              "│ global_avg_pooling              │ (<span style=\"color: #00d7ff; text-decoration-color: #00d7ff\">None</span>, <span style=\"color: #00af00; text-decoration-color: #00af00\">2048</span>)           │             <span style=\"color: #00af00; text-decoration-color: #00af00\">0</span> │\n",
              "│ (<span style=\"color: #0087ff; text-decoration-color: #0087ff\">GlobalAveragePooling2D</span>)        │                        │               │\n",
              "├─────────────────────────────────┼────────────────────────┼───────────────┤\n",
              "│ batch_norm_1                    │ (<span style=\"color: #00d7ff; text-decoration-color: #00d7ff\">None</span>, <span style=\"color: #00af00; text-decoration-color: #00af00\">2048</span>)           │         <span style=\"color: #00af00; text-decoration-color: #00af00\">8,192</span> │\n",
              "│ (<span style=\"color: #0087ff; text-decoration-color: #0087ff\">BatchNormalization</span>)            │                        │               │\n",
              "├─────────────────────────────────┼────────────────────────┼───────────────┤\n",
              "│ dropout_1 (<span style=\"color: #0087ff; text-decoration-color: #0087ff\">Dropout</span>)             │ (<span style=\"color: #00d7ff; text-decoration-color: #00d7ff\">None</span>, <span style=\"color: #00af00; text-decoration-color: #00af00\">2048</span>)           │             <span style=\"color: #00af00; text-decoration-color: #00af00\">0</span> │\n",
              "├─────────────────────────────────┼────────────────────────┼───────────────┤\n",
              "│ dense_1 (<span style=\"color: #0087ff; text-decoration-color: #0087ff\">Dense</span>)                 │ (<span style=\"color: #00d7ff; text-decoration-color: #00d7ff\">None</span>, <span style=\"color: #00af00; text-decoration-color: #00af00\">1024</span>)           │     <span style=\"color: #00af00; text-decoration-color: #00af00\">2,098,176</span> │\n",
              "├─────────────────────────────────┼────────────────────────┼───────────────┤\n",
              "│ batch_norm_2                    │ (<span style=\"color: #00d7ff; text-decoration-color: #00d7ff\">None</span>, <span style=\"color: #00af00; text-decoration-color: #00af00\">1024</span>)           │         <span style=\"color: #00af00; text-decoration-color: #00af00\">4,096</span> │\n",
              "│ (<span style=\"color: #0087ff; text-decoration-color: #0087ff\">BatchNormalization</span>)            │                        │               │\n",
              "├─────────────────────────────────┼────────────────────────┼───────────────┤\n",
              "│ dropout_2 (<span style=\"color: #0087ff; text-decoration-color: #0087ff\">Dropout</span>)             │ (<span style=\"color: #00d7ff; text-decoration-color: #00d7ff\">None</span>, <span style=\"color: #00af00; text-decoration-color: #00af00\">1024</span>)           │             <span style=\"color: #00af00; text-decoration-color: #00af00\">0</span> │\n",
              "├─────────────────────────────────┼────────────────────────┼───────────────┤\n",
              "│ dense_2 (<span style=\"color: #0087ff; text-decoration-color: #0087ff\">Dense</span>)                 │ (<span style=\"color: #00d7ff; text-decoration-color: #00d7ff\">None</span>, <span style=\"color: #00af00; text-decoration-color: #00af00\">512</span>)            │       <span style=\"color: #00af00; text-decoration-color: #00af00\">524,800</span> │\n",
              "├─────────────────────────────────┼────────────────────────┼───────────────┤\n",
              "│ dropout_3 (<span style=\"color: #0087ff; text-decoration-color: #0087ff\">Dropout</span>)             │ (<span style=\"color: #00d7ff; text-decoration-color: #00d7ff\">None</span>, <span style=\"color: #00af00; text-decoration-color: #00af00\">512</span>)            │             <span style=\"color: #00af00; text-decoration-color: #00af00\">0</span> │\n",
              "├─────────────────────────────────┼────────────────────────┼───────────────┤\n",
              "│ dense_3 (<span style=\"color: #0087ff; text-decoration-color: #0087ff\">Dense</span>)                 │ (<span style=\"color: #00d7ff; text-decoration-color: #00d7ff\">None</span>, <span style=\"color: #00af00; text-decoration-color: #00af00\">256</span>)            │       <span style=\"color: #00af00; text-decoration-color: #00af00\">131,328</span> │\n",
              "├─────────────────────────────────┼────────────────────────┼───────────────┤\n",
              "│ dropout_4 (<span style=\"color: #0087ff; text-decoration-color: #0087ff\">Dropout</span>)             │ (<span style=\"color: #00d7ff; text-decoration-color: #00d7ff\">None</span>, <span style=\"color: #00af00; text-decoration-color: #00af00\">256</span>)            │             <span style=\"color: #00af00; text-decoration-color: #00af00\">0</span> │\n",
              "├─────────────────────────────────┼────────────────────────┼───────────────┤\n",
              "│ breed_classification (<span style=\"color: #0087ff; text-decoration-color: #0087ff\">Dense</span>)    │ (<span style=\"color: #00d7ff; text-decoration-color: #00d7ff\">None</span>, <span style=\"color: #00af00; text-decoration-color: #00af00\">14</span>)             │         <span style=\"color: #00af00; text-decoration-color: #00af00\">3,598</span> │\n",
              "└─────────────────────────────────┴────────────────────────┴───────────────┘\n",
              "</pre>\n"
            ]
          },
          "metadata": {}
        },
        {
          "output_type": "display_data",
          "data": {
            "text/plain": [
              "\u001b[1m Total params: \u001b[0m\u001b[38;5;34m26,357,902\u001b[0m (100.55 MB)\n"
            ],
            "text/html": [
              "<pre style=\"white-space:pre;overflow-x:auto;line-height:normal;font-family:Menlo,'DejaVu Sans Mono',consolas,'Courier New',monospace\"><span style=\"font-weight: bold\"> Total params: </span><span style=\"color: #00af00; text-decoration-color: #00af00\">26,357,902</span> (100.55 MB)\n",
              "</pre>\n"
            ]
          },
          "metadata": {}
        },
        {
          "output_type": "display_data",
          "data": {
            "text/plain": [
              "\u001b[1m Trainable params: \u001b[0m\u001b[38;5;34m2,764,046\u001b[0m (10.54 MB)\n"
            ],
            "text/html": [
              "<pre style=\"white-space:pre;overflow-x:auto;line-height:normal;font-family:Menlo,'DejaVu Sans Mono',consolas,'Courier New',monospace\"><span style=\"font-weight: bold\"> Trainable params: </span><span style=\"color: #00af00; text-decoration-color: #00af00\">2,764,046</span> (10.54 MB)\n",
              "</pre>\n"
            ]
          },
          "metadata": {}
        },
        {
          "output_type": "display_data",
          "data": {
            "text/plain": [
              "\u001b[1m Non-trainable params: \u001b[0m\u001b[38;5;34m23,593,856\u001b[0m (90.00 MB)\n"
            ],
            "text/html": [
              "<pre style=\"white-space:pre;overflow-x:auto;line-height:normal;font-family:Menlo,'DejaVu Sans Mono',consolas,'Courier New',monospace\"><span style=\"font-weight: bold\"> Non-trainable params: </span><span style=\"color: #00af00; text-decoration-color: #00af00\">23,593,856</span> (90.00 MB)\n",
              "</pre>\n"
            ]
          },
          "metadata": {}
        }
      ]
    },
    {
      "cell_type": "code",
      "source": [
        "# Visualize model architecture\n",
        "#plot_model(model, to_file='model_architecture.png', show_shapes=True, show_layer_names=True)\n"
      ],
      "metadata": {
        "id": "02a1SSIF_BIT"
      },
      "execution_count": 44,
      "outputs": []
    },
    {
      "cell_type": "code",
      "source": [
        "# Compile model with appropriate metrics\n",
        "\n",
        "optimizer = tf.keras.optimizers.Adam(learning_rate=0.00005)\n",
        "optimizer = mixed_precision.LossScaleOptimizer(optimizer)\n",
        "\n",
        "model.compile(\n",
        "    optimizer=optimizer,\n",
        "    loss='sparse_categorical_crossentropy',\n",
        "    metrics=['accuracy']\n",
        ")\n",
        "\n",
        "print(\"Model compiled successfully!\")"
      ],
      "metadata": {
        "id": "FkDqXfY6_aZC",
        "colab": {
          "base_uri": "https://localhost:8080/"
        },
        "outputId": "8bec0bad-f6e2-4560-d782-8d13bab05e1a"
      },
      "execution_count": 45,
      "outputs": [
        {
          "output_type": "stream",
          "name": "stdout",
          "text": [
            "Model compiled successfully!\n"
          ]
        }
      ]
    },
    {
      "cell_type": "code",
      "source": [
        "# Create callbacks for better training\n",
        "callbacks = [\n",
        "    # Early stopping to prevent overfitting\n",
        "    EarlyStopping(\n",
        "        monitor='val_loss',\n",
        "        patience=5,\n",
        "        restore_best_weights=True,\n",
        "        verbose=1,\n",
        "        mode='min',\n",
        "        min_delta=0.005\n",
        "    ),\n",
        "\n",
        "    # Save best model\n",
        "    ModelCheckpoint(\n",
        "        '/content/drive/MyDrive/SIH/best_improved_model.keras', # use /content/drive/MyDrive/SIH/models/best_improved_model.keras\n",
        "        monitor='val_accuracy',\n",
        "        save_best_only=True,\n",
        "        save_weights_only=False,\n",
        "        verbose=1,\n",
        "        mode='max'\n",
        "    ),\n",
        "\n",
        "    # Reduce learning rate when stuck\n",
        "    # More aggressive learning rate reduction\n",
        "    ReduceLROnPlateau(\n",
        "        monitor='val_loss',\n",
        "        factor=0.6,\n",
        "        patience=4,\n",
        "        min_lr=1e-6,  # Lower minimum LR\n",
        "        verbose=1,\n",
        "        mode='min'\n",
        "    )\n",
        "]"
      ],
      "metadata": {
        "id": "Rtg_LNiYANv1"
      },
      "execution_count": 46,
      "outputs": []
    },
    {
      "cell_type": "code",
      "source": [
        "#!rm -f /tmp/cattle_train.cache* /tmp/cattle_val.cache* /tmp/cattle_test.cache*\n"
      ],
      "metadata": {
        "id": "hHLwqtRtCi0N"
      },
      "execution_count": 47,
      "outputs": []
    },
    {
      "cell_type": "code",
      "source": [
        "'''# Solution 1: Clear cache files and restart\n",
        "import os\n",
        "import glob\n",
        "\n",
        "# Clear all cache files\n",
        "cache_files = glob.glob(\"/tmp/cattle_*.cache*\")\n",
        "lock_files = glob.glob(\"/tmp/cattle_*.lockfile\")\n",
        "\n",
        "print(\"Removing cache files...\")\n",
        "for file in cache_files + lock_files:\n",
        "    try:\n",
        "        os.remove(file)\n",
        "        print(f\"Removed: {file}\")\n",
        "    except FileNotFoundError:\n",
        "        print(f\"File not found: {file}\")\n",
        "    except Exception as e:\n",
        "        print(f\"Error removing {file}: {e}\")\n",
        "\n",
        "print(\"Cache files cleared!\")'''"
      ],
      "metadata": {
        "colab": {
          "base_uri": "https://localhost:8080/",
          "height": 90
        },
        "id": "6F-EPkzRada2",
        "outputId": "d1171b08-ad61-418f-a915-18537e4901f7"
      },
      "execution_count": 48,
      "outputs": [
        {
          "output_type": "execute_result",
          "data": {
            "text/plain": [
              "'# Solution 1: Clear cache files and restart\\nimport os\\nimport glob\\n\\n# Clear all cache files\\ncache_files = glob.glob(\"/tmp/cattle_*.cache*\")\\nlock_files = glob.glob(\"/tmp/cattle_*.lockfile\")\\n\\nprint(\"Removing cache files...\")\\nfor file in cache_files + lock_files:\\n    try:\\n        os.remove(file)\\n        print(f\"Removed: {file}\")\\n    except FileNotFoundError:\\n        print(f\"File not found: {file}\")\\n    except Exception as e:\\n        print(f\"Error removing {file}: {e}\")\\n\\nprint(\"Cache files cleared!\")'"
            ],
            "application/vnd.google.colaboratory.intrinsic+json": {
              "type": "string"
            }
          },
          "metadata": {},
          "execution_count": 48
        }
      ]
    },
    {
      "cell_type": "markdown",
      "source": [
        "PHASE 1 TRAINING (FROZEN BASE MODEL)"
      ],
      "metadata": {
        "id": "3Y73XojYAe0z"
      }
    },
    {
      "cell_type": "code",
      "source": [
        "# Train with frozen base model\n",
        "history_phase1 = model.fit(\n",
        "    train_ds,\n",
        "    epochs=30,\n",
        "    validation_data=val_ds,\n",
        "    callbacks=callbacks,\n",
        "    verbose=1,\n",
        "    class_weight=class_weights,\n",
        ")\n",
        "\n",
        "print(\"Phase 1 training completed!\")"
      ],
      "metadata": {
        "id": "MjGfvPinAhcr",
        "colab": {
          "base_uri": "https://localhost:8080/"
        },
        "outputId": "d3eb3416-0875-44ca-a495-5b650831e2ea"
      },
      "execution_count": 49,
      "outputs": [
        {
          "output_type": "stream",
          "name": "stdout",
          "text": [
            "Epoch 1/30\n",
            "\u001b[1m159/160\u001b[0m \u001b[32m━━━━━━━━━━━━━━━━━━━\u001b[0m\u001b[37m━\u001b[0m \u001b[1m1s\u001b[0m 1s/step - accuracy: 0.0770 - loss: 25.6390\n",
            "Epoch 1: val_accuracy improved from -inf to 0.28213, saving model to /content/drive/MyDrive/SIH/best_improved_model.keras\n",
            "\u001b[1m160/160\u001b[0m \u001b[32m━━━━━━━━━━━━━━━━━━━━\u001b[0m\u001b[37m\u001b[0m \u001b[1m607s\u001b[0m 2s/step - accuracy: 0.0771 - loss: 25.6356 - val_accuracy: 0.2821 - val_loss: 24.2368 - learning_rate: 5.0000e-05\n",
            "Epoch 2/30\n",
            "\u001b[1m159/160\u001b[0m \u001b[32m━━━━━━━━━━━━━━━━━━━\u001b[0m\u001b[37m━\u001b[0m \u001b[1m0s\u001b[0m 21ms/step - accuracy: 0.1487 - loss: 24.5787\n",
            "Epoch 2: val_accuracy improved from 0.28213 to 0.40125, saving model to /content/drive/MyDrive/SIH/best_improved_model.keras\n",
            "\u001b[1m160/160\u001b[0m \u001b[32m━━━━━━━━━━━━━━━━━━━━\u001b[0m\u001b[37m\u001b[0m \u001b[1m30s\u001b[0m 32ms/step - accuracy: 0.1487 - loss: 24.5770 - val_accuracy: 0.4013 - val_loss: 23.5422 - learning_rate: 5.0000e-05\n",
            "Epoch 3/30\n",
            "\u001b[1m160/160\u001b[0m \u001b[32m━━━━━━━━━━━━━━━━━━━━\u001b[0m\u001b[37m\u001b[0m \u001b[1m0s\u001b[0m 19ms/step - accuracy: 0.1947 - loss: 23.9350\n",
            "Epoch 3: val_accuracy improved from 0.40125 to 0.47649, saving model to /content/drive/MyDrive/SIH/best_improved_model.keras\n",
            "\u001b[1m160/160\u001b[0m \u001b[32m━━━━━━━━━━━━━━━━━━━━\u001b[0m\u001b[37m\u001b[0m \u001b[1m6s\u001b[0m 31ms/step - accuracy: 0.1949 - loss: 23.9339 - val_accuracy: 0.4765 - val_loss: 22.9013 - learning_rate: 5.0000e-05\n",
            "Epoch 4/30\n",
            "\u001b[1m160/160\u001b[0m \u001b[32m━━━━━━━━━━━━━━━━━━━━\u001b[0m\u001b[37m\u001b[0m \u001b[1m0s\u001b[0m 20ms/step - accuracy: 0.2409 - loss: 23.2773\n",
            "Epoch 4: val_accuracy improved from 0.47649 to 0.54232, saving model to /content/drive/MyDrive/SIH/best_improved_model.keras\n",
            "\u001b[1m160/160\u001b[0m \u001b[32m━━━━━━━━━━━━━━━━━━━━\u001b[0m\u001b[37m\u001b[0m \u001b[1m12s\u001b[0m 40ms/step - accuracy: 0.2411 - loss: 23.2762 - val_accuracy: 0.5423 - val_loss: 22.2871 - learning_rate: 5.0000e-05\n",
            "Epoch 5/30\n",
            "\u001b[1m160/160\u001b[0m \u001b[32m━━━━━━━━━━━━━━━━━━━━\u001b[0m\u001b[37m\u001b[0m \u001b[1m0s\u001b[0m 19ms/step - accuracy: 0.2815 - loss: 22.7088\n",
            "Epoch 5: val_accuracy improved from 0.54232 to 0.57367, saving model to /content/drive/MyDrive/SIH/best_improved_model.keras\n",
            "\u001b[1m160/160\u001b[0m \u001b[32m━━━━━━━━━━━━━━━━━━━━\u001b[0m\u001b[37m\u001b[0m \u001b[1m6s\u001b[0m 33ms/step - accuracy: 0.2815 - loss: 22.7078 - val_accuracy: 0.5737 - val_loss: 21.7016 - learning_rate: 5.0000e-05\n",
            "Epoch 6/30\n",
            "\u001b[1m158/160\u001b[0m \u001b[32m━━━━━━━━━━━━━━━━━━━\u001b[0m\u001b[37m━\u001b[0m \u001b[1m0s\u001b[0m 20ms/step - accuracy: 0.3375 - loss: 22.0623\n",
            "Epoch 6: val_accuracy improved from 0.57367 to 0.61755, saving model to /content/drive/MyDrive/SIH/best_improved_model.keras\n",
            "\u001b[1m160/160\u001b[0m \u001b[32m━━━━━━━━━━━━━━━━━━━━\u001b[0m\u001b[37m\u001b[0m \u001b[1m6s\u001b[0m 32ms/step - accuracy: 0.3375 - loss: 22.0594 - val_accuracy: 0.6176 - val_loss: 21.1306 - learning_rate: 5.0000e-05\n",
            "Epoch 7/30\n",
            "\u001b[1m160/160\u001b[0m \u001b[32m━━━━━━━━━━━━━━━━━━━━\u001b[0m\u001b[37m\u001b[0m \u001b[1m0s\u001b[0m 19ms/step - accuracy: 0.3701 - loss: 21.4579\n",
            "Epoch 7: val_accuracy improved from 0.61755 to 0.62696, saving model to /content/drive/MyDrive/SIH/best_improved_model.keras\n",
            "\u001b[1m160/160\u001b[0m \u001b[32m━━━━━━━━━━━━━━━━━━━━\u001b[0m\u001b[37m\u001b[0m \u001b[1m6s\u001b[0m 31ms/step - accuracy: 0.3702 - loss: 21.4570 - val_accuracy: 0.6270 - val_loss: 20.5846 - learning_rate: 5.0000e-05\n",
            "Epoch 8/30\n",
            "\u001b[1m159/160\u001b[0m \u001b[32m━━━━━━━━━━━━━━━━━━━\u001b[0m\u001b[37m━\u001b[0m \u001b[1m0s\u001b[0m 21ms/step - accuracy: 0.3960 - loss: 20.9257\n",
            "Epoch 8: val_accuracy improved from 0.62696 to 0.63950, saving model to /content/drive/MyDrive/SIH/best_improved_model.keras\n",
            "\u001b[1m160/160\u001b[0m \u001b[32m━━━━━━━━━━━━━━━━━━━━\u001b[0m\u001b[37m\u001b[0m \u001b[1m11s\u001b[0m 36ms/step - accuracy: 0.3960 - loss: 20.9241 - val_accuracy: 0.6395 - val_loss: 20.0461 - learning_rate: 5.0000e-05\n",
            "Epoch 9/30\n",
            "\u001b[1m158/160\u001b[0m \u001b[32m━━━━━━━━━━━━━━━━━━━\u001b[0m\u001b[37m━\u001b[0m \u001b[1m0s\u001b[0m 19ms/step - accuracy: 0.4294 - loss: 20.3447\n",
            "Epoch 9: val_accuracy improved from 0.63950 to 0.64577, saving model to /content/drive/MyDrive/SIH/best_improved_model.keras\n",
            "\u001b[1m160/160\u001b[0m \u001b[32m━━━━━━━━━━━━━━━━━━━━\u001b[0m\u001b[37m\u001b[0m \u001b[1m9s\u001b[0m 30ms/step - accuracy: 0.4293 - loss: 20.3426 - val_accuracy: 0.6458 - val_loss: 19.5357 - learning_rate: 5.0000e-05\n",
            "Epoch 10/30\n",
            "\u001b[1m159/160\u001b[0m \u001b[32m━━━━━━━━━━━━━━━━━━━\u001b[0m\u001b[37m━\u001b[0m \u001b[1m0s\u001b[0m 19ms/step - accuracy: 0.4554 - loss: 19.8447\n",
            "Epoch 10: val_accuracy improved from 0.64577 to 0.65204, saving model to /content/drive/MyDrive/SIH/best_improved_model.keras\n",
            "\u001b[1m160/160\u001b[0m \u001b[32m━━━━━━━━━━━━━━━━━━━━\u001b[0m\u001b[37m\u001b[0m \u001b[1m6s\u001b[0m 33ms/step - accuracy: 0.4552 - loss: 19.8437 - val_accuracy: 0.6520 - val_loss: 19.0410 - learning_rate: 5.0000e-05\n",
            "Epoch 11/30\n",
            "\u001b[1m159/160\u001b[0m \u001b[32m━━━━━━━━━━━━━━━━━━━\u001b[0m\u001b[37m━\u001b[0m \u001b[1m0s\u001b[0m 19ms/step - accuracy: 0.4808 - loss: 19.3458\n",
            "Epoch 11: val_accuracy did not improve from 0.65204\n",
            "\u001b[1m160/160\u001b[0m \u001b[32m━━━━━━━━━━━━━━━━━━━━\u001b[0m\u001b[37m\u001b[0m \u001b[1m5s\u001b[0m 24ms/step - accuracy: 0.4809 - loss: 19.3443 - val_accuracy: 0.6520 - val_loss: 18.5521 - learning_rate: 5.0000e-05\n",
            "Epoch 12/30\n",
            "\u001b[1m160/160\u001b[0m \u001b[32m━━━━━━━━━━━━━━━━━━━━\u001b[0m\u001b[37m\u001b[0m \u001b[1m0s\u001b[0m 19ms/step - accuracy: 0.4954 - loss: 18.8595\n",
            "Epoch 12: val_accuracy improved from 0.65204 to 0.66144, saving model to /content/drive/MyDrive/SIH/best_improved_model.keras\n",
            "\u001b[1m160/160\u001b[0m \u001b[32m━━━━━━━━━━━━━━━━━━━━\u001b[0m\u001b[37m\u001b[0m \u001b[1m8s\u001b[0m 43ms/step - accuracy: 0.4953 - loss: 18.8588 - val_accuracy: 0.6614 - val_loss: 18.0877 - learning_rate: 5.0000e-05\n",
            "Epoch 13/30\n",
            "\u001b[1m160/160\u001b[0m \u001b[32m━━━━━━━━━━━━━━━━━━━━\u001b[0m\u001b[37m\u001b[0m \u001b[1m0s\u001b[0m 20ms/step - accuracy: 0.5226 - loss: 18.3019\n",
            "Epoch 13: val_accuracy improved from 0.66144 to 0.66458, saving model to /content/drive/MyDrive/SIH/best_improved_model.keras\n",
            "\u001b[1m160/160\u001b[0m \u001b[32m━━━━━━━━━━━━━━━━━━━━\u001b[0m\u001b[37m\u001b[0m \u001b[1m6s\u001b[0m 30ms/step - accuracy: 0.5226 - loss: 18.3013 - val_accuracy: 0.6646 - val_loss: 17.6256 - learning_rate: 5.0000e-05\n",
            "Epoch 14/30\n",
            "\u001b[1m158/160\u001b[0m \u001b[32m━━━━━━━━━━━━━━━━━━━\u001b[0m\u001b[37m━\u001b[0m \u001b[1m0s\u001b[0m 19ms/step - accuracy: 0.5223 - loss: 17.8892\n",
            "Epoch 14: val_accuracy improved from 0.66458 to 0.66771, saving model to /content/drive/MyDrive/SIH/best_improved_model.keras\n",
            "\u001b[1m160/160\u001b[0m \u001b[32m━━━━━━━━━━━━━━━━━━━━\u001b[0m\u001b[37m\u001b[0m \u001b[1m5s\u001b[0m 31ms/step - accuracy: 0.5225 - loss: 17.8867 - val_accuracy: 0.6677 - val_loss: 17.1702 - learning_rate: 5.0000e-05\n",
            "Epoch 15/30\n",
            "\u001b[1m159/160\u001b[0m \u001b[32m━━━━━━━━━━━━━━━━━━━\u001b[0m\u001b[37m━\u001b[0m \u001b[1m0s\u001b[0m 21ms/step - accuracy: 0.5413 - loss: 17.3861\n",
            "Epoch 15: val_accuracy did not improve from 0.66771\n",
            "\u001b[1m160/160\u001b[0m \u001b[32m━━━━━━━━━━━━━━━━━━━━\u001b[0m\u001b[37m\u001b[0m \u001b[1m9s\u001b[0m 25ms/step - accuracy: 0.5413 - loss: 17.3848 - val_accuracy: 0.6677 - val_loss: 16.7312 - learning_rate: 5.0000e-05\n",
            "Epoch 16/30\n",
            "\u001b[1m160/160\u001b[0m \u001b[32m━━━━━━━━━━━━━━━━━━━━\u001b[0m\u001b[37m\u001b[0m \u001b[1m0s\u001b[0m 20ms/step - accuracy: 0.5839 - loss: 16.8956\n",
            "Epoch 16: val_accuracy improved from 0.66771 to 0.68339, saving model to /content/drive/MyDrive/SIH/best_improved_model.keras\n",
            "\u001b[1m160/160\u001b[0m \u001b[32m━━━━━━━━━━━━━━━━━━━━\u001b[0m\u001b[37m\u001b[0m \u001b[1m6s\u001b[0m 33ms/step - accuracy: 0.5838 - loss: 16.8950 - val_accuracy: 0.6834 - val_loss: 16.2888 - learning_rate: 5.0000e-05\n",
            "Epoch 17/30\n",
            "\u001b[1m159/160\u001b[0m \u001b[32m━━━━━━━━━━━━━━━━━━━\u001b[0m\u001b[37m━\u001b[0m \u001b[1m0s\u001b[0m 19ms/step - accuracy: 0.5862 - loss: 16.3900\n",
            "Epoch 17: val_accuracy improved from 0.68339 to 0.68652, saving model to /content/drive/MyDrive/SIH/best_improved_model.keras\n",
            "\u001b[1m160/160\u001b[0m \u001b[32m━━━━━━━━━━━━━━━━━━━━\u001b[0m\u001b[37m\u001b[0m \u001b[1m6s\u001b[0m 31ms/step - accuracy: 0.5860 - loss: 16.3891 - val_accuracy: 0.6865 - val_loss: 15.8617 - learning_rate: 5.0000e-05\n",
            "Epoch 18/30\n",
            "\u001b[1m158/160\u001b[0m \u001b[32m━━━━━━━━━━━━━━━━━━━\u001b[0m\u001b[37m━\u001b[0m \u001b[1m0s\u001b[0m 20ms/step - accuracy: 0.5832 - loss: 15.9879\n",
            "Epoch 18: val_accuracy did not improve from 0.68652\n",
            "\u001b[1m160/160\u001b[0m \u001b[32m━━━━━━━━━━━━━━━━━━━━\u001b[0m\u001b[37m\u001b[0m \u001b[1m4s\u001b[0m 23ms/step - accuracy: 0.5833 - loss: 15.9861 - val_accuracy: 0.6771 - val_loss: 15.4401 - learning_rate: 5.0000e-05\n",
            "Epoch 19/30\n",
            "\u001b[1m159/160\u001b[0m \u001b[32m━━━━━━━━━━━━━━━━━━━\u001b[0m\u001b[37m━\u001b[0m \u001b[1m0s\u001b[0m 22ms/step - accuracy: 0.5870 - loss: 15.5694\n",
            "Epoch 19: val_accuracy did not improve from 0.68652\n",
            "\u001b[1m160/160\u001b[0m \u001b[32m━━━━━━━━━━━━━━━━━━━━\u001b[0m\u001b[37m\u001b[0m \u001b[1m5s\u001b[0m 25ms/step - accuracy: 0.5871 - loss: 15.5681 - val_accuracy: 0.6865 - val_loss: 15.0252 - learning_rate: 5.0000e-05\n",
            "Epoch 20/30\n",
            "\u001b[1m160/160\u001b[0m \u001b[32m━━━━━━━━━━━━━━━━━━━━\u001b[0m\u001b[37m\u001b[0m \u001b[1m0s\u001b[0m 20ms/step - accuracy: 0.6146 - loss: 15.1226\n",
            "Epoch 20: val_accuracy improved from 0.68652 to 0.68966, saving model to /content/drive/MyDrive/SIH/best_improved_model.keras\n",
            "\u001b[1m160/160\u001b[0m \u001b[32m━━━━━━━━━━━━━━━━━━━━\u001b[0m\u001b[37m\u001b[0m \u001b[1m6s\u001b[0m 31ms/step - accuracy: 0.6146 - loss: 15.1220 - val_accuracy: 0.6897 - val_loss: 14.6274 - learning_rate: 5.0000e-05\n",
            "Epoch 21/30\n",
            "\u001b[1m159/160\u001b[0m \u001b[32m━━━━━━━━━━━━━━━━━━━\u001b[0m\u001b[37m━\u001b[0m \u001b[1m0s\u001b[0m 20ms/step - accuracy: 0.6330 - loss: 14.7056\n",
            "Epoch 21: val_accuracy improved from 0.68966 to 0.69906, saving model to /content/drive/MyDrive/SIH/best_improved_model.keras\n",
            "\u001b[1m160/160\u001b[0m \u001b[32m━━━━━━━━━━━━━━━━━━━━\u001b[0m\u001b[37m\u001b[0m \u001b[1m10s\u001b[0m 30ms/step - accuracy: 0.6331 - loss: 14.7044 - val_accuracy: 0.6991 - val_loss: 14.2390 - learning_rate: 5.0000e-05\n",
            "Epoch 22/30\n",
            "\u001b[1m159/160\u001b[0m \u001b[32m━━━━━━━━━━━━━━━━━━━\u001b[0m\u001b[37m━\u001b[0m \u001b[1m0s\u001b[0m 19ms/step - accuracy: 0.6370 - loss: 14.2543\n",
            "Epoch 22: val_accuracy improved from 0.69906 to 0.70533, saving model to /content/drive/MyDrive/SIH/best_improved_model.keras\n",
            "\u001b[1m160/160\u001b[0m \u001b[32m━━━━━━━━━━━━━━━━━━━━\u001b[0m\u001b[37m\u001b[0m \u001b[1m6s\u001b[0m 30ms/step - accuracy: 0.6371 - loss: 14.2535 - val_accuracy: 0.7053 - val_loss: 13.8614 - learning_rate: 5.0000e-05\n",
            "Epoch 23/30\n",
            "\u001b[1m160/160\u001b[0m \u001b[32m━━━━━━━━━━━━━━━━━━━━\u001b[0m\u001b[37m\u001b[0m \u001b[1m0s\u001b[0m 22ms/step - accuracy: 0.6709 - loss: 13.8501\n",
            "Epoch 23: val_accuracy did not improve from 0.70533\n",
            "\u001b[1m160/160\u001b[0m \u001b[32m━━━━━━━━━━━━━━━━━━━━\u001b[0m\u001b[37m\u001b[0m \u001b[1m5s\u001b[0m 25ms/step - accuracy: 0.6708 - loss: 13.8496 - val_accuracy: 0.7053 - val_loss: 13.4879 - learning_rate: 5.0000e-05\n",
            "Epoch 24/30\n",
            "\u001b[1m159/160\u001b[0m \u001b[32m━━━━━━━━━━━━━━━━━━━\u001b[0m\u001b[37m━\u001b[0m \u001b[1m0s\u001b[0m 19ms/step - accuracy: 0.6627 - loss: 13.5043\n",
            "Epoch 24: val_accuracy did not improve from 0.70533\n",
            "\u001b[1m160/160\u001b[0m \u001b[32m━━━━━━━━━━━━━━━━━━━━\u001b[0m\u001b[37m\u001b[0m \u001b[1m4s\u001b[0m 24ms/step - accuracy: 0.6628 - loss: 13.5029 - val_accuracy: 0.7022 - val_loss: 13.1157 - learning_rate: 5.0000e-05\n",
            "Epoch 25/30\n",
            "\u001b[1m158/160\u001b[0m \u001b[32m━━━━━━━━━━━━━━━━━━━\u001b[0m\u001b[37m━\u001b[0m \u001b[1m0s\u001b[0m 21ms/step - accuracy: 0.6788 - loss: 13.0906\n",
            "Epoch 25: val_accuracy did not improve from 0.70533\n",
            "\u001b[1m160/160\u001b[0m \u001b[32m━━━━━━━━━━━━━━━━━━━━\u001b[0m\u001b[37m\u001b[0m \u001b[1m6s\u001b[0m 27ms/step - accuracy: 0.6789 - loss: 13.0888 - val_accuracy: 0.7022 - val_loss: 12.7640 - learning_rate: 5.0000e-05\n",
            "Epoch 26/30\n",
            "\u001b[1m158/160\u001b[0m \u001b[32m━━━━━━━━━━━━━━━━━━━\u001b[0m\u001b[37m━\u001b[0m \u001b[1m0s\u001b[0m 21ms/step - accuracy: 0.6991 - loss: 12.6913\n",
            "Epoch 26: val_accuracy did not improve from 0.70533\n",
            "\u001b[1m160/160\u001b[0m \u001b[32m━━━━━━━━━━━━━━━━━━━━\u001b[0m\u001b[37m\u001b[0m \u001b[1m5s\u001b[0m 25ms/step - accuracy: 0.6990 - loss: 12.6901 - val_accuracy: 0.7022 - val_loss: 12.4241 - learning_rate: 5.0000e-05\n",
            "Epoch 27/30\n",
            "\u001b[1m159/160\u001b[0m \u001b[32m━━━━━━━━━━━━━━━━━━━\u001b[0m\u001b[37m━\u001b[0m \u001b[1m0s\u001b[0m 19ms/step - accuracy: 0.7109 - loss: 12.3278\n",
            "Epoch 27: val_accuracy did not improve from 0.70533\n",
            "\u001b[1m160/160\u001b[0m \u001b[32m━━━━━━━━━━━━━━━━━━━━\u001b[0m\u001b[37m\u001b[0m \u001b[1m5s\u001b[0m 23ms/step - accuracy: 0.7109 - loss: 12.3269 - val_accuracy: 0.7053 - val_loss: 12.0771 - learning_rate: 5.0000e-05\n",
            "Epoch 28/30\n",
            "\u001b[1m160/160\u001b[0m \u001b[32m━━━━━━━━━━━━━━━━━━━━\u001b[0m\u001b[37m\u001b[0m \u001b[1m0s\u001b[0m 19ms/step - accuracy: 0.7261 - loss: 11.9490\n",
            "Epoch 28: val_accuracy improved from 0.70533 to 0.71473, saving model to /content/drive/MyDrive/SIH/best_improved_model.keras\n",
            "\u001b[1m160/160\u001b[0m \u001b[32m━━━━━━━━━━━━━━━━━━━━\u001b[0m\u001b[37m\u001b[0m \u001b[1m6s\u001b[0m 33ms/step - accuracy: 0.7261 - loss: 11.9485 - val_accuracy: 0.7147 - val_loss: 11.7480 - learning_rate: 5.0000e-05\n",
            "Epoch 29/30\n",
            "\u001b[1m158/160\u001b[0m \u001b[32m━━━━━━━━━━━━━━━━━━━\u001b[0m\u001b[37m━\u001b[0m \u001b[1m0s\u001b[0m 19ms/step - accuracy: 0.7153 - loss: 11.6630\n",
            "Epoch 29: val_accuracy did not improve from 0.71473\n",
            "\u001b[1m160/160\u001b[0m \u001b[32m━━━━━━━━━━━━━━━━━━━━\u001b[0m\u001b[37m\u001b[0m \u001b[1m4s\u001b[0m 23ms/step - accuracy: 0.7155 - loss: 11.6606 - val_accuracy: 0.7053 - val_loss: 11.4337 - learning_rate: 5.0000e-05\n",
            "Epoch 30/30\n",
            "\u001b[1m160/160\u001b[0m \u001b[32m━━━━━━━━━━━━━━━━━━━━\u001b[0m\u001b[37m\u001b[0m \u001b[1m0s\u001b[0m 19ms/step - accuracy: 0.7351 - loss: 11.2821\n",
            "Epoch 30: val_accuracy did not improve from 0.71473\n",
            "\u001b[1m160/160\u001b[0m \u001b[32m━━━━━━━━━━━━━━━━━━━━\u001b[0m\u001b[37m\u001b[0m \u001b[1m5s\u001b[0m 22ms/step - accuracy: 0.7351 - loss: 11.2817 - val_accuracy: 0.7085 - val_loss: 11.1287 - learning_rate: 5.0000e-05\n",
            "Restoring model weights from the end of the best epoch: 30.\n",
            "Phase 1 training completed!\n"
          ]
        }
      ]
    },
    {
      "cell_type": "code",
      "source": [
        "test_loss, test_acc = model.evaluate(test_ds)\n",
        "print(f\"Test Accuracy: {test_acc:.2f}\")"
      ],
      "metadata": {
        "id": "zq7l9NllBwxB",
        "colab": {
          "base_uri": "https://localhost:8080/"
        },
        "outputId": "25961a57-e13a-4e01-cb20-599384117dff"
      },
      "execution_count": 50,
      "outputs": [
        {
          "output_type": "stream",
          "name": "stdout",
          "text": [
            "\u001b[1m20/20\u001b[0m \u001b[32m━━━━━━━━━━━━━━━━━━━━\u001b[0m\u001b[37m\u001b[0m \u001b[1m5s\u001b[0m 134ms/step - accuracy: 0.6817 - loss: 11.1335\n",
            "Test Accuracy: 0.72\n"
          ]
        }
      ]
    },
    {
      "cell_type": "markdown",
      "source": [
        "PHASE 2 TRAINING (FINE-TUNING)"
      ],
      "metadata": {
        "id": "ZHaWxvPnGq4n"
      }
    },
    {
      "cell_type": "code",
      "source": [
        "# Unfreeze the base model for fine-tuning\n",
        "base_model.trainable = True\n",
        "\n",
        "# Only unfreeze the last 15 layers (more conservative than your layer 100)\n",
        "fine_tune_at = len(base_model.layers) - 35\n",
        "\n",
        "for layer in base_model.layers[:fine_tune_at]:\n",
        "    layer.trainable = False\n",
        "\n",
        "print(f\"Unfrozen layers: {len([layer for layer in base_model.layers if layer.trainable])}\")\n",
        "\n",
        "# Recompile with lower learning rate for fine-tuning\n",
        "model.compile(\n",
        "    optimizer=Adam(learning_rate=0.00001),\n",
        "    loss='sparse_categorical_crossentropy',\n",
        "    metrics=['accuracy']\n",
        ")"
      ],
      "metadata": {
        "id": "BKCROh3NGrel",
        "colab": {
          "base_uri": "https://localhost:8080/"
        },
        "outputId": "adf90979-bf0f-4dc7-dd75-bc2885f524c6"
      },
      "execution_count": 51,
      "outputs": [
        {
          "output_type": "stream",
          "name": "stdout",
          "text": [
            "Unfrozen layers: 35\n"
          ]
        }
      ]
    },
    {
      "cell_type": "code",
      "source": [
        "\n",
        "history_phase2 = model.fit(\n",
        "    train_ds,\n",
        "    epochs=40,\n",
        "    validation_data=val_ds,\n",
        "    callbacks=callbacks,\n",
        "    initial_epoch=len(history_phase1.history['loss']),\n",
        "    verbose=1,   #initial_epoch=len(history_phase1.history['loss']),  # Continue from where Phase 1 ended also we need to increse epochs =\n",
        "    class_weight=class_weights,\n",
        ")\n",
        "\n",
        "print(\"Fine-tuning completed!\")"
      ],
      "metadata": {
        "id": "V1WMDODeHOiW",
        "colab": {
          "base_uri": "https://localhost:8080/"
        },
        "outputId": "51deacc8-ba3a-41bd-88e9-fee5c8b4cd6d"
      },
      "execution_count": 52,
      "outputs": [
        {
          "output_type": "stream",
          "name": "stdout",
          "text": [
            "Epoch 31/40\n",
            "\u001b[1m160/160\u001b[0m \u001b[32m━━━━━━━━━━━━━━━━━━━━\u001b[0m\u001b[37m\u001b[0m \u001b[1m0s\u001b[0m 140ms/step - accuracy: 0.7156 - loss: 11.0695\n",
            "Epoch 31: val_accuracy did not improve from 0.71473\n",
            "\u001b[1m160/160\u001b[0m \u001b[32m━━━━━━━━━━━━━━━━━━━━\u001b[0m\u001b[37m\u001b[0m \u001b[1m68s\u001b[0m 220ms/step - accuracy: 0.7156 - loss: 11.0696 - val_accuracy: 0.7085 - val_loss: 11.0607 - learning_rate: 1.0000e-05\n",
            "Epoch 32/40\n",
            "\u001b[1m160/160\u001b[0m \u001b[32m━━━━━━━━━━━━━━━━━━━━\u001b[0m\u001b[37m\u001b[0m \u001b[1m0s\u001b[0m 28ms/step - accuracy: 0.7756 - loss: 10.8771\n",
            "Epoch 32: val_accuracy did not improve from 0.71473\n",
            "\u001b[1m160/160\u001b[0m \u001b[32m━━━━━━━━━━━━━━━━━━━━\u001b[0m\u001b[37m\u001b[0m \u001b[1m6s\u001b[0m 33ms/step - accuracy: 0.7756 - loss: 10.8770 - val_accuracy: 0.7053 - val_loss: 10.9983 - learning_rate: 1.0000e-05\n",
            "Epoch 33/40\n",
            "\u001b[1m159/160\u001b[0m \u001b[32m━━━━━━━━━━━━━━━━━━━\u001b[0m\u001b[37m━\u001b[0m \u001b[1m0s\u001b[0m 28ms/step - accuracy: 0.7945 - loss: 10.7225\n",
            "Epoch 33: val_accuracy did not improve from 0.71473\n",
            "\u001b[1m160/160\u001b[0m \u001b[32m━━━━━━━━━━━━━━━━━━━━\u001b[0m\u001b[37m\u001b[0m \u001b[1m10s\u001b[0m 31ms/step - accuracy: 0.7945 - loss: 10.7224 - val_accuracy: 0.6991 - val_loss: 10.9268 - learning_rate: 1.0000e-05\n",
            "Epoch 34/40\n",
            "\u001b[1m160/160\u001b[0m \u001b[32m━━━━━━━━━━━━━━━━━━━━\u001b[0m\u001b[37m\u001b[0m \u001b[1m0s\u001b[0m 28ms/step - accuracy: 0.8408 - loss: 10.5653\n",
            "Epoch 34: val_accuracy did not improve from 0.71473\n",
            "\u001b[1m160/160\u001b[0m \u001b[32m━━━━━━━━━━━━━━━━━━━━\u001b[0m\u001b[37m\u001b[0m \u001b[1m10s\u001b[0m 31ms/step - accuracy: 0.8408 - loss: 10.5653 - val_accuracy: 0.7116 - val_loss: 10.8452 - learning_rate: 1.0000e-05\n",
            "Epoch 35/40\n",
            "\u001b[1m160/160\u001b[0m \u001b[32m━━━━━━━━━━━━━━━━━━━━\u001b[0m\u001b[37m\u001b[0m \u001b[1m0s\u001b[0m 28ms/step - accuracy: 0.8489 - loss: 10.4470\n",
            "Epoch 35: val_accuracy did not improve from 0.71473\n",
            "\u001b[1m160/160\u001b[0m \u001b[32m━━━━━━━━━━━━━━━━━━━━\u001b[0m\u001b[37m\u001b[0m \u001b[1m6s\u001b[0m 33ms/step - accuracy: 0.8489 - loss: 10.4469 - val_accuracy: 0.7116 - val_loss: 10.7862 - learning_rate: 1.0000e-05\n",
            "Epoch 36/40\n",
            "\u001b[1m160/160\u001b[0m \u001b[32m━━━━━━━━━━━━━━━━━━━━\u001b[0m\u001b[37m\u001b[0m \u001b[1m0s\u001b[0m 28ms/step - accuracy: 0.8784 - loss: 10.3257\n",
            "Epoch 36: val_accuracy did not improve from 0.71473\n",
            "\u001b[1m160/160\u001b[0m \u001b[32m━━━━━━━━━━━━━━━━━━━━\u001b[0m\u001b[37m\u001b[0m \u001b[1m10s\u001b[0m 33ms/step - accuracy: 0.8783 - loss: 10.3255 - val_accuracy: 0.7147 - val_loss: 10.7084 - learning_rate: 1.0000e-05\n",
            "Epoch 37/40\n",
            "\u001b[1m159/160\u001b[0m \u001b[32m━━━━━━━━━━━━━━━━━━━\u001b[0m\u001b[37m━\u001b[0m \u001b[1m0s\u001b[0m 30ms/step - accuracy: 0.8916 - loss: 10.1866\n",
            "Epoch 37: val_accuracy did not improve from 0.71473\n",
            "\u001b[1m160/160\u001b[0m \u001b[32m━━━━━━━━━━━━━━━━━━━━\u001b[0m\u001b[37m\u001b[0m \u001b[1m6s\u001b[0m 33ms/step - accuracy: 0.8917 - loss: 10.1862 - val_accuracy: 0.7022 - val_loss: 10.6346 - learning_rate: 1.0000e-05\n",
            "Epoch 38/40\n",
            "\u001b[1m159/160\u001b[0m \u001b[32m━━━━━━━━━━━━━━━━━━━\u001b[0m\u001b[37m━\u001b[0m \u001b[1m0s\u001b[0m 28ms/step - accuracy: 0.9120 - loss: 10.0611\n",
            "Epoch 38: val_accuracy did not improve from 0.71473\n",
            "\u001b[1m160/160\u001b[0m \u001b[32m━━━━━━━━━━━━━━━━━━━━\u001b[0m\u001b[37m\u001b[0m \u001b[1m6s\u001b[0m 32ms/step - accuracy: 0.9120 - loss: 10.0609 - val_accuracy: 0.7116 - val_loss: 10.5623 - learning_rate: 1.0000e-05\n",
            "Epoch 39/40\n",
            "\u001b[1m159/160\u001b[0m \u001b[32m━━━━━━━━━━━━━━━━━━━\u001b[0m\u001b[37m━\u001b[0m \u001b[1m0s\u001b[0m 29ms/step - accuracy: 0.9341 - loss: 9.9468\n",
            "Epoch 39: val_accuracy did not improve from 0.71473\n",
            "\u001b[1m160/160\u001b[0m \u001b[32m━━━━━━━━━━━━━━━━━━━━\u001b[0m\u001b[37m\u001b[0m \u001b[1m6s\u001b[0m 34ms/step - accuracy: 0.9341 - loss: 9.9467 - val_accuracy: 0.7147 - val_loss: 10.4858 - learning_rate: 1.0000e-05\n",
            "Epoch 40/40\n",
            "\u001b[1m160/160\u001b[0m \u001b[32m━━━━━━━━━━━━━━━━━━━━\u001b[0m\u001b[37m\u001b[0m \u001b[1m0s\u001b[0m 28ms/step - accuracy: 0.9271 - loss: 9.8535\n",
            "Epoch 40: val_accuracy did not improve from 0.71473\n",
            "\u001b[1m160/160\u001b[0m \u001b[32m━━━━━━━━━━━━━━━━━━━━\u001b[0m\u001b[37m\u001b[0m \u001b[1m6s\u001b[0m 31ms/step - accuracy: 0.9272 - loss: 9.8533 - val_accuracy: 0.7147 - val_loss: 10.4137 - learning_rate: 1.0000e-05\n",
            "Restoring model weights from the end of the best epoch: 40.\n",
            "Fine-tuning completed!\n"
          ]
        }
      ]
    },
    {
      "cell_type": "code",
      "source": [
        "test_loss, test_acc = model.evaluate(test_ds)\n",
        "print(f\"Test Accuracy: {test_acc:.2f}\")"
      ],
      "metadata": {
        "id": "fT9WJOaWHrtT",
        "colab": {
          "base_uri": "https://localhost:8080/"
        },
        "outputId": "63bcfc60-45e3-4663-994e-e24bc3956b77"
      },
      "execution_count": 53,
      "outputs": [
        {
          "output_type": "stream",
          "name": "stdout",
          "text": [
            "\u001b[1m20/20\u001b[0m \u001b[32m━━━━━━━━━━━━━━━━━━━━\u001b[0m\u001b[37m\u001b[0m \u001b[1m0s\u001b[0m 20ms/step - accuracy: 0.7430 - loss: 10.3813\n",
            "Test Accuracy: 0.74\n"
          ]
        }
      ]
    },
    {
      "cell_type": "code",
      "source": [
        "# Add this after training to analyze performance\n",
        "def analyze_model_performance(model, test_ds, class_names):\n",
        "    \"\"\"Analyze model performance in detail\"\"\"\n",
        "\n",
        "    # Get predictions and true labels\n",
        "    y_pred = []\n",
        "    y_true = []\n",
        "\n",
        "    for images, labels in test_ds:\n",
        "        predictions = model.predict(images, verbose=0)\n",
        "        y_pred.extend(np.argmax(predictions, axis=1))\n",
        "        y_true.extend(labels.numpy())\n",
        "\n",
        "    # Classification report\n",
        "    from sklearn.metrics import classification_report, confusion_matrix\n",
        "\n",
        "    print(\"Classification Report:\")\n",
        "    print(classification_report(y_true, y_pred, target_names=class_names))\n",
        "\n",
        "    # Confusion matrix\n",
        "    cm = confusion_matrix(y_true, y_pred)\n",
        "\n",
        "    plt.figure(figsize=(12, 10))\n",
        "    plt.imshow(cm, interpolation='nearest', cmap=plt.cm.Blues)\n",
        "    plt.title('Confusion Matrix')\n",
        "    plt.colorbar()\n",
        "    tick_marks = np.arange(len(class_names))\n",
        "    plt.xticks(tick_marks, class_names, rotation=45)\n",
        "    plt.yticks(tick_marks, class_names)\n",
        "    plt.ylabel('True Label')\n",
        "    plt.xlabel('Predicted Label')\n",
        "    plt.tight_layout()\n",
        "    plt.show()\n",
        "\n",
        "# Run analysis\n",
        "analyze_model_performance(model, test_ds, class_names)"
      ],
      "metadata": {
        "id": "mjRFCtGN2LIZ",
        "colab": {
          "base_uri": "https://localhost:8080/",
          "height": 1000
        },
        "outputId": "ce6792b0-1fce-4bfe-a41f-f9e9a6d79c73"
      },
      "execution_count": 54,
      "outputs": [
        {
          "output_type": "stream",
          "name": "stdout",
          "text": [
            "Classification Report:\n",
            "                          precision    recall  f1-score   support\n",
            "\n",
            "         Ayrshire cattle       0.93      0.86      0.89        29\n",
            "      Brown Swiss cattle       0.70      0.88      0.78        16\n",
            "                 Gir Cow       0.59      0.65      0.62        31\n",
            "            Hallikar Cow       0.83      0.58      0.68        26\n",
            "Holstein Friesian cattle       0.89      1.00      0.94        33\n",
            "      Jaffrabadi Buffalo       0.79      0.61      0.69        18\n",
            "           Jersey cattle       0.82      0.90      0.86        20\n",
            "             Kankrej Cow       0.77      0.74      0.76        23\n",
            "                  Murrah       0.62      1.00      0.77        15\n",
            "         Nagpuri Buffalo       0.38      0.31      0.34        16\n",
            "       Nili ravi Buffalo       0.82      0.64      0.72        22\n",
            "               Rathi Cow       0.79      0.68      0.73        22\n",
            "             Sahiwal Cow       0.65      0.65      0.65        23\n",
            "          Tharparkar Cow       0.67      0.77      0.71        26\n",
            "\n",
            "                accuracy                           0.74       320\n",
            "               macro avg       0.73      0.73      0.72       320\n",
            "            weighted avg       0.75      0.74      0.74       320\n",
            "\n"
          ]
        },
        {
          "output_type": "display_data",
          "data": {
            "text/plain": [
              "<Figure size 1200x1000 with 2 Axes>"
            ],
            "image/png": "[encoded data removed]"
          },
          "metadata": {}
        }
      ]
    },
    {
      "cell_type": "code",
      "source": [
        "'''# Train 3-5 models with different random seeds\n",
        "ensemble_models = []\n",
        "for seed in [42, 123, 456, 789, 999]:\n",
        "    tf.random.set_seed(seed)\n",
        "    np.random.seed(seed)\n",
        "\n",
        "    # Create and train model\n",
        "    model_i, _ = create_breed_classification_model()\n",
        "    # ... train model_i ...\n",
        "    ensemble_models.append(model_i)\n",
        "\n",
        "# Ensemble prediction\n",
        "def ensemble_predict(models, img_path):\n",
        "    predictions = []\n",
        "    for model in models:\n",
        "        # ... preprocess image ...\n",
        "        pred = model.predict(img_array)\n",
        "        predictions.append(pred)\n",
        "\n",
        "    # Average predictions\n",
        "    avg_pred = np.mean(predictions, axis=0)\n",
        "    return avg_pred'''"
      ],
      "metadata": {
        "id": "jPfCDeFl1jLZ",
        "colab": {
          "base_uri": "https://localhost:8080/",
          "height": 109
        },
        "outputId": "7c7015c7-4ac4-454b-c803-42a92f94d0c1"
      },
      "execution_count": 55,
      "outputs": [
        {
          "output_type": "execute_result",
          "data": {
            "text/plain": [
              "'# Train 3-5 models with different random seeds\\nensemble_models = []\\nfor seed in [42, 123, 456, 789, 999]:\\n    tf.random.set_seed(seed)\\n    np.random.seed(seed)\\n\\n    # Create and train model\\n    model_i, _ = create_breed_classification_model()\\n    # ... train model_i ...\\n    ensemble_models.append(model_i)\\n\\n# Ensemble prediction\\ndef ensemble_predict(models, img_path):\\n    predictions = []\\n    for model in models:\\n        # ... preprocess image ...\\n        pred = model.predict(img_array)\\n        predictions.append(pred)\\n\\n    # Average predictions\\n    avg_pred = np.mean(predictions, axis=0)\\n    return avg_pred'"
            ],
            "application/vnd.google.colaboratory.intrinsic+json": {
              "type": "string"
            }
          },
          "metadata": {},
          "execution_count": 55
        }
      ]
    },
    {
      "cell_type": "code",
      "source": [],
      "metadata": {
        "id": "Te6Jo7hDIK1N"
      },
      "execution_count": 55,
      "outputs": []
    },
    {
      "cell_type": "code",
      "source": [],
      "metadata": {
        "id": "BzVAvxJ7NHdy"
      },
      "execution_count": 55,
      "outputs": []
    },
    {
      "cell_type": "code",
      "source": [
        "\n",
        "def predict_cattle_breed(model, img_path, class_names):\n",
        "    \"\"\"Predict cattle breed using tf.data approach\"\"\"\n",
        "\n",
        "    # Load and preprocess image\n",
        "    img = tf.keras.utils.load_img(img_path, target_size=(IMG_SIZE, IMG_SIZE))\n",
        "    img_array = tf.keras.utils.img_to_array(img)\n",
        "    img_array = tf.expand_dims(img_array, 0)  # Add batch dimension\n",
        "    img_array = tf.cast(img_array, tf.float32)\n",
        "    img_array = preprocess_input(img_array)      # Use ResNet50 preprocessing\n",
        "\n",
        "    # Make prediction\n",
        "    predictions = model.predict(img_array)     # ex [[0.85, 0.08, 0.04, 0.02, 0.01]] 2D array\n",
        "    predicted_class_idx = np.argmax(predictions[0])  #Finds the position of the highest probability ex: 0\n",
        "    confidence = np.max(predictions[0])           #Gets the actual highest probability value ex: 0.85\n",
        "\n",
        "    # Get breed name\n",
        "    predicted_breed = class_names[predicted_class_idx]\n",
        "\n",
        "    # Show results\n",
        "    print(f\"\\nPrediction for {img_path}:\")\n",
        "    print(f\"Predicted breed: {predicted_breed}\")\n",
        "    print(f\"Confidence: {confidence:.2%}\")\n",
        "    print(\"\\nAll breed probabilities:\")\n",
        "    for i, prob in enumerate(predictions[0]):\n",
        "        print(f\"  {class_names[i]}: {prob:.2%}\")\n",
        "\n",
        "    return predicted_breed, confidence\n",
        "\n",
        "# Example usage\n",
        "'''breed, confidence = predict_cattle_breed(\n",
        "    model,\n",
        "    'path/to/cattle_image.jpg',\n",
        "    train_ds.class_names  # Use this instead of class_indices\n",
        ")'''"
      ],
      "metadata": {
        "id": "zWWEF5uvNHus",
        "colab": {
          "base_uri": "https://localhost:8080/",
          "height": 54
        },
        "outputId": "5a48541e-5d43-4ece-92c3-3b2d0f834635"
      },
      "execution_count": 56,
      "outputs": [
        {
          "output_type": "execute_result",
          "data": {
            "text/plain": [
              "\"breed, confidence = predict_cattle_breed(\\n    model,\\n    'path/to/cattle_image.jpg',\\n    train_ds.class_names  # Use this instead of class_indices\\n)\""
            ],
            "application/vnd.google.colaboratory.intrinsic+json": {
              "type": "string"
            }
          },
          "metadata": {},
          "execution_count": 56
        }
      ]
    }
  ]
}