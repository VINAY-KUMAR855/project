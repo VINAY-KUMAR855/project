{
  "nbformat": 4,
  "nbformat_minor": 0,
  "metadata": {
    "colab": {
      "provenance": []
    },
    "kernelspec": {
      "name": "python3",
      "display_name": "Python 3"
    },
    "language_info": {
      "name": "python"
    }
  },
  "cells": [
    {
      "cell_type": "code",
      "execution_count": null,
      "metadata": {
        "id": "DJCui_tAgJ0T"
      },
      "outputs": [],
      "source": []
    },
    {
      "cell_type": "code",
      "execution_count": null,
      "metadata": {
        "id": "LmFQCiSWyyd1"
      },
      "outputs": [],
      "source": []
    },
    {
      "cell_type": "code",
      "execution_count": null,
      "metadata": {
        "id": "ag8uxtGdyt5J"
      },
      "outputs": [],
      "source": [
        "import os, json, math, random\n",
        "import numpy as np\n",
        "import tensorflow as tf\n",
        "import matplotlib.pyplot as plt\n",
        "import numpy as np"
      ]
    },
    {
      "cell_type": "code",
      "source": [
        "from google.colab import drive\n",
        "drive.mount('/content/drive')"
      ],
      "metadata": {
        "colab": {
          "base_uri": "https://localhost:8080/"
        },
        "id": "OJcSD6dF9KjC",
        "outputId": "35ea6740-f5c0-4600-cc59-627020c89683"
      },
      "execution_count": null,
      "outputs": [
        {
          "output_type": "stream",
          "name": "stdout",
          "text": [
            "Drive already mounted at /content/drive; to attempt to forcibly remount, call drive.mount(\"/content/drive\", force_remount=True).\n"
          ]
        }
      ]
    },
    {
      "cell_type": "code",
      "source": [
        "!ls \"/content/drive/MyDrive/Colab Notebooks/SIH/data/raw_data\""
      ],
      "metadata": {
        "colab": {
          "base_uri": "https://localhost:8080/"
        },
        "id": "1oRMD2tj9hcY",
        "outputId": "e2c1c66c-5595-43d4-d40d-0cf03644cfe5"
      },
      "execution_count": null,
      "outputs": [
        {
          "output_type": "stream",
          "name": "stdout",
          "text": [
            "'Ayrshire cattle'\t    'Jaffrabadi Buffalo'  'Rathi Cow'\n",
            "'Brown Swiss cattle'\t    'Jersey cattle'\t   Red_Sindhi\n",
            "'Gir Cow'\t\t    'Kankrej Cow'\t  'Sahiwal Cow'\n",
            "'Hallikar Cow'\t\t     Murrah\t\t  'Tharparkar Cow'\n",
            " Hariana\t\t    'Nagpuri Buffalo'\n",
            "'Holstein Friesian cattle'  'Nili ravi Buffalo'\n"
          ]
        }
      ]
    },
    {
      "cell_type": "code",
      "source": [
        "print(tf.__version__)"
      ],
      "metadata": {
        "colab": {
          "base_uri": "https://localhost:8080/"
        },
        "id": "nKj__DTV7j1P",
        "outputId": "c392ff15-d689-4dfe-dcbc-9247d39f768f"
      },
      "execution_count": null,
      "outputs": [
        {
          "output_type": "stream",
          "name": "stdout",
          "text": [
            "2.19.0\n"
          ]
        }
      ]
    },
    {
      "cell_type": "code",
      "source": [
        "tf.random.set_seed(42)\n",
        "np.random.seed(42)\n",
        "random.seed(42)"
      ],
      "metadata": {
        "id": "P0jNckVw8HAB"
      },
      "execution_count": null,
      "outputs": []
    },
    {
      "cell_type": "code",
      "source": [
        "DATA_DIR = \"/content/drive/MyDrive/Colab Notebooks/SIH/data/raw_data\""
      ],
      "metadata": {
        "id": "ElfPG6868IEz"
      },
      "execution_count": null,
      "outputs": []
    },
    {
      "cell_type": "code",
      "source": [
        "if os.path.isdir(DATA_DIR):\n",
        "  print(f\"Folder found: {DATA_DIR}\")\n",
        "else:\n",
        "  print(f\"Folder not found: {DATA_DIR}\")"
      ],
      "metadata": {
        "colab": {
          "base_uri": "https://localhost:8080/"
        },
        "id": "EAyzsTp6-CnZ",
        "outputId": "1ad74d36-48b5-44b7-e92f-56a3aacd687d"
      },
      "execution_count": null,
      "outputs": [
        {
          "output_type": "stream",
          "name": "stdout",
          "text": [
            "Folder found: /content/drive/MyDrive/Colab Notebooks/SIH/data/raw_data\n"
          ]
        }
      ]
    },
    {
      "cell_type": "code",
      "source": [
        "def explore_dataset(data_dir):\n",
        "    \"\"\"\n",
        "    Explore the dataset structure and show sample counts\n",
        "    \"\"\"\n",
        "    print(\"Dataset Structure:\")\n",
        "    print(\"-\" * 40)\n",
        "\n",
        "    breeds = []\n",
        "    image_counts = []\n",
        "\n",
        "    if os.path.exists(data_dir):\n",
        "        for breed_folder in sorted(os.listdir(data_dir)):\n",
        "            breed_path = os.path.join(data_dir, breed_folder)\n",
        "            if os.path.isdir(breed_path):\n",
        "                image_count = len([f for f in os.listdir(breed_path)\n",
        "                                 if f.lower().endswith(('.jpg', '.jpeg', '.png'))])\n",
        "                breeds.append(breed_folder)\n",
        "                image_counts.append(image_count)\n",
        "                print(f\"{breed_folder}: {image_count} images\")\n",
        "\n",
        "    total_images = sum(image_counts)\n",
        "    print(\"-\" * 40)\n",
        "    print(f\"Total Images: {total_images}\")\n",
        "    print(f\"Total Breeds: {len(breeds)}\")\n",
        "\n",
        "    # Plot distribution\n",
        "    plt.figure(figsize=(12, 6))\n",
        "    plt.bar(breeds, image_counts, color=['skyblue' if 'cattle' in breed.lower() else 'lightcoral' for breed in breeds])\n",
        "    plt.title('Distribution of Images per Breed')\n",
        "    plt.xlabel('Breed')\n",
        "    plt.ylabel('Number of Images')\n",
        "    plt.xticks(rotation=45, ha='right')\n",
        "    plt.tight_layout()\n",
        "    plt.show()\n",
        "\n",
        "    return breeds, image_counts"
      ],
      "metadata": {
        "id": "H4NzXrx6C10Z"
      },
      "execution_count": null,
      "outputs": []
    },
    {
      "cell_type": "code",
      "source": [
        "# Explore your dataset\n",
        "breeds, counts = explore_dataset(DATA_DIR)"
      ],
      "metadata": {
        "colab": {
          "base_uri": "https://localhost:8080/",
          "height": 956
        },
        "id": "jzM4t_mcEVzw",
        "outputId": "c6ce99b6-56b6-4f60-b6ad-f2f3a6136a75",
        "collapsed": true
      },
      "execution_count": null,
      "outputs": [
        {
          "output_type": "stream",
          "name": "stdout",
          "text": [
            "Dataset Structure:\n",
            "----------------------------------------\n",
            "Ayrshire cattle: 260 images\n",
            "Brown Swiss cattle: 238 images\n",
            "Gir Cow: 250 images\n",
            "Hallikar Cow: 186 images\n",
            "Hariana: 129 images\n",
            "Holstein Friesian cattle: 254 images\n",
            "Jaffrabadi Buffalo: 102 images\n",
            "Jersey cattle: 252 images\n",
            "Kankrej Cow: 178 images\n",
            "Murrah: 173 images\n",
            "Nagpuri Buffalo: 220 images\n",
            "Nili ravi Buffalo: 186 images\n",
            "Rathi Cow: 148 images\n",
            "Red_Sindhi: 162 images\n",
            "Sahiwal Cow: 240 images\n",
            "Tharparkar Cow: 221 images\n",
            "----------------------------------------\n",
            "Total Images: 3199\n",
            "Total Breeds: 16\n"
          ]
        },
        {
          "output_type": "display_data",
          "data": {
            "text/plain": [
              "<Figure size 1200x600 with 1 Axes>"
            ],
            "image/png": "[encoded data removed]"
          },
          "metadata": {}
        }
      ]
    },
    {
      "cell_type": "code",
      "source": [
        "import os\n",
        "for cls in sorted(os.listdir(DATA_DIR)):\n",
        "    cls_path = os.path.join(DATA_DIR, cls)\n",
        "    if os.path.isdir(cls_path):\n",
        "        print(cls, len(os.listdir(cls_path)))\n"
      ],
      "metadata": {
        "colab": {
          "base_uri": "https://localhost:8080/"
        },
        "id": "BF9CBOtWQF1u",
        "outputId": "5c63c29e-4e48-468c-cf58-77ccb8313385"
      },
      "execution_count": null,
      "outputs": [
        {
          "output_type": "stream",
          "name": "stdout",
          "text": [
            "Ayrshire cattle 260\n",
            "Brown Swiss cattle 238\n",
            "Gir Cow 250\n",
            "Hallikar Cow 186\n",
            "Hariana 130\n",
            "Holstein Friesian cattle 254\n",
            "Jaffrabadi Buffalo 102\n",
            "Jersey cattle 252\n",
            "Kankrej Cow 178\n",
            "Murrah 173\n",
            "Nagpuri Buffalo 220\n",
            "Nili ravi Buffalo 186\n",
            "Rathi Cow 148\n",
            "Red_Sindhi 166\n",
            "Sahiwal Cow 240\n",
            "Tharparkar Cow 221\n"
          ]
        }
      ]
    },
    {
      "cell_type": "code",
      "source": [
        "IMG_SIZE = 224  # ResNet50 default\n",
        "BATCH_SIZE = 16\n",
        "VAL_SPLIT = 0.20       # 20% for val+test (we'll split this in half later into val and test)\n",
        "SEED = 42\n",
        "COLOR_MODE = \"rgb\"\n",
        "LEARNING_RATE = 0.0001"
      ],
      "metadata": {
        "id": "s-5o4wkP-Qhr"
      },
      "execution_count": null,
      "outputs": []
    },
    {
      "cell_type": "code",
      "source": [
        "# Load datasets (train / val_temp)\n",
        "train_ds = tf.keras.preprocessing.image_dataset_from_directory(\n",
        "    DATA_DIR,\n",
        "    labels=\"inferred\",       # Automatically label based on folder\n",
        "    label_mode=\"int\",        # keep integer labels; we can one-hot later inside the model\n",
        "    class_names=None,        # infer from subfolder names\n",
        "    color_mode=COLOR_MODE,\n",
        "    batch_size=BATCH_SIZE,\n",
        "    image_size=(IMG_SIZE,IMG_SIZE),     # will resize for you\n",
        "    shuffle=True,\n",
        "    seed=SEED,\n",
        "    validation_split=VAL_SPLIT,\n",
        "    subset=\"training\",\n",
        ")\n"
      ],
      "metadata": {
        "id": "TCGZd6A--bvm",
        "colab": {
          "base_uri": "https://localhost:8080/"
        },
        "outputId": "7567d4ef-ae12-4e8b-fcf9-06465d96e1f0"
      },
      "execution_count": null,
      "outputs": [
        {
          "output_type": "stream",
          "name": "stdout",
          "text": [
            "Found 3203 files belonging to 16 classes.\n",
            "Using 2563 files for training.\n"
          ]
        }
      ]
    },
    {
      "cell_type": "code",
      "source": [
        "val_temp_ds = tf.keras.preprocessing.image_dataset_from_directory(\n",
        "    DATA_DIR,\n",
        "    labels=\"inferred\",\n",
        "    label_mode=\"int\",\n",
        "    color_mode=COLOR_MODE,\n",
        "    batch_size=BATCH_SIZE,\n",
        "    image_size=(IMG_SIZE,IMG_SIZE),\n",
        "    shuffle=True,\n",
        "    seed=SEED,\n",
        "    validation_split=VAL_SPLIT,\n",
        "    subset=\"validation\",\n",
        ")"
      ],
      "metadata": {
        "colab": {
          "base_uri": "https://localhost:8080/"
        },
        "id": "kP5AL60XLncz",
        "outputId": "df23d4e3-09d9-4be7-f340-9946c0b65361"
      },
      "execution_count": null,
      "outputs": [
        {
          "output_type": "stream",
          "name": "stdout",
          "text": [
            "Found 3203 files belonging to 16 classes.\n",
            "Using 640 files for validation.\n"
          ]
        }
      ]
    },
    {
      "cell_type": "code",
      "source": [
        "# Save class names (folder names) for later use\n",
        "class_names = train_ds.class_names\n",
        "num_classes = len(class_names)\n",
        "print(\"Classes:\", class_names)"
      ],
      "metadata": {
        "colab": {
          "base_uri": "https://localhost:8080/"
        },
        "id": "Wak8UhhjLqNw",
        "outputId": "2ed9fdd7-b0e6-4731-e4d4-6fb9ee2124b6"
      },
      "execution_count": null,
      "outputs": [
        {
          "output_type": "stream",
          "name": "stdout",
          "text": [
            "Classes: ['Ayrshire cattle', 'Brown Swiss cattle', 'Gir Cow', 'Hallikar Cow', 'Hariana', 'Holstein Friesian cattle', 'Jaffrabadi Buffalo', 'Jersey cattle', 'Kankrej Cow', 'Murrah', 'Nagpuri Buffalo', 'Nili ravi Buffalo', 'Rathi Cow', 'Red_Sindhi', 'Sahiwal Cow', 'Tharparkar Cow']\n"
          ]
        }
      ]
    },
    {
      "cell_type": "code",
      "source": [
        "# Check the labels\n",
        "#print(\"Class labels:\", train_ds.class_indices)\n",
        "label_map = {i: name for i, name in enumerate(class_names)}\n",
        "print(label_map)"
      ],
      "metadata": {
        "colab": {
          "base_uri": "https://localhost:8080/"
        },
        "id": "59tBBl9OKE0v",
        "outputId": "8fa2f1c6-1cd4-444b-e083-5e9c59e06fd1"
      },
      "execution_count": null,
      "outputs": [
        {
          "output_type": "stream",
          "name": "stdout",
          "text": [
            "{0: 'Ayrshire cattle', 1: 'Brown Swiss cattle', 2: 'Gir Cow', 3: 'Hallikar Cow', 4: 'Hariana', 5: 'Holstein Friesian cattle', 6: 'Jaffrabadi Buffalo', 7: 'Jersey cattle', 8: 'Kankrej Cow', 9: 'Murrah', 10: 'Nagpuri Buffalo', 11: 'Nili ravi Buffalo', 12: 'Rathi Cow', 13: 'Red_Sindhi', 14: 'Sahiwal Cow', 15: 'Tharparkar Cow'}\n"
          ]
        }
      ]
    },
    {
      "cell_type": "code",
      "source": [
        "# Save mapping to file\n",
        "label_map = {i: name for i, name in enumerate(class_names)}\n",
        "#print(label_map)\n",
        "with open(\"/content/drive/MyDrive/Colab Notebooks/SIH/data/class_names.json\", \"w\") as f:\n",
        "    json.dump(label_map, f, indent=2)\n",
        "print(\"/content/drive/MyDrive/Colab Notebooks/SIH/data/class_names.json\")"
      ],
      "metadata": {
        "colab": {
          "base_uri": "https://localhost:8080/"
        },
        "id": "SIXJXrn4Mbij",
        "outputId": "ac5e09a2-5b2f-4414-c122-779336b4ff14"
      },
      "execution_count": null,
      "outputs": [
        {
          "output_type": "stream",
          "name": "stdout",
          "text": [
            "/content/drive/MyDrive/Colab Notebooks/SIH/data/class_names.json\n"
          ]
        }
      ]
    },
    {
      "cell_type": "code",
      "source": [
        "for images, labels in train_ds.take(1): # take first batch\n",
        "  print(\"Labels: \",labels.numpy())\n",
        "  print(\"Class names: \", [class_names[i] for i in labels.numpy()])"
      ],
      "metadata": {
        "colab": {
          "base_uri": "https://localhost:8080/"
        },
        "id": "jjeHKHsqNDja",
        "outputId": "edd57dcd-268b-4181-b5fe-0ad4bd4dcd32"
      },
      "execution_count": null,
      "outputs": [
        {
          "output_type": "stream",
          "name": "stdout",
          "text": [
            "Labels:  [ 3 11  7  7 13  0  1  5  5  0  4 11 15  4  7 15]\n",
            "Class names:  ['Hallikar Cow', 'Nili ravi Buffalo', 'Jersey cattle', 'Jersey cattle', 'Red_Sindhi', 'Ayrshire cattle', 'Brown Swiss cattle', 'Holstein Friesian cattle', 'Holstein Friesian cattle', 'Ayrshire cattle', 'Hariana', 'Nili ravi Buffalo', 'Tharparkar Cow', 'Hariana', 'Jersey cattle', 'Tharparkar Cow']\n"
          ]
        }
      ]
    },
    {
      "cell_type": "code",
      "source": [
        "# revesre mapping\n",
        "class_to_idx = {name: i for i, name in enumerate(class_names)}\n",
        "print(class_to_idx)\n"
      ],
      "metadata": {
        "colab": {
          "base_uri": "https://localhost:8080/"
        },
        "id": "rtk2dR8_N0oU",
        "outputId": "4e916c36-cae7-4b09-ed35-027ed320ac46"
      },
      "execution_count": null,
      "outputs": [
        {
          "output_type": "stream",
          "name": "stdout",
          "text": [
            "{'Ayrshire cattle': 0, 'Brown Swiss cattle': 1, 'Gir Cow': 2, 'Hallikar Cow': 3, 'Hariana': 4, 'Holstein Friesian cattle': 5, 'Jaffrabadi Buffalo': 6, 'Jersey cattle': 7, 'Kankrej Cow': 8, 'Murrah': 9, 'Nagpuri Buffalo': 10, 'Nili ravi Buffalo': 11, 'Rathi Cow': 12, 'Red_Sindhi': 13, 'Sahiwal Cow': 14, 'Tharparkar Cow': 15}\n"
          ]
        }
      ]
    },
    {
      "cell_type": "code",
      "source": [
        "# Split val_temp into real val and test (50/50)"
      ],
      "metadata": {
        "id": "7iTxjrLSRrxQ"
      },
      "execution_count": null,
      "outputs": []
    },
    {
      "cell_type": "code",
      "source": [
        "# In TensorFlow, a tf.data.Dataset doesn’t store everything in memory — it’s a pipeline of operations (like “read images → resize → batch → shuffle”)\n",
        "# To know how many batches are inside the dataset, you use: tf.data.experimental.cardinality(dataset)\n",
        "# This returns a special TensorFlow object (tf.Tensor) representing the count of batches\n",
        "val_temp_batches = tf.data.experimental.cardinality(val_temp_ds).numpy()\n",
        "print(val_temp_batches)"
      ],
      "metadata": {
        "colab": {
          "base_uri": "https://localhost:8080/"
        },
        "id": "QEJajt30Pfc8",
        "outputId": "74b82406-f224-4f8a-a03f-e178dd2d6508"
      },
      "execution_count": null,
      "outputs": [
        {
          "output_type": "stream",
          "name": "stdout",
          "text": [
            "40\n"
          ]
        }
      ]
    },
    {
      "cell_type": "code",
      "source": [
        "test_ds = val_temp_ds.take(val_temp_batches // 2)\n",
        "val_ds  = val_temp_ds.skip(val_temp_batches // 2)"
      ],
      "metadata": {
        "id": "JB6-5YWJSOfm"
      },
      "execution_count": null,
      "outputs": []
    },
    {
      "cell_type": "code",
      "source": [
        "print(\"Batches -> train:\", tf.data.experimental.cardinality(train_ds).numpy(),\n",
        "      \"| val:\", tf.data.experimental.cardinality(val_ds).numpy(),\n",
        "      \"| test:\", tf.data.experimental.cardinality(test_ds).numpy())"
      ],
      "metadata": {
        "colab": {
          "base_uri": "https://localhost:8080/"
        },
        "id": "u4giij8YSVJO",
        "outputId": "541e99af-1e9b-416b-8c37-6c4ab16c137d"
      },
      "execution_count": null,
      "outputs": [
        {
          "output_type": "stream",
          "name": "stdout",
          "text": [
            "Batches -> train: 161 | val: 20 | test: 20\n"
          ]
        }
      ]
    },
    {
      "cell_type": "code",
      "source": [
        "print(32*(31+4+4))\n",
        "print(260+238+254+252+204) # last batch are not full"
      ],
      "metadata": {
        "colab": {
          "base_uri": "https://localhost:8080/"
        },
        "id": "vzpLOAxUSddW",
        "outputId": "65a54188-1b92-4f4a-c6aa-f2b1b976b9a5"
      },
      "execution_count": null,
      "outputs": [
        {
          "output_type": "stream",
          "name": "stdout",
          "text": [
            "1248\n",
            "1208\n"
          ]
        }
      ]
    },
    {
      "cell_type": "markdown",
      "source": [
        "Data augmentation (training only)"
      ],
      "metadata": {
        "id": "aHaAuUvwTcBe"
      }
    },
    {
      "cell_type": "code",
      "source": [
        "#    Keep augmentations conservative to avoid distorting breed characteristics.\n",
        "#    NOTE: These layers work fine before preprocess_input(i.e., before preprocess_input). Augmentation works on normal images (0–255 pixel range)"
      ],
      "metadata": {
        "id": "OZZimYxvTfMn"
      },
      "execution_count": null,
      "outputs": []
    },
    {
      "cell_type": "code",
      "source": [
        "data_augmentation = tf.keras.Sequential([\n",
        "    tf.keras.layers.RandomFlip(\"horizontal\"),\n",
        "    tf.keras.layers.RandomRotation(factor=0.15),\n",
        "    tf.keras.layers.RandomZoom(height_factor=0.1, width_factor=0.1),\n",
        "    tf.keras.layers.RandomTranslation(height_factor=0.05, width_factor=0.05),\n",
        "    tf.keras.layers.RandomBrightness(0.15),  # brightness variation\n",
        "    tf.keras.layers.RandomContrast(0.15),    # contrast variation\n",
        "    #tf.keras.layers.RandomCrop(height=200, width=200),  # Random crop then resize\n",
        "    #tf.keras.layers.Resizing(224, 224)\n",
        "], name=\"enhanced_data_augmentation\")"
      ],
      "metadata": {
        "id": "4G3yxsuEU8vr"
      },
      "execution_count": null,
      "outputs": []
    },
    {
      "cell_type": "code",
      "source": [
        "from tensorflow.keras import mixed_precision\n",
        "\n",
        "# Set the global mixed precision policy\n",
        "policy = mixed_precision.Policy('mixed_float16')\n",
        "mixed_precision.set_global_policy(policy)"
      ],
      "metadata": {
        "id": "hhhecis3cusp"
      },
      "execution_count": null,
      "outputs": []
    },
    {
      "cell_type": "markdown",
      "source": [
        "Preprocess for ResNet50"
      ],
      "metadata": {
        "id": "LFpAMw6sV5Gj"
      }
    },
    {
      "cell_type": "code",
      "source": [
        "#    Use tf.keras.applications.resnet50.preprocess_input (Caffe-style: BGR, mean subtraction).\n",
        "#    Do NOT also rescale 1/255."
      ],
      "metadata": {
        "id": "e1OLohzZV54f"
      },
      "execution_count": null,
      "outputs": []
    },
    {
      "cell_type": "code",
      "source": [
        "from tensorflow.keras.applications.resnet50 import preprocess_input\n",
        "\n",
        "AUTOTUNE = tf.data.AUTOTUNE"
      ],
      "metadata": {
        "id": "Elb2zZj5W3DI"
      },
      "execution_count": null,
      "outputs": []
    },
    {
      "cell_type": "code",
      "source": [
        "def add_augmentation(image, label):\n",
        "    # Apply only on training\n",
        "    image = data_augmentation(image, training=True)\n",
        "    return image, label"
      ],
      "metadata": {
        "id": "ZcVFEwmKXWLe"
      },
      "execution_count": null,
      "outputs": []
    },
    {
      "cell_type": "code",
      "source": [
        "def preprocess_for_resnet(image, label):\n",
        "    image = tf.cast(image, tf.float32)      # convert to float32\n",
        "    image = preprocess_input(image)  # expects float32 in [0..255]\n",
        "    return image, label"
      ],
      "metadata": {
        "id": "D305xX9oXefK"
      },
      "execution_count": null,
      "outputs": []
    },
    {
      "cell_type": "code",
      "source": [
        "# Apply augmentation to train only, then preprocess on all sets\n",
        "train_ds = (train_ds\n",
        "            .map(add_augmentation, num_parallel_calls=AUTOTUNE)\n",
        "            .map(preprocess_for_resnet, num_parallel_calls=AUTOTUNE))"
      ],
      "metadata": {
        "id": "-9RRQKNJX5ct"
      },
      "execution_count": null,
      "outputs": []
    },
    {
      "cell_type": "code",
      "source": [
        "val_ds   = val_ds.map(preprocess_for_resnet, num_parallel_calls=AUTOTUNE)\n",
        "test_ds  = test_ds.map(preprocess_for_resnet, num_parallel_calls=AUTOTUNE)"
      ],
      "metadata": {
        "id": "4czDVrGyYSyw"
      },
      "execution_count": null,
      "outputs": []
    },
    {
      "cell_type": "markdown",
      "source": [
        "pipeline optimizations:- Caching, shuffling, prefetching (performance)\n",
        "Cache to disk to avoid RAM spikes on large datasets in Colab."
      ],
      "metadata": {
        "id": "RjlxP435hg7T"
      }
    },
    {
      "cell_type": "code",
      "source": [
        "train_ds = (train_ds\n",
        "            .cache(\"/tmp/cattle_train.cache\")\n",
        "            .shuffle(buffer_size= BATCH_SIZE * 2, seed=SEED, reshuffle_each_iteration=True) # changed 8 to 2\n",
        "            .prefetch(AUTOTUNE))\n",
        "\n",
        "val_ds   = val_ds.cache(\"/tmp/cattle_val.cache\").prefetch(AUTOTUNE)\n",
        "test_ds  = test_ds.cache(\"/tmp/cattle_test.cache\").prefetch(AUTOTUNE)"
      ],
      "metadata": {
        "id": "vUPUcPZfhpzc"
      },
      "execution_count": null,
      "outputs": []
    },
    {
      "cell_type": "markdown",
      "source": [
        "Quick sanity checks"
      ],
      "metadata": {
        "id": "E7vjvZy7_EXW"
      }
    },
    {
      "cell_type": "code",
      "source": [
        "'''for images, labels in train_ds.take(1):\n",
        "    print(\"Image batch shape:\", images.shape, \"Label batch shape:\", labels.shape)\n",
        "    print(\"Label dtype:\", labels.dtype)\n",
        "    print(\"Min/Max pixel after preprocess_input:\", tf.reduce_min(images).numpy(), tf.reduce_max(images).numpy())'''"
      ],
      "metadata": {
        "id": "RtvVA6rnh2rR",
        "colab": {
          "base_uri": "https://localhost:8080/",
          "height": 72
        },
        "outputId": "87079334-53fd-4db3-9840-c555a715d0bf"
      },
      "execution_count": null,
      "outputs": [
        {
          "output_type": "execute_result",
          "data": {
            "text/plain": [
              "'for images, labels in train_ds.take(1):\\n    print(\"Image batch shape:\", images.shape, \"Label batch shape:\", labels.shape)\\n    print(\"Label dtype:\", labels.dtype)\\n    print(\"Min/Max pixel after preprocess_input:\", tf.reduce_min(images).numpy(), tf.reduce_max(images).numpy())'"
            ],
            "application/vnd.google.colaboratory.intrinsic+json": {
              "type": "string"
            }
          },
          "metadata": {},
          "execution_count": 34
        }
      ]
    },
    {
      "cell_type": "markdown",
      "source": [
        "Class distribution — helpful later for class weight"
      ],
      "metadata": {
        "id": "cbVNWpjdJnIh"
      }
    },
    {
      "cell_type": "code",
      "source": [
        "import numpy as np\n",
        "\n",
        "# Count labels in training dataset\n",
        "train_class_counts = np.zeros(len(class_names))\n",
        "for images, labels in train_ds.unbatch():\n",
        "    train_class_counts[labels.numpy()] += 1\n",
        "\n",
        "print(\"Class counts:\", train_class_counts)"
      ],
      "metadata": {
        "id": "NH4MmYjSiEc-",
        "colab": {
          "base_uri": "https://localhost:8080/"
        },
        "outputId": "70f5590c-f5d8-4861-c788-717391063b01"
      },
      "execution_count": null,
      "outputs": [
        {
          "output_type": "stream",
          "name": "stdout",
          "text": [
            "Class counts: [212. 203. 197. 146. 100. 196.  85. 200. 135. 147. 179. 156. 112. 136.\n",
            " 194. 165.]\n"
          ]
        }
      ]
    },
    {
      "cell_type": "code",
      "source": [
        "'''from sklearn.utils.class_weight import compute_class_weight\n",
        "\n",
        "# Collect all labels into a single 1D numpy array\n",
        "y_labels = np.array([labels.numpy() for _, labels in train_ds.unbatch()])\n",
        "#print(y_labels)\n",
        "\n",
        "\n",
        "class_weights = compute_class_weight(\n",
        "    class_weight=\"balanced\",\n",
        "    classes=np.arange(len(class_names)),\n",
        "    y=y_labels\n",
        ")\n",
        "\n",
        "class_weights = dict(enumerate(class_weights))\n",
        "print(\"Class Weights:\", class_weights)'''\n",
        "\n",
        "\n",
        "\"\"\"\n",
        "# saved because take more time\n",
        "class_weights = {0: np.float64(0.7585271317829457), 1: np.float64(0.8195142378559463), 2: np.float64(0.8073432343234324),\n",
        "                 3: np.float64(2.0385416666666667), 4: np.float64(0.8154166666666667), 5: np.float64(1.1404428904428905),\n",
        "                 6: np.float64(2.0643459915611815), 7: np.float64(1.1732613908872902), 8: np.float64(1.0129399585921326),\n",
        "                 9: np.float64(1.2642118863049097), 10: np.float64(0.44803113553113555), 11: np.float64(3.545289855072464)} \"\"\"\n",
        "\n",
        "class_weights = {0: np.float64(0.7556014150943396), 1: np.float64(0.7891009852216748), 2: np.float64(0.8131345177664975),\n",
        "                 3: np.float64(1.0971746575342465), 4: np.float64(1.601875), 5: np.float64(0.8172831632653061),\n",
        "                 6: np.float64(1.8845588235294117), 7: np.float64(0.8009375), 8: np.float64(1.186574074074074),\n",
        "                 9: np.float64(1.0897108843537415), 10: np.float64(0.8949022346368715), 11: np.float64(1.0268429487179487),\n",
        "                 12: np.float64(1.4302455357142858), 13: np.float64(1.1778492647058822), 14: np.float64(0.8257087628865979),\n",
        "                 15: np.float64(0.9708333333333333)}"
      ],
      "metadata": {
        "id": "DgG7R43GE6b0"
      },
      "execution_count": null,
      "outputs": []
    },
    {
      "cell_type": "code",
      "source": [
        "\n",
        "import tensorflow as tf\n",
        "from tensorflow.keras.applications import ResNet50\n",
        "from tensorflow.keras.applications.resnet50 import preprocess_input\n",
        "from tensorflow.keras.preprocessing.image import ImageDataGenerator, load_img, img_to_array\n",
        "from tensorflow.keras.layers import Dense, GlobalAveragePooling2D, Dropout, BatchNormalization\n",
        "from tensorflow.keras.models import Model, load_model\n",
        "from tensorflow.keras.optimizers import Adam\n",
        "from tensorflow.keras.callbacks import EarlyStopping, ModelCheckpoint, ReduceLROnPlateau\n",
        "from tensorflow.keras.utils import plot_model\n",
        "from tensorflow.keras.regularizers import l2"
      ],
      "metadata": {
        "id": "qJzS3HPKJ6uY"
      },
      "execution_count": null,
      "outputs": []
    },
    {
      "cell_type": "code",
      "source": [
        "num_classes = len(class_names)"
      ],
      "metadata": {
        "id": "W3jDno4dLM4C"
      },
      "execution_count": null,
      "outputs": []
    },
    {
      "cell_type": "code",
      "source": [
        "\n",
        "# Load base ResNet50 (pretrained on ImageNet)\n",
        "'''base_model = tf.keras.applications.ResNet50(\n",
        "    include_top=False,  # remove old classifier head\n",
        "    weights=\"imagenet\",\n",
        "    input_shape=(224, 224, 3)\n",
        ")'''"
      ],
      "metadata": {
        "id": "kXgo-vilsd1u",
        "colab": {
          "base_uri": "https://localhost:8080/",
          "height": 54
        },
        "outputId": "63112218-a3be-47f4-e332-ae131f25b71d"
      },
      "execution_count": null,
      "outputs": [
        {
          "output_type": "execute_result",
          "data": {
            "text/plain": [
              "'base_model = tf.keras.applications.ResNet50(\\n    include_top=False,  # remove old classifier head\\n    weights=\"imagenet\",\\n    input_shape=(224, 224, 3)\\n)'"
            ],
            "application/vnd.google.colaboratory.intrinsic+json": {
              "type": "string"
            }
          },
          "metadata": {},
          "execution_count": 39
        }
      ]
    },
    {
      "cell_type": "code",
      "source": [
        "def create_breed_classification_model():\n",
        "    \"\"\"\n",
        "    Create transfer learning model using ResNet50 as backbone\n",
        "    ResNet50: 50-layer Residual Network pre-trained on ImageNet\n",
        "    \"\"\"\n",
        "\n",
        "    # Load ResNet50 pre-trained on ImageNet (without top classification layer)\n",
        "    base_model = ResNet50(\n",
        "        weights='imagenet',  # Use ImageNet pre-trained weights\n",
        "        include_top=False,   # Exclude final classification layer\n",
        "        input_shape=(224, 224, 3),  # Input image shape\n",
        "        pooling=None         # We'll add our own pooling\n",
        "    )\n",
        "\n",
        "    # Freeze the base model initially (transfer learning)\n",
        "    base_model.trainable = False\n",
        "\n",
        "    print(f\"ResNet50 base model has {len(base_model.layers)} layers\")\n",
        "    print(f\"Base model output shape: {base_model.output_shape}\")\n",
        "\n",
        "    # Build the complete model\n",
        "\n",
        "    #Creates the \"entrance door\" for our images\n",
        "    inputs = tf.keras.Input(shape=(224, 224, 3))\n",
        "\n",
        "    # Pass through ResNet50 base\n",
        "    x = base_model(inputs, training=False)\n",
        "    # Input: (IMG_SIZE, IMG_SIZE, 3) → ResNet50 → Output: (7, 7, 2048)\n",
        "\n",
        "    # Add custom classification head with MORE regularization\n",
        "    x = GlobalAveragePooling2D(name='global_avg_pooling')(x) # Converts the 3D feature map to a 1D vector; Before: (7, 7, 2048) = 100,352 numbers arranged in grids After: (2048,) = 2048 summary numbers\n",
        "    x = BatchNormalization(name='batch_norm_1')(x) # Normalizes the data to have mean=0 and standard deviation=1\n",
        "    x = Dropout(0.7, name='dropout_1')(x)\n",
        "    # First dense layer with L2 regularization\n",
        "    x = Dense(512,\n",
        "              activation='relu',\n",
        "              kernel_regularizer=l2(0.05),  # NEW: L2 regularization\n",
        "              name='dense_1')(x)\n",
        "    x = BatchNormalization(name='batch_norm_2')(x)\n",
        "    x = Dropout(0.5, name='dropout_2')(x)\n",
        "\n",
        "    # Second dense layer with L2 regularization\n",
        "    x = Dense(256,\n",
        "              activation='relu',\n",
        "              kernel_regularizer=l2(0.05),\n",
        "              name='dense_2')(x)\n",
        "    x = Dropout(0.3, name='dropout_3')(x)\n",
        "\n",
        "    # Second dense layer\n",
        "    x = Dense(128,\n",
        "              activation='relu',\n",
        "              kernel_regularizer=l2(0.005),\n",
        "              name='dense_3')(x)\n",
        "    x = Dropout(0.2, name='dropout_4')(x)\n",
        "\n",
        "    # Final classification layer\n",
        "    outputs = Dense(num_classes, activation='softmax',\n",
        "                    kernel_regularizer=l2(0.005),\n",
        "                    name='breed_classification',\n",
        "                    dtype='float32')(x)\n",
        "\n",
        "    # Create the model\n",
        "    model = Model(inputs, outputs, name='Cattle_Buffalo_Breed_Classifier')\n",
        "\n",
        "    return model, base_model\n"
      ],
      "metadata": {
        "id": "_6eNClZmt1_u"
      },
      "execution_count": null,
      "outputs": []
    },
    {
      "cell_type": "code",
      "source": [
        "# Create the model\n",
        "print(\"Building ResNet50-based breed classification model...\")\n",
        "model, base_model = create_breed_classification_model()"
      ],
      "metadata": {
        "id": "qC8Ycjzt0Zzs",
        "colab": {
          "base_uri": "https://localhost:8080/"
        },
        "outputId": "b014b701-3daf-4df8-fbf2-ec2925039207"
      },
      "execution_count": null,
      "outputs": [
        {
          "output_type": "stream",
          "name": "stdout",
          "text": [
            "Building ResNet50-based breed classification model...\n",
            "ResNet50 base model has 175 layers\n",
            "Base model output shape: (None, 7, 7, 2048)\n"
          ]
        }
      ]
    },
    {
      "cell_type": "code",
      "source": [
        "# Display model architecture\n",
        "model.summary()"
      ],
      "metadata": {
        "id": "NAwSn_-g0dhU",
        "colab": {
          "base_uri": "https://localhost:8080/",
          "height": 606
        },
        "outputId": "65f54449-a755-440a-ec26-46b72088bd64"
      },
      "execution_count": null,
      "outputs": [
        {
          "output_type": "display_data",
          "data": {
            "text/plain": [
              "\u001b[1mModel: \"Cattle_Buffalo_Breed_Classifier\"\u001b[0m\n"
            ],
            "text/html": [
              "<pre style=\"white-space:pre;overflow-x:auto;line-height:normal;font-family:Menlo,'DejaVu Sans Mono',consolas,'Courier New',monospace\"><span style=\"font-weight: bold\">Model: \"Cattle_Buffalo_Breed_Classifier\"</span>\n",
              "</pre>\n"
            ]
          },
          "metadata": {}
        },
        {
          "output_type": "display_data",
          "data": {
            "text/plain": [
              "┏━━━━━━━━━━━━━━━━━━━━━━━━━━━━━━━━━┳━━━━━━━━━━━━━━━━━━━━━━━━┳━━━━━━━━━━━━━━━┓\n",
              "┃\u001b[1m \u001b[0m\u001b[1mLayer (type)                   \u001b[0m\u001b[1m \u001b[0m┃\u001b[1m \u001b[0m\u001b[1mOutput Shape          \u001b[0m\u001b[1m \u001b[0m┃\u001b[1m \u001b[0m\u001b[1m      Param #\u001b[0m\u001b[1m \u001b[0m┃\n",
              "┡━━━━━━━━━━━━━━━━━━━━━━━━━━━━━━━━━╇━━━━━━━━━━━━━━━━━━━━━━━━╇━━━━━━━━━━━━━━━┩\n",
              "│ input_layer_2 (\u001b[38;5;33mInputLayer\u001b[0m)      │ (\u001b[38;5;45mNone\u001b[0m, \u001b[38;5;34m224\u001b[0m, \u001b[38;5;34m224\u001b[0m, \u001b[38;5;34m3\u001b[0m)    │             \u001b[38;5;34m0\u001b[0m │\n",
              "├─────────────────────────────────┼────────────────────────┼───────────────┤\n",
              "│ resnet50 (\u001b[38;5;33mFunctional\u001b[0m)           │ (\u001b[38;5;45mNone\u001b[0m, \u001b[38;5;34m7\u001b[0m, \u001b[38;5;34m7\u001b[0m, \u001b[38;5;34m2048\u001b[0m)     │    \u001b[38;5;34m23,587,712\u001b[0m │\n",
              "├─────────────────────────────────┼────────────────────────┼───────────────┤\n",
              "│ global_avg_pooling              │ (\u001b[38;5;45mNone\u001b[0m, \u001b[38;5;34m2048\u001b[0m)           │             \u001b[38;5;34m0\u001b[0m │\n",
              "│ (\u001b[38;5;33mGlobalAveragePooling2D\u001b[0m)        │                        │               │\n",
              "├─────────────────────────────────┼────────────────────────┼───────────────┤\n",
              "│ batch_norm_1                    │ (\u001b[38;5;45mNone\u001b[0m, \u001b[38;5;34m2048\u001b[0m)           │         \u001b[38;5;34m8,192\u001b[0m │\n",
              "│ (\u001b[38;5;33mBatchNormalization\u001b[0m)            │                        │               │\n",
              "├─────────────────────────────────┼────────────────────────┼───────────────┤\n",
              "│ dropout_1 (\u001b[38;5;33mDropout\u001b[0m)             │ (\u001b[38;5;45mNone\u001b[0m, \u001b[38;5;34m2048\u001b[0m)           │             \u001b[38;5;34m0\u001b[0m │\n",
              "├─────────────────────────────────┼────────────────────────┼───────────────┤\n",
              "│ dense_1 (\u001b[38;5;33mDense\u001b[0m)                 │ (\u001b[38;5;45mNone\u001b[0m, \u001b[38;5;34m512\u001b[0m)            │     \u001b[38;5;34m1,049,088\u001b[0m │\n",
              "├─────────────────────────────────┼────────────────────────┼───────────────┤\n",
              "│ batch_norm_2                    │ (\u001b[38;5;45mNone\u001b[0m, \u001b[38;5;34m512\u001b[0m)            │         \u001b[38;5;34m2,048\u001b[0m │\n",
              "│ (\u001b[38;5;33mBatchNormalization\u001b[0m)            │                        │               │\n",
              "├─────────────────────────────────┼────────────────────────┼───────────────┤\n",
              "│ dropout_2 (\u001b[38;5;33mDropout\u001b[0m)             │ (\u001b[38;5;45mNone\u001b[0m, \u001b[38;5;34m512\u001b[0m)            │             \u001b[38;5;34m0\u001b[0m │\n",
              "├─────────────────────────────────┼────────────────────────┼───────────────┤\n",
              "│ dense_2 (\u001b[38;5;33mDense\u001b[0m)                 │ (\u001b[38;5;45mNone\u001b[0m, \u001b[38;5;34m256\u001b[0m)            │       \u001b[38;5;34m131,328\u001b[0m │\n",
              "├─────────────────────────────────┼────────────────────────┼───────────────┤\n",
              "│ dropout_3 (\u001b[38;5;33mDropout\u001b[0m)             │ (\u001b[38;5;45mNone\u001b[0m, \u001b[38;5;34m256\u001b[0m)            │             \u001b[38;5;34m0\u001b[0m │\n",
              "├─────────────────────────────────┼────────────────────────┼───────────────┤\n",
              "│ dense_3 (\u001b[38;5;33mDense\u001b[0m)                 │ (\u001b[38;5;45mNone\u001b[0m, \u001b[38;5;34m128\u001b[0m)            │        \u001b[38;5;34m32,896\u001b[0m │\n",
              "├─────────────────────────────────┼────────────────────────┼───────────────┤\n",
              "│ dropout_4 (\u001b[38;5;33mDropout\u001b[0m)             │ (\u001b[38;5;45mNone\u001b[0m, \u001b[38;5;34m128\u001b[0m)            │             \u001b[38;5;34m0\u001b[0m │\n",
              "├─────────────────────────────────┼────────────────────────┼───────────────┤\n",
              "│ breed_classification (\u001b[38;5;33mDense\u001b[0m)    │ (\u001b[38;5;45mNone\u001b[0m, \u001b[38;5;34m16\u001b[0m)             │         \u001b[38;5;34m2,064\u001b[0m │\n",
              "└─────────────────────────────────┴────────────────────────┴───────────────┘\n"
            ],
            "text/html": [
              "<pre style=\"white-space:pre;overflow-x:auto;line-height:normal;font-family:Menlo,'DejaVu Sans Mono',consolas,'Courier New',monospace\">┏━━━━━━━━━━━━━━━━━━━━━━━━━━━━━━━━━┳━━━━━━━━━━━━━━━━━━━━━━━━┳━━━━━━━━━━━━━━━┓\n",
              "┃<span style=\"font-weight: bold\"> Layer (type)                    </span>┃<span style=\"font-weight: bold\"> Output Shape           </span>┃<span style=\"font-weight: bold\">       Param # </span>┃\n",
              "┡━━━━━━━━━━━━━━━━━━━━━━━━━━━━━━━━━╇━━━━━━━━━━━━━━━━━━━━━━━━╇━━━━━━━━━━━━━━━┩\n",
              "│ input_layer_2 (<span style=\"color: #0087ff; text-decoration-color: #0087ff\">InputLayer</span>)      │ (<span style=\"color: #00d7ff; text-decoration-color: #00d7ff\">None</span>, <span style=\"color: #00af00; text-decoration-color: #00af00\">224</span>, <span style=\"color: #00af00; text-decoration-color: #00af00\">224</span>, <span style=\"color: #00af00; text-decoration-color: #00af00\">3</span>)    │             <span style=\"color: #00af00; text-decoration-color: #00af00\">0</span> │\n",
              "├─────────────────────────────────┼────────────────────────┼───────────────┤\n",
              "│ resnet50 (<span style=\"color: #0087ff; text-decoration-color: #0087ff\">Functional</span>)           │ (<span style=\"color: #00d7ff; text-decoration-color: #00d7ff\">None</span>, <span style=\"color: #00af00; text-decoration-color: #00af00\">7</span>, <span style=\"color: #00af00; text-decoration-color: #00af00\">7</span>, <span style=\"color: #00af00; text-decoration-color: #00af00\">2048</span>)     │    <span style=\"color: #00af00; text-decoration-color: #00af00\">23,587,712</span> │\n",
              "├─────────────────────────────────┼────────────────────────┼───────────────┤\n",
              "│ global_avg_pooling              │ (<span style=\"color: #00d7ff; text-decoration-color: #00d7ff\">None</span>, <span style=\"color: #00af00; text-decoration-color: #00af00\">2048</span>)           │             <span style=\"color: #00af00; text-decoration-color: #00af00\">0</span> │\n",
              "│ (<span style=\"color: #0087ff; text-decoration-color: #0087ff\">GlobalAveragePooling2D</span>)        │                        │               │\n",
              "├─────────────────────────────────┼────────────────────────┼───────────────┤\n",
              "│ batch_norm_1                    │ (<span style=\"color: #00d7ff; text-decoration-color: #00d7ff\">None</span>, <span style=\"color: #00af00; text-decoration-color: #00af00\">2048</span>)           │         <span style=\"color: #00af00; text-decoration-color: #00af00\">8,192</span> │\n",
              "│ (<span style=\"color: #0087ff; text-decoration-color: #0087ff\">BatchNormalization</span>)            │                        │               │\n",
              "├─────────────────────────────────┼────────────────────────┼───────────────┤\n",
              "│ dropout_1 (<span style=\"color: #0087ff; text-decoration-color: #0087ff\">Dropout</span>)             │ (<span style=\"color: #00d7ff; text-decoration-color: #00d7ff\">None</span>, <span style=\"color: #00af00; text-decoration-color: #00af00\">2048</span>)           │             <span style=\"color: #00af00; text-decoration-color: #00af00\">0</span> │\n",
              "├─────────────────────────────────┼────────────────────────┼───────────────┤\n",
              "│ dense_1 (<span style=\"color: #0087ff; text-decoration-color: #0087ff\">Dense</span>)                 │ (<span style=\"color: #00d7ff; text-decoration-color: #00d7ff\">None</span>, <span style=\"color: #00af00; text-decoration-color: #00af00\">512</span>)            │     <span style=\"color: #00af00; text-decoration-color: #00af00\">1,049,088</span> │\n",
              "├─────────────────────────────────┼────────────────────────┼───────────────┤\n",
              "│ batch_norm_2                    │ (<span style=\"color: #00d7ff; text-decoration-color: #00d7ff\">None</span>, <span style=\"color: #00af00; text-decoration-color: #00af00\">512</span>)            │         <span style=\"color: #00af00; text-decoration-color: #00af00\">2,048</span> │\n",
              "│ (<span style=\"color: #0087ff; text-decoration-color: #0087ff\">BatchNormalization</span>)            │                        │               │\n",
              "├─────────────────────────────────┼────────────────────────┼───────────────┤\n",
              "│ dropout_2 (<span style=\"color: #0087ff; text-decoration-color: #0087ff\">Dropout</span>)             │ (<span style=\"color: #00d7ff; text-decoration-color: #00d7ff\">None</span>, <span style=\"color: #00af00; text-decoration-color: #00af00\">512</span>)            │             <span style=\"color: #00af00; text-decoration-color: #00af00\">0</span> │\n",
              "├─────────────────────────────────┼────────────────────────┼───────────────┤\n",
              "│ dense_2 (<span style=\"color: #0087ff; text-decoration-color: #0087ff\">Dense</span>)                 │ (<span style=\"color: #00d7ff; text-decoration-color: #00d7ff\">None</span>, <span style=\"color: #00af00; text-decoration-color: #00af00\">256</span>)            │       <span style=\"color: #00af00; text-decoration-color: #00af00\">131,328</span> │\n",
              "├─────────────────────────────────┼────────────────────────┼───────────────┤\n",
              "│ dropout_3 (<span style=\"color: #0087ff; text-decoration-color: #0087ff\">Dropout</span>)             │ (<span style=\"color: #00d7ff; text-decoration-color: #00d7ff\">None</span>, <span style=\"color: #00af00; text-decoration-color: #00af00\">256</span>)            │             <span style=\"color: #00af00; text-decoration-color: #00af00\">0</span> │\n",
              "├─────────────────────────────────┼────────────────────────┼───────────────┤\n",
              "│ dense_3 (<span style=\"color: #0087ff; text-decoration-color: #0087ff\">Dense</span>)                 │ (<span style=\"color: #00d7ff; text-decoration-color: #00d7ff\">None</span>, <span style=\"color: #00af00; text-decoration-color: #00af00\">128</span>)            │        <span style=\"color: #00af00; text-decoration-color: #00af00\">32,896</span> │\n",
              "├─────────────────────────────────┼────────────────────────┼───────────────┤\n",
              "│ dropout_4 (<span style=\"color: #0087ff; text-decoration-color: #0087ff\">Dropout</span>)             │ (<span style=\"color: #00d7ff; text-decoration-color: #00d7ff\">None</span>, <span style=\"color: #00af00; text-decoration-color: #00af00\">128</span>)            │             <span style=\"color: #00af00; text-decoration-color: #00af00\">0</span> │\n",
              "├─────────────────────────────────┼────────────────────────┼───────────────┤\n",
              "│ breed_classification (<span style=\"color: #0087ff; text-decoration-color: #0087ff\">Dense</span>)    │ (<span style=\"color: #00d7ff; text-decoration-color: #00d7ff\">None</span>, <span style=\"color: #00af00; text-decoration-color: #00af00\">16</span>)             │         <span style=\"color: #00af00; text-decoration-color: #00af00\">2,064</span> │\n",
              "└─────────────────────────────────┴────────────────────────┴───────────────┘\n",
              "</pre>\n"
            ]
          },
          "metadata": {}
        },
        {
          "output_type": "display_data",
          "data": {
            "text/plain": [
              "\u001b[1m Total params: \u001b[0m\u001b[38;5;34m24,813,328\u001b[0m (94.66 MB)\n"
            ],
            "text/html": [
              "<pre style=\"white-space:pre;overflow-x:auto;line-height:normal;font-family:Menlo,'DejaVu Sans Mono',consolas,'Courier New',monospace\"><span style=\"font-weight: bold\"> Total params: </span><span style=\"color: #00af00; text-decoration-color: #00af00\">24,813,328</span> (94.66 MB)\n",
              "</pre>\n"
            ]
          },
          "metadata": {}
        },
        {
          "output_type": "display_data",
          "data": {
            "text/plain": [
              "\u001b[1m Trainable params: \u001b[0m\u001b[38;5;34m1,220,496\u001b[0m (4.66 MB)\n"
            ],
            "text/html": [
              "<pre style=\"white-space:pre;overflow-x:auto;line-height:normal;font-family:Menlo,'DejaVu Sans Mono',consolas,'Courier New',monospace\"><span style=\"font-weight: bold\"> Trainable params: </span><span style=\"color: #00af00; text-decoration-color: #00af00\">1,220,496</span> (4.66 MB)\n",
              "</pre>\n"
            ]
          },
          "metadata": {}
        },
        {
          "output_type": "display_data",
          "data": {
            "text/plain": [
              "\u001b[1m Non-trainable params: \u001b[0m\u001b[38;5;34m23,592,832\u001b[0m (90.00 MB)\n"
            ],
            "text/html": [
              "<pre style=\"white-space:pre;overflow-x:auto;line-height:normal;font-family:Menlo,'DejaVu Sans Mono',consolas,'Courier New',monospace\"><span style=\"font-weight: bold\"> Non-trainable params: </span><span style=\"color: #00af00; text-decoration-color: #00af00\">23,592,832</span> (90.00 MB)\n",
              "</pre>\n"
            ]
          },
          "metadata": {}
        }
      ]
    },
    {
      "cell_type": "code",
      "source": [
        "# Visualize model architecture\n",
        "#plot_model(model, to_file='model_architecture.png', show_shapes=True, show_layer_names=True)\n"
      ],
      "metadata": {
        "id": "02a1SSIF_BIT"
      },
      "execution_count": null,
      "outputs": []
    },
    {
      "cell_type": "code",
      "source": [
        "# Compile model with appropriate metrics\n",
        "\n",
        "optimizer = tf.keras.optimizers.Adam(learning_rate=0.001)\n",
        "optimizer = mixed_precision.LossScaleOptimizer(optimizer)\n",
        "\n",
        "model.compile(\n",
        "    optimizer=optimizer,\n",
        "    loss='sparse_categorical_crossentropy',\n",
        "    metrics=['accuracy']\n",
        ")\n",
        "\n",
        "print(\"Model compiled successfully!\")"
      ],
      "metadata": {
        "id": "FkDqXfY6_aZC",
        "colab": {
          "base_uri": "https://localhost:8080/"
        },
        "outputId": "f8862828-50d4-4f22-a80c-5f0afc063f53"
      },
      "execution_count": null,
      "outputs": [
        {
          "output_type": "stream",
          "name": "stdout",
          "text": [
            "Model compiled successfully!\n"
          ]
        }
      ]
    },
    {
      "cell_type": "code",
      "source": [
        "# Create callbacks for better training\n",
        "callbacks = [\n",
        "    # Early stopping to prevent overfitting\n",
        "    EarlyStopping(\n",
        "        monitor='val_loss',\n",
        "        patience=3,\n",
        "        restore_best_weights=True,\n",
        "        verbose=1,\n",
        "        mode='min',\n",
        "        min_delta=0.01\n",
        "    ),\n",
        "\n",
        "    # Save best model\n",
        "    #ModelCheckpoint(\n",
        "     #   'best_breed_model.keras', # use /content/drive/MyDrive/SIH/models/best_improved_model.keras\n",
        "      #  monitor='val_accuracy',\n",
        "       # save_best_only=True,\n",
        "        #save_weights_only=False,\n",
        "        #verbose=1,\n",
        "        #mode='max'\n",
        "    #),\n",
        "\n",
        "    # Reduce learning rate when stuck\n",
        "    # More aggressive learning rate reduction\n",
        "    ReduceLROnPlateau(\n",
        "        monitor='val_loss',\n",
        "        factor=0.7,\n",
        "        patience=4,\n",
        "        min_lr=1e-6,  # Lower minimum LR\n",
        "        verbose=1,\n",
        "        mode='min'\n",
        "    )\n",
        "]"
      ],
      "metadata": {
        "id": "Rtg_LNiYANv1"
      },
      "execution_count": null,
      "outputs": []
    },
    {
      "cell_type": "code",
      "source": [
        "#!rm -f /tmp/cattle_train.cache* /tmp/cattle_val.cache* /tmp/cattle_test.cache*\n"
      ],
      "metadata": {
        "id": "hHLwqtRtCi0N"
      },
      "execution_count": null,
      "outputs": []
    },
    {
      "cell_type": "code",
      "source": [
        "'''# Solution 1: Clear cache files and restart\n",
        "import os\n",
        "import glob\n",
        "\n",
        "# Clear all cache files\n",
        "cache_files = glob.glob(\"/tmp/cattle_*.cache*\")\n",
        "lock_files = glob.glob(\"/tmp/cattle_*.lockfile\")\n",
        "\n",
        "print(\"Removing cache files...\")\n",
        "for file in cache_files + lock_files:\n",
        "    try:\n",
        "        os.remove(file)\n",
        "        print(f\"Removed: {file}\")\n",
        "    except FileNotFoundError:\n",
        "        print(f\"File not found: {file}\")\n",
        "    except Exception as e:\n",
        "        print(f\"Error removing {file}: {e}\")\n",
        "\n",
        "print(\"Cache files cleared!\")'''"
      ],
      "metadata": {
        "colab": {
          "base_uri": "https://localhost:8080/",
          "height": 90
        },
        "id": "6F-EPkzRada2",
        "outputId": "68fa1e8f-09e3-433a-afcd-3c1530d615fe"
      },
      "execution_count": null,
      "outputs": [
        {
          "output_type": "execute_result",
          "data": {
            "text/plain": [
              "'# Solution 1: Clear cache files and restart\\nimport os\\nimport glob\\n\\n# Clear all cache files\\ncache_files = glob.glob(\"/tmp/cattle_*.cache*\")\\nlock_files = glob.glob(\"/tmp/cattle_*.lockfile\")\\n\\nprint(\"Removing cache files...\")\\nfor file in cache_files + lock_files:\\n    try:\\n        os.remove(file)\\n        print(f\"Removed: {file}\")\\n    except FileNotFoundError:\\n        print(f\"File not found: {file}\")\\n    except Exception as e:\\n        print(f\"Error removing {file}: {e}\")\\n\\nprint(\"Cache files cleared!\")'"
            ],
            "application/vnd.google.colaboratory.intrinsic+json": {
              "type": "string"
            }
          },
          "metadata": {},
          "execution_count": 47
        }
      ]
    },
    {
      "cell_type": "markdown",
      "source": [
        "PHASE 1 TRAINING (FROZEN BASE MODEL)"
      ],
      "metadata": {
        "id": "3Y73XojYAe0z"
      }
    },
    {
      "cell_type": "code",
      "source": [
        "# Train with frozen base model\n",
        "history_phase1 = model.fit(\n",
        "    train_ds,\n",
        "    epochs=20,\n",
        "    validation_data=val_ds,\n",
        "    callbacks=callbacks,\n",
        "    verbose=1,\n",
        "    class_weight=class_weights,\n",
        ")\n",
        "\n",
        "print(\"Phase 1 training completed!\")"
      ],
      "metadata": {
        "id": "MjGfvPinAhcr",
        "colab": {
          "base_uri": "https://localhost:8080/"
        },
        "outputId": "d9ce2399-0195-4807-dae6-cece7cb21e9c"
      },
      "execution_count": null,
      "outputs": [
        {
          "output_type": "stream",
          "name": "stdout",
          "text": [
            "Epoch 1/20\n",
            "\u001b[1m 80/161\u001b[0m \u001b[32m━━━━━━━━━\u001b[0m\u001b[37m━━━━━━━━━━━\u001b[0m \u001b[1m12s\u001b[0m 152ms/step - accuracy: 0.1034 - loss: 48.3938"
          ]
        },
        {
          "output_type": "stream",
          "name": "stderr",
          "text": [
            "/usr/local/lib/python3.12/dist-packages/keras/src/trainers/epoch_iterator.py:160: UserWarning: Your input ran out of data; interrupting training. Make sure that your dataset or generator can generate at least `steps_per_epoch * epochs` batches. You may need to use the `.repeat()` function when building your dataset.\n",
            "  self._interrupted_warning()\n"
          ]
        },
        {
          "output_type": "stream",
          "name": "stdout",
          "text": [
            "\b\b\b\b\b\b\b\b\b\b\b\b\b\b\b\b\b\b\b\b\b\b\b\b\b\b\b\b\b\b\b\b\b\b\b\b\b\b\b\b\b\b\b\b\b\b\b\b\b\b\b\b\b\b\b\b\b\b\b\b\b\b\b\b\b\b\b\b\b\b\b\b\b\b\b\b\b\b\r\u001b[1m161/161\u001b[0m \u001b[32m━━━━━━━━━━━━━━━━━━━━\u001b[0m\u001b[37m\u001b[0m \u001b[1m43s\u001b[0m 121ms/step - accuracy: 0.1346 - loss: 42.7628 - val_accuracy: 0.4500 - val_loss: 19.3179 - learning_rate: 0.0010\n",
            "Epoch 2/20\n",
            "\u001b[1m161/161\u001b[0m \u001b[32m━━━━━━━━━━━━━━━━━━━━\u001b[0m\u001b[37m\u001b[0m \u001b[1m4s\u001b[0m 19ms/step - accuracy: 0.3732 - loss: 13.9970 - val_accuracy: 0.5844 - val_loss: 8.1131 - learning_rate: 0.0010\n",
            "Epoch 3/20\n",
            "\u001b[1m161/161\u001b[0m \u001b[32m━━━━━━━━━━━━━━━━━━━━\u001b[0m\u001b[37m\u001b[0m \u001b[1m4s\u001b[0m 20ms/step - accuracy: 0.4643 - loss: 6.9220 - val_accuracy: 0.5750 - val_loss: 5.4302 - learning_rate: 0.0010\n",
            "Epoch 4/20\n",
            "\u001b[1m161/161\u001b[0m \u001b[32m━━━━━━━━━━━━━━━━━━━━\u001b[0m\u001b[37m\u001b[0m \u001b[1m3s\u001b[0m 18ms/step - accuracy: 0.4876 - loss: 5.2596 - val_accuracy: 0.6125 - val_loss: 4.9616 - learning_rate: 0.0010\n",
            "Epoch 5/20\n",
            "\u001b[1m161/161\u001b[0m \u001b[32m━━━━━━━━━━━━━━━━━━━━\u001b[0m\u001b[37m\u001b[0m \u001b[1m3s\u001b[0m 18ms/step - accuracy: 0.4820 - loss: 5.0326 - val_accuracy: 0.5938 - val_loss: 4.7867 - learning_rate: 0.0010\n",
            "Epoch 6/20\n",
            "\u001b[1m161/161\u001b[0m \u001b[32m━━━━━━━━━━━━━━━━━━━━\u001b[0m\u001b[37m\u001b[0m \u001b[1m4s\u001b[0m 23ms/step - accuracy: 0.5004 - loss: 4.8632 - val_accuracy: 0.5719 - val_loss: 4.6047 - learning_rate: 0.0010\n",
            "Epoch 7/20\n",
            "\u001b[1m161/161\u001b[0m \u001b[32m━━━━━━━━━━━━━━━━━━━━\u001b[0m\u001b[37m\u001b[0m \u001b[1m4s\u001b[0m 20ms/step - accuracy: 0.5010 - loss: 4.6882 - val_accuracy: 0.5437 - val_loss: 4.5261 - learning_rate: 0.0010\n",
            "Epoch 8/20\n",
            "\u001b[1m161/161\u001b[0m \u001b[32m━━━━━━━━━━━━━━━━━━━━\u001b[0m\u001b[37m\u001b[0m \u001b[1m6s\u001b[0m 37ms/step - accuracy: 0.4942 - loss: 4.6647 - val_accuracy: 0.5938 - val_loss: 4.4287 - learning_rate: 0.0010\n",
            "Epoch 9/20\n",
            "\u001b[1m161/161\u001b[0m \u001b[32m━━━━━━━━━━━━━━━━━━━━\u001b[0m\u001b[37m\u001b[0m \u001b[1m4s\u001b[0m 20ms/step - accuracy: 0.5132 - loss: 4.5367 - val_accuracy: 0.5781 - val_loss: 4.4616 - learning_rate: 0.0010\n",
            "Epoch 10/20\n",
            "\u001b[1m161/161\u001b[0m \u001b[32m━━━━━━━━━━━━━━━━━━━━\u001b[0m\u001b[37m\u001b[0m \u001b[1m4s\u001b[0m 19ms/step - accuracy: 0.5207 - loss: 4.5811 - val_accuracy: 0.5938 - val_loss: 4.2335 - learning_rate: 0.0010\n",
            "Epoch 11/20\n",
            "\u001b[1m161/161\u001b[0m \u001b[32m━━━━━━━━━━━━━━━━━━━━\u001b[0m\u001b[37m\u001b[0m \u001b[1m7s\u001b[0m 40ms/step - accuracy: 0.5087 - loss: 4.4615 - val_accuracy: 0.5719 - val_loss: 4.2366 - learning_rate: 0.0010\n",
            "Epoch 12/20\n",
            "\u001b[1m161/161\u001b[0m \u001b[32m━━━━━━━━━━━━━━━━━━━━\u001b[0m\u001b[37m\u001b[0m \u001b[1m7s\u001b[0m 18ms/step - accuracy: 0.5129 - loss: 4.3708 - val_accuracy: 0.5656 - val_loss: 4.2277 - learning_rate: 0.0010\n",
            "Epoch 13/20\n",
            "\u001b[1m161/161\u001b[0m \u001b[32m━━━━━━━━━━━━━━━━━━━━\u001b[0m\u001b[37m\u001b[0m \u001b[1m3s\u001b[0m 18ms/step - accuracy: 0.5038 - loss: 4.3140 - val_accuracy: 0.6000 - val_loss: 4.1618 - learning_rate: 0.0010\n",
            "Epoch 14/20\n",
            "\u001b[1m161/161\u001b[0m \u001b[32m━━━━━━━━━━━━━━━━━━━━\u001b[0m\u001b[37m\u001b[0m \u001b[1m4s\u001b[0m 19ms/step - accuracy: 0.5159 - loss: 4.3253 - val_accuracy: 0.5562 - val_loss: 4.2423 - learning_rate: 0.0010\n",
            "Epoch 15/20\n",
            "\u001b[1m161/161\u001b[0m \u001b[32m━━━━━━━━━━━━━━━━━━━━\u001b[0m\u001b[37m\u001b[0m \u001b[1m13s\u001b[0m 79ms/step - accuracy: 0.5180 - loss: 4.2719 - val_accuracy: 0.5938 - val_loss: 4.0362 - learning_rate: 0.0010\n",
            "Epoch 16/20\n",
            "\u001b[1m161/161\u001b[0m \u001b[32m━━━━━━━━━━━━━━━━━━━━\u001b[0m\u001b[37m\u001b[0m \u001b[1m4s\u001b[0m 19ms/step - accuracy: 0.5113 - loss: 4.2215 - val_accuracy: 0.5844 - val_loss: 4.3225 - learning_rate: 0.0010\n",
            "Epoch 17/20\n",
            "\u001b[1m161/161\u001b[0m \u001b[32m━━━━━━━━━━━━━━━━━━━━\u001b[0m\u001b[37m\u001b[0m \u001b[1m3s\u001b[0m 18ms/step - accuracy: 0.5181 - loss: 4.4124 - val_accuracy: 0.5781 - val_loss: 4.1928 - learning_rate: 0.0010\n",
            "Epoch 18/20\n",
            "\u001b[1m161/161\u001b[0m \u001b[32m━━━━━━━━━━━━━━━━━━━━\u001b[0m\u001b[37m\u001b[0m \u001b[1m41s\u001b[0m 252ms/step - accuracy: 0.5105 - loss: 4.2375 - val_accuracy: 0.5781 - val_loss: 4.0164 - learning_rate: 0.0010\n",
            "Epoch 19/20\n",
            "\u001b[1m161/161\u001b[0m \u001b[32m━━━━━━━━━━━━━━━━━━━━\u001b[0m\u001b[37m\u001b[0m \u001b[1m4s\u001b[0m 19ms/step - accuracy: 0.5044 - loss: 4.2183 - val_accuracy: 0.5406 - val_loss: 4.3310 - learning_rate: 0.0010\n",
            "Epoch 20/20\n",
            "\u001b[1m161/161\u001b[0m \u001b[32m━━━━━━━━━━━━━━━━━━━━\u001b[0m\u001b[37m\u001b[0m \u001b[1m3s\u001b[0m 18ms/step - accuracy: 0.5042 - loss: 4.4165 - val_accuracy: 0.5594 - val_loss: 4.3121 - learning_rate: 0.0010\n",
            "Restoring model weights from the end of the best epoch: 18.\n",
            "Phase 1 training completed!\n"
          ]
        }
      ]
    },
    {
      "cell_type": "code",
      "source": [
        "test_loss, test_acc = model.evaluate(test_ds)\n",
        "print(f\"Test Accuracy: {test_acc:.2f}\")"
      ],
      "metadata": {
        "id": "zq7l9NllBwxB",
        "colab": {
          "base_uri": "https://localhost:8080/"
        },
        "outputId": "d4a46876-4742-480f-997e-fb3a1a9ba993"
      },
      "execution_count": null,
      "outputs": [
        {
          "output_type": "stream",
          "name": "stdout",
          "text": [
            "\u001b[1m20/20\u001b[0m \u001b[32m━━━━━━━━━━━━━━━━━━━━\u001b[0m\u001b[37m\u001b[0m \u001b[1m8s\u001b[0m 124ms/step - accuracy: 0.5855 - loss: 3.9874\n",
            "Test Accuracy: 0.59\n"
          ]
        }
      ]
    },
    {
      "cell_type": "markdown",
      "source": [
        "PHASE 2 TRAINING (FINE-TUNING)"
      ],
      "metadata": {
        "id": "ZHaWxvPnGq4n"
      }
    },
    {
      "cell_type": "code",
      "source": [
        "# Unfreeze the base model for fine-tuning\n",
        "base_model.trainable = True\n",
        "\n",
        "# Only unfreeze the last 15 layers (more conservative than your layer 100)\n",
        "fine_tune_at = len(base_model.layers) - 25\n",
        "\n",
        "for layer in base_model.layers[:fine_tune_at]:\n",
        "    layer.trainable = False\n",
        "\n",
        "print(f\"Unfrozen layers: {len([layer for layer in base_model.layers if layer.trainable])}\")\n",
        "\n",
        "# Recompile with lower learning rate for fine-tuning\n",
        "model.compile(\n",
        "    optimizer=Adam(learning_rate=0.00001),\n",
        "    loss='sparse_categorical_crossentropy',\n",
        "    metrics=['accuracy']\n",
        ")"
      ],
      "metadata": {
        "id": "BKCROh3NGrel",
        "colab": {
          "base_uri": "https://localhost:8080/"
        },
        "outputId": "bfe2f3c2-d4a7-4869-b482-63a747072089"
      },
      "execution_count": null,
      "outputs": [
        {
          "output_type": "stream",
          "name": "stdout",
          "text": [
            "Unfrozen layers: 25\n"
          ]
        }
      ]
    },
    {
      "cell_type": "code",
      "source": [
        "\n",
        "history_phase2 = model.fit(\n",
        "    train_ds,\n",
        "    epochs=30,\n",
        "    validation_data=val_ds,\n",
        "    callbacks=callbacks,\n",
        "    initial_epoch=len(history_phase1.history['loss']),\n",
        "    verbose=1,   #initial_epoch=len(history_phase1.history['loss']),  # Continue from where Phase 1 ended also we need to increse epochs =\n",
        "    class_weight=class_weights,\n",
        ")\n",
        "\n",
        "print(\"Fine-tuning completed!\")"
      ],
      "metadata": {
        "id": "V1WMDODeHOiW",
        "colab": {
          "base_uri": "https://localhost:8080/"
        },
        "outputId": "1bfe055d-ad78-4e1e-9371-149816b50217"
      },
      "execution_count": null,
      "outputs": [
        {
          "output_type": "stream",
          "name": "stdout",
          "text": [
            "Epoch 21/30\n",
            "\u001b[1m161/161\u001b[0m \u001b[32m━━━━━━━━━━━━━━━━━━━━\u001b[0m\u001b[37m\u001b[0m \u001b[1m51s\u001b[0m 144ms/step - accuracy: 0.5423 - loss: 4.1579 - val_accuracy: 0.6313 - val_loss: 3.8909 - learning_rate: 1.0000e-05\n",
            "Epoch 22/30\n",
            "\u001b[1m161/161\u001b[0m \u001b[32m━━━━━━━━━━━━━━━━━━━━\u001b[0m\u001b[37m\u001b[0m \u001b[1m7s\u001b[0m 40ms/step - accuracy: 0.5825 - loss: 4.0092 - val_accuracy: 0.6375 - val_loss: 3.8099 - learning_rate: 1.0000e-05\n",
            "Epoch 23/30\n",
            "\u001b[1m161/161\u001b[0m \u001b[32m━━━━━━━━━━━━━━━━━━━━\u001b[0m\u001b[37m\u001b[0m \u001b[1m14s\u001b[0m 83ms/step - accuracy: 0.6197 - loss: 3.8568 - val_accuracy: 0.6375 - val_loss: 3.7416 - learning_rate: 1.0000e-05\n",
            "Epoch 24/30\n",
            "\u001b[1m161/161\u001b[0m \u001b[32m━━━━━━━━━━━━━━━━━━━━\u001b[0m\u001b[37m\u001b[0m \u001b[1m5s\u001b[0m 26ms/step - accuracy: 0.6466 - loss: 3.7200 - val_accuracy: 0.6219 - val_loss: 3.6798 - learning_rate: 1.0000e-05\n",
            "Epoch 25/30\n",
            "\u001b[1m161/161\u001b[0m \u001b[32m━━━━━━━━━━━━━━━━━━━━\u001b[0m\u001b[37m\u001b[0m \u001b[1m4s\u001b[0m 22ms/step - accuracy: 0.6504 - loss: 3.6108 - val_accuracy: 0.6219 - val_loss: 3.6248 - learning_rate: 1.0000e-05\n",
            "Epoch 26/30\n",
            "\u001b[1m161/161\u001b[0m \u001b[32m━━━━━━━━━━━━━━━━━━━━\u001b[0m\u001b[37m\u001b[0m \u001b[1m4s\u001b[0m 22ms/step - accuracy: 0.6609 - loss: 3.5464 - val_accuracy: 0.6250 - val_loss: 3.5554 - learning_rate: 1.0000e-05\n",
            "Epoch 27/30\n",
            "\u001b[1m161/161\u001b[0m \u001b[32m━━━━━━━━━━━━━━━━━━━━\u001b[0m\u001b[37m\u001b[0m \u001b[1m4s\u001b[0m 24ms/step - accuracy: 0.6992 - loss: 3.4127 - val_accuracy: 0.6406 - val_loss: 3.4925 - learning_rate: 1.0000e-05\n",
            "Epoch 28/30\n",
            "\u001b[1m161/161\u001b[0m \u001b[32m━━━━━━━━━━━━━━━━━━━━\u001b[0m\u001b[37m\u001b[0m \u001b[1m4s\u001b[0m 23ms/step - accuracy: 0.7351 - loss: 3.3006 - val_accuracy: 0.6406 - val_loss: 3.4361 - learning_rate: 1.0000e-05\n",
            "Epoch 29/30\n",
            "\u001b[1m161/161\u001b[0m \u001b[32m━━━━━━━━━━━━━━━━━━━━\u001b[0m\u001b[37m\u001b[0m \u001b[1m4s\u001b[0m 23ms/step - accuracy: 0.7368 - loss: 3.2143 - val_accuracy: 0.6313 - val_loss: 3.3833 - learning_rate: 1.0000e-05\n",
            "Epoch 30/30\n",
            "\u001b[1m161/161\u001b[0m \u001b[32m━━━━━━━━━━━━━━━━━━━━\u001b[0m\u001b[37m\u001b[0m \u001b[1m5s\u001b[0m 26ms/step - accuracy: 0.7437 - loss: 3.1374 - val_accuracy: 0.6375 - val_loss: 3.3318 - learning_rate: 1.0000e-05\n",
            "Restoring model weights from the end of the best epoch: 30.\n",
            "Fine-tuning completed!\n"
          ]
        }
      ]
    },
    {
      "cell_type": "code",
      "source": [
        "test_loss, test_acc = model.evaluate(test_ds)\n",
        "print(f\"Test Accuracy: {test_acc:.2f}\")"
      ],
      "metadata": {
        "id": "fT9WJOaWHrtT",
        "colab": {
          "base_uri": "https://localhost:8080/"
        },
        "outputId": "41150e8b-b0c4-45b2-8c44-b2e28e2f0ab2"
      },
      "execution_count": null,
      "outputs": [
        {
          "output_type": "stream",
          "name": "stdout",
          "text": [
            "\u001b[1m20/20\u001b[0m \u001b[32m━━━━━━━━━━━━━━━━━━━━\u001b[0m\u001b[37m\u001b[0m \u001b[1m3s\u001b[0m 43ms/step - accuracy: 0.6478 - loss: 3.2992\n",
            "Test Accuracy: 0.64\n"
          ]
        }
      ]
    },
    {
      "cell_type": "code",
      "source": [
        "# Add this after training to analyze performance\n",
        "def analyze_model_performance(model, test_ds, class_names):\n",
        "    \"\"\"Analyze model performance in detail\"\"\"\n",
        "\n",
        "    # Get predictions and true labels\n",
        "    y_pred = []\n",
        "    y_true = []\n",
        "\n",
        "    for images, labels in test_ds:\n",
        "        predictions = model.predict(images, verbose=0)\n",
        "        y_pred.extend(np.argmax(predictions, axis=1))\n",
        "        y_true.extend(labels.numpy())\n",
        "\n",
        "    # Classification report\n",
        "    from sklearn.metrics import classification_report, confusion_matrix\n",
        "\n",
        "    print(\"Classification Report:\")\n",
        "    print(classification_report(y_true, y_pred, target_names=class_names))\n",
        "\n",
        "    # Confusion matrix\n",
        "    cm = confusion_matrix(y_true, y_pred)\n",
        "\n",
        "    plt.figure(figsize=(12, 10))\n",
        "    plt.imshow(cm, interpolation='nearest', cmap=plt.cm.Blues)\n",
        "    plt.title('Confusion Matrix')\n",
        "    plt.colorbar()\n",
        "    tick_marks = np.arange(len(class_names))\n",
        "    plt.xticks(tick_marks, class_names, rotation=45)\n",
        "    plt.yticks(tick_marks, class_names)\n",
        "    plt.ylabel('True Label')\n",
        "    plt.xlabel('Predicted Label')\n",
        "    plt.tight_layout()\n",
        "    plt.show()\n",
        "\n",
        "# Run analysis\n",
        "analyze_model_performance(model, test_ds, class_names)"
      ],
      "metadata": {
        "id": "mjRFCtGN2LIZ",
        "colab": {
          "base_uri": "https://localhost:8080/",
          "height": 1000
        },
        "outputId": "4011cbfa-792a-4e77-8b30-eb12a0b15dd0"
      },
      "execution_count": null,
      "outputs": [
        {
          "output_type": "stream",
          "name": "stdout",
          "text": [
            "Classification Report:\n",
            "                          precision    recall  f1-score   support\n",
            "\n",
            "         Ayrshire cattle       0.92      0.85      0.88        26\n",
            "      Brown Swiss cattle       0.62      0.88      0.73        17\n",
            "                 Gir Cow       0.67      0.28      0.39        29\n",
            "            Hallikar Cow       0.60      0.55      0.57        22\n",
            "                 Hariana       0.36      0.75      0.49        12\n",
            "Holstein Friesian cattle       0.83      0.96      0.89        26\n",
            "      Jaffrabadi Buffalo       0.36      0.71      0.48         7\n",
            "           Jersey cattle       0.74      0.77      0.76        22\n",
            "             Kankrej Cow       0.82      0.56      0.67        25\n",
            "                  Murrah       0.53      0.91      0.67        11\n",
            "         Nagpuri Buffalo       0.57      0.21      0.31        19\n",
            "       Nili ravi Buffalo       0.75      0.69      0.72        13\n",
            "               Rathi Cow       0.65      0.50      0.56        22\n",
            "              Red_Sindhi       0.42      0.77      0.54        13\n",
            "             Sahiwal Cow       0.61      0.64      0.62        22\n",
            "          Tharparkar Cow       0.66      0.56      0.60        34\n",
            "\n",
            "                accuracy                           0.64       320\n",
            "               macro avg       0.63      0.66      0.62       320\n",
            "            weighted avg       0.67      0.64      0.63       320\n",
            "\n"
          ]
        },
        {
          "output_type": "display_data",
          "data": {
            "text/plain": [
              "<Figure size 1200x1000 with 2 Axes>"
            ],
            "image/png": "[encoded data removed]"
          },
          "metadata": {}
        }
      ]
    },
    {
      "cell_type": "code",
      "source": [
        "'''# Train 3-5 models with different random seeds\n",
        "ensemble_models = []\n",
        "for seed in [42, 123, 456, 789, 999]:\n",
        "    tf.random.set_seed(seed)\n",
        "    np.random.seed(seed)\n",
        "\n",
        "    # Create and train model\n",
        "    model_i, _ = create_breed_classification_model()\n",
        "    # ... train model_i ...\n",
        "    ensemble_models.append(model_i)\n",
        "\n",
        "# Ensemble prediction\n",
        "def ensemble_predict(models, img_path):\n",
        "    predictions = []\n",
        "    for model in models:\n",
        "        # ... preprocess image ...\n",
        "        pred = model.predict(img_array)\n",
        "        predictions.append(pred)\n",
        "\n",
        "    # Average predictions\n",
        "    avg_pred = np.mean(predictions, axis=0)\n",
        "    return avg_pred'''"
      ],
      "metadata": {
        "id": "jPfCDeFl1jLZ",
        "colab": {
          "base_uri": "https://localhost:8080/",
          "height": 109
        },
        "outputId": "5d17acbe-80e0-4c11-c94b-20bf399b0da7"
      },
      "execution_count": null,
      "outputs": [
        {
          "output_type": "execute_result",
          "data": {
            "text/plain": [
              "'# Train 3-5 models with different random seeds\\nensemble_models = []\\nfor seed in [42, 123, 456, 789, 999]:\\n    tf.random.set_seed(seed)\\n    np.random.seed(seed)\\n\\n    # Create and train model\\n    model_i, _ = create_breed_classification_model()\\n    # ... train model_i ...\\n    ensemble_models.append(model_i)\\n\\n# Ensemble prediction\\ndef ensemble_predict(models, img_path):\\n    predictions = []\\n    for model in models:\\n        # ... preprocess image ...\\n        pred = model.predict(img_array)\\n        predictions.append(pred)\\n\\n    # Average predictions\\n    avg_pred = np.mean(predictions, axis=0)\\n    return avg_pred'"
            ],
            "application/vnd.google.colaboratory.intrinsic+json": {
              "type": "string"
            }
          },
          "metadata": {},
          "execution_count": 54
        }
      ]
    },
    {
      "cell_type": "code",
      "source": [],
      "metadata": {
        "id": "Te6Jo7hDIK1N"
      },
      "execution_count": null,
      "outputs": []
    },
    {
      "cell_type": "code",
      "source": [],
      "metadata": {
        "id": "BzVAvxJ7NHdy"
      },
      "execution_count": null,
      "outputs": []
    },
    {
      "cell_type": "code",
      "source": [
        "\n",
        "def predict_cattle_breed(model, img_path, class_names):\n",
        "    \"\"\"Predict cattle breed using tf.data approach\"\"\"\n",
        "\n",
        "    # Load and preprocess image\n",
        "    img = tf.keras.utils.load_img(img_path, target_size=(IMG_SIZE, IMG_SIZE))\n",
        "    img_array = tf.keras.utils.img_to_array(img)\n",
        "    img_array = tf.expand_dims(img_array, 0)  # Add batch dimension\n",
        "    img_array = tf.cast(img_array, tf.float32)\n",
        "    img_array = preprocess_input(img_array)      # Use ResNet50 preprocessing\n",
        "\n",
        "    # Make prediction\n",
        "    predictions = model.predict(img_array)     # ex [[0.85, 0.08, 0.04, 0.02, 0.01]] 2D array\n",
        "    predicted_class_idx = np.argmax(predictions[0])  #Finds the position of the highest probability ex: 0\n",
        "    confidence = np.max(predictions[0])           #Gets the actual highest probability value ex: 0.85\n",
        "\n",
        "    # Get breed name\n",
        "    predicted_breed = class_names[predicted_class_idx]\n",
        "\n",
        "    # Show results\n",
        "    print(f\"\\nPrediction for {img_path}:\")\n",
        "    print(f\"Predicted breed: {predicted_breed}\")\n",
        "    print(f\"Confidence: {confidence:.2%}\")\n",
        "    print(\"\\nAll breed probabilities:\")\n",
        "    for i, prob in enumerate(predictions[0]):\n",
        "        print(f\"  {class_names[i]}: {prob:.2%}\")\n",
        "\n",
        "    return predicted_breed, confidence\n",
        "\n",
        "# Example usage\n",
        "'''breed, confidence = predict_cattle_breed(\n",
        "    model,\n",
        "    'path/to/cattle_image.jpg',\n",
        "    train_ds.class_names  # Use this instead of class_indices\n",
        ")'''"
      ],
      "metadata": {
        "id": "zWWEF5uvNHus",
        "colab": {
          "base_uri": "https://localhost:8080/",
          "height": 54
        },
        "outputId": "92209249-b470-4197-8c50-0621f25277cf"
      },
      "execution_count": null,
      "outputs": [
        {
          "output_type": "execute_result",
          "data": {
            "text/plain": [
              "\"breed, confidence = predict_cattle_breed(\\n    model,\\n    'path/to/cattle_image.jpg',\\n    train_ds.class_names  # Use this instead of class_indices\\n)\""
            ],
            "application/vnd.google.colaboratory.intrinsic+json": {
              "type": "string"
            }
          },
          "metadata": {},
          "execution_count": 55
        }
      ]
    }
  ]
}