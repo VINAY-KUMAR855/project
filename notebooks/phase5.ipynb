{
  "nbformat": 4,
  "nbformat_minor": 0,
  "metadata": {
    "colab": {
      "provenance": [],
      "gpuType": "T4"
    },
    "kernelspec": {
      "name": "python3",
      "display_name": "Python 3"
    },
    "language_info": {
      "name": "python"
    },
    "accelerator": "GPU"
  },
  "cells": [
    {
      "cell_type": "code",
      "execution_count": null,
      "metadata": {
        "id": "DJCui_tAgJ0T"
      },
      "outputs": [],
      "source": []
    },
    {
      "cell_type": "code",
      "source": [
        "from google.colab import drive\n",
        "drive.mount('/content/drive')"
      ],
      "metadata": {
        "colab": {
          "base_uri": "https://localhost:8080/"
        },
        "id": "OJcSD6dF9KjC",
        "outputId": "92c961a6-7579-47b9-b0ca-a6a56cdded09"
      },
      "execution_count": null,
      "outputs": [
        {
          "output_type": "stream",
          "name": "stdout",
          "text": [
            "Mounted at /content/drive\n"
          ]
        }
      ]
    },
    {
      "cell_type": "code",
      "source": [
        "!ls \"/content/drive/MyDrive/Colab Notebooks/SIH/data/raw_data\""
      ],
      "metadata": {
        "colab": {
          "base_uri": "https://localhost:8080/"
        },
        "id": "1oRMD2tj9hcY",
        "outputId": "546fca27-5ef7-4e9c-9b05-4cfdcf4050b4"
      },
      "execution_count": null,
      "outputs": [
        {
          "output_type": "stream",
          "name": "stdout",
          "text": [
            "'Ayrshire cattle'\t    'Jaffrabadi Buffalo'  'Nili ravi Buffalo'\n",
            "'Brown Swiss cattle'\t    'Jersey cattle'\t  'Rathi Cow'\n",
            "'Gir Cow'\t\t    'Kankrej Cow'\t  'Sahiwal Cow'\n",
            "'Hallikar Cow'\t\t     Murrah\t\t  'Tharparkar Cow'\n",
            "'Holstein Friesian cattle'   Nagpuri\n"
          ]
        }
      ]
    },
    {
      "cell_type": "code",
      "execution_count": null,
      "metadata": {
        "id": "ag8uxtGdyt5J"
      },
      "outputs": [],
      "source": [
        "import os, json, math, random, gc, time\n",
        "import numpy as np\n",
        "import tensorflow as tf\n",
        "import matplotlib.pyplot as plt\n",
        "from sklearn.utils.class_weight import compute_class_weight\n",
        "from sklearn.metrics import classification_report, confusion_matrix\n",
        "from tensorflow.keras.applications import ResNet50\n",
        "from tensorflow.keras.applications.resnet50 import preprocess_input\n",
        "from tensorflow.keras.layers import Dense, GlobalAveragePooling2D, Dropout, BatchNormalization\n",
        "from tensorflow.keras.models import Model\n",
        "from tensorflow.keras.optimizers import Adam\n",
        "from tensorflow.keras.callbacks import EarlyStopping, ModelCheckpoint, ReduceLROnPlateau\n",
        "from tensorflow.keras.regularizers import l2\n",
        "from tensorflow.keras import mixed_precision"
      ]
    },
    {
      "cell_type": "code",
      "source": [
        "tf.random.set_seed(42)\n",
        "np.random.seed(42)\n",
        "random.seed(42)"
      ],
      "metadata": {
        "id": "P0jNckVw8HAB"
      },
      "execution_count": null,
      "outputs": []
    },
    {
      "cell_type": "code",
      "source": [
        "# Enable mixed precision for better performance\n",
        "policy = mixed_precision.Policy('mixed_float16')\n",
        "mixed_precision.set_global_policy(policy)"
      ],
      "metadata": {
        "id": "UyaUAQVxvSVy"
      },
      "execution_count": null,
      "outputs": []
    },
    {
      "cell_type": "code",
      "source": [
        "IMG_SIZE = 224  # ResNet50 default\n",
        "BATCH_SIZE = 16\n",
        "VAL_SPLIT = 0.20       # 20% for val+test (we'll split this in half later into val and test)\n",
        "SEED = 42\n",
        "COLOR_MODE = \"rgb\"\n",
        "EPOCHS_PHASE1 = 20\n",
        "EPOCHS_PHASE2 = 15\n",
        "BASE_LR = 0.0001\n",
        "FINE_TUNE_LR = 0.00001\n",
        "#LEARNING_RATE = 0.0001"
      ],
      "metadata": {
        "id": "s-5o4wkP-Qhr"
      },
      "execution_count": null,
      "outputs": []
    },
    {
      "cell_type": "code",
      "source": [
        "DATA_DIR = \"/content/drive/MyDrive/Colab Notebooks/SIH/data/raw_data\""
      ],
      "metadata": {
        "id": "ElfPG6868IEz"
      },
      "execution_count": null,
      "outputs": []
    },
    {
      "cell_type": "code",
      "execution_count": null,
      "metadata": {
        "id": "LmFQCiSWyyd1",
        "colab": {
          "base_uri": "https://localhost:8080/"
        },
        "outputId": "ac2f78be-24a8-4976-ed0e-80b829bba800"
      },
      "outputs": [
        {
          "output_type": "stream",
          "name": "stdout",
          "text": [
            "Removing cache files...\n",
            "Cache files cleared!\n"
          ]
        }
      ],
      "source": [
        "# Solution 1: Clear cache files and restart\n",
        "import os\n",
        "import glob\n",
        "\n",
        "# Clear all cache files\n",
        "cache_files = glob.glob(\"/tmp/cattle_*.cache*\")\n",
        "lock_files = glob.glob(\"/tmp/cattle_*.lockfile\")\n",
        "\n",
        "print(\"Removing cache files...\")\n",
        "for file in cache_files + lock_files:\n",
        "    try:\n",
        "        os.remove(file)\n",
        "        print(f\"Removed: {file}\")\n",
        "    except FileNotFoundError:\n",
        "        print(f\"File not found: {file}\")\n",
        "    except Exception as e:\n",
        "        print(f\"Error removing {file}: {e}\")\n",
        "\n",
        "print(\"Cache files cleared!\")"
      ]
    },
    {
      "cell_type": "code",
      "source": [
        "if os.path.isdir(DATA_DIR):\n",
        "  print(f\"Folder found: {DATA_DIR}\")\n",
        "else:\n",
        "  print(f\"Folder not found: {DATA_DIR}\")"
      ],
      "metadata": {
        "colab": {
          "base_uri": "https://localhost:8080/"
        },
        "id": "EAyzsTp6-CnZ",
        "outputId": "36b1ab65-a25b-4992-837b-f70e0a7845a9"
      },
      "execution_count": null,
      "outputs": [
        {
          "output_type": "stream",
          "name": "stdout",
          "text": [
            "Folder found: /content/drive/MyDrive/Colab Notebooks/SIH/data/raw_data\n"
          ]
        }
      ]
    },
    {
      "cell_type": "code",
      "source": [
        "def explore_dataset(data_dir):\n",
        "    \"\"\"\n",
        "    Explore the dataset structure and show sample counts\n",
        "    \"\"\"\n",
        "    print(\"Dataset Structure:\")\n",
        "    print(\"-\" * 40)\n",
        "\n",
        "    breeds = []\n",
        "    image_counts = []\n",
        "\n",
        "    if os.path.exists(data_dir):\n",
        "        for breed_folder in sorted(os.listdir(data_dir)):\n",
        "            breed_path = os.path.join(data_dir, breed_folder)\n",
        "            if os.path.isdir(breed_path):\n",
        "                image_count = len([f for f in os.listdir(breed_path)\n",
        "                                 if f.lower().endswith(('.jpg', '.jpeg', '.png'))])\n",
        "                breeds.append(breed_folder)\n",
        "                image_counts.append(image_count)\n",
        "                print(f\"{breed_folder}: {image_count} images\")\n",
        "\n",
        "    total_images = sum(image_counts)\n",
        "    print(\"-\" * 40)\n",
        "    print(f\"Total Images: {total_images}\")\n",
        "    print(f\"Total Breeds: {len(breeds)}\")\n",
        "\n",
        "    # Plot distribution\n",
        "    plt.figure(figsize=(12, 6))\n",
        "    plt.bar(breeds, image_counts, color=['skyblue' if 'cattle' in breed.lower() else 'lightcoral' for breed in breeds])\n",
        "    plt.title('Distribution of Images per Breed')\n",
        "    plt.xlabel('Breed')\n",
        "    plt.ylabel('Number of Images')\n",
        "    plt.xticks(rotation=45, ha='right')\n",
        "    plt.tight_layout()\n",
        "    plt.show()\n",
        "\n",
        "    return breeds, image_counts"
      ],
      "metadata": {
        "id": "H4NzXrx6C10Z"
      },
      "execution_count": null,
      "outputs": []
    },
    {
      "cell_type": "code",
      "source": [
        "# Explore your dataset\n",
        "breeds, counts = explore_dataset(DATA_DIR)"
      ],
      "metadata": {
        "colab": {
          "base_uri": "https://localhost:8080/",
          "height": 919
        },
        "id": "jzM4t_mcEVzw",
        "outputId": "951d691d-f4f3-4e1a-d313-1e3833c379be",
        "collapsed": true
      },
      "execution_count": null,
      "outputs": [
        {
          "output_type": "stream",
          "name": "stdout",
          "text": [
            "Dataset Structure:\n",
            "----------------------------------------\n",
            "Ayrshire cattle: 260 images\n",
            "Brown Swiss cattle: 238 images\n",
            "Gir Cow: 250 images\n",
            "Hallikar Cow: 210 images\n",
            "Holstein Friesian cattle: 254 images\n",
            "Jaffrabadi Buffalo: 210 images\n",
            "Jersey cattle: 252 images\n",
            "Kankrej Cow: 210 images\n",
            "Murrah: 210 images\n",
            "Nagpuri: 175 images\n",
            "Nili ravi Buffalo: 210 images\n",
            "Rathi Cow: 210 images\n",
            "Sahiwal Cow: 240 images\n",
            "Tharparkar Cow: 221 images\n",
            "----------------------------------------\n",
            "Total Images: 3150\n",
            "Total Breeds: 14\n"
          ]
        },
        {
          "output_type": "display_data",
          "data": {
            "text/plain": [
              "<Figure size 1200x600 with 1 Axes>"
            ],
            "image/png": "[encoded data removed]"
          },
          "metadata": {}
        }
      ]
    },
    {
      "cell_type": "code",
      "source": [
        "import os\n",
        "for cls in sorted(os.listdir(DATA_DIR)):\n",
        "    cls_path = os.path.join(DATA_DIR, cls)\n",
        "    if os.path.isdir(cls_path):\n",
        "        print(cls, len(os.listdir(cls_path)))\n"
      ],
      "metadata": {
        "colab": {
          "base_uri": "https://localhost:8080/"
        },
        "id": "BF9CBOtWQF1u",
        "outputId": "d8ec6e7f-a006-414f-c285-41008a231db8"
      },
      "execution_count": null,
      "outputs": [
        {
          "output_type": "stream",
          "name": "stdout",
          "text": [
            "Ayrshire cattle 260\n",
            "Brown Swiss cattle 238\n",
            "Gir Cow 250\n",
            "Hallikar Cow 210\n",
            "Holstein Friesian cattle 254\n",
            "Jaffrabadi Buffalo 210\n",
            "Jersey cattle 252\n",
            "Kankrej Cow 210\n",
            "Murrah 210\n",
            "Nagpuri 180\n",
            "Nili ravi Buffalo 210\n",
            "Rathi Cow 210\n",
            "Sahiwal Cow 240\n",
            "Tharparkar Cow 221\n"
          ]
        }
      ]
    },
    {
      "cell_type": "code",
      "source": [
        "# Load datasets (train / val_temp)\n",
        "train_ds = tf.keras.preprocessing.image_dataset_from_directory(\n",
        "    DATA_DIR,\n",
        "    labels=\"inferred\",       # Automatically label based on folder\n",
        "    label_mode=\"int\",        # keep integer labels; we can one-hot later inside the model\n",
        "    class_names=None,        # infer from subfolder names\n",
        "    color_mode=COLOR_MODE,\n",
        "    batch_size=BATCH_SIZE,\n",
        "    image_size=(IMG_SIZE,IMG_SIZE),     # will resize for you\n",
        "    shuffle=True,\n",
        "    seed=SEED,\n",
        "    validation_split=VAL_SPLIT,\n",
        "    subset=\"training\",\n",
        ")\n"
      ],
      "metadata": {
        "id": "TCGZd6A--bvm",
        "colab": {
          "base_uri": "https://localhost:8080/"
        },
        "outputId": "80844042-78f2-4a60-c708-d36e8ce82ed1"
      },
      "execution_count": null,
      "outputs": [
        {
          "output_type": "stream",
          "name": "stdout",
          "text": [
            "Found 3155 files belonging to 14 classes.\n",
            "Using 2524 files for training.\n"
          ]
        }
      ]
    },
    {
      "cell_type": "code",
      "source": [
        "val_temp_ds = tf.keras.preprocessing.image_dataset_from_directory(\n",
        "    DATA_DIR,\n",
        "    labels=\"inferred\",\n",
        "    label_mode=\"int\",\n",
        "    color_mode=COLOR_MODE,\n",
        "    batch_size=BATCH_SIZE,\n",
        "    image_size=(IMG_SIZE,IMG_SIZE),\n",
        "    shuffle=True,\n",
        "    seed=SEED,\n",
        "    validation_split=VAL_SPLIT,\n",
        "    subset=\"validation\",\n",
        ")"
      ],
      "metadata": {
        "colab": {
          "base_uri": "https://localhost:8080/"
        },
        "id": "kP5AL60XLncz",
        "outputId": "eacc0ce3-94a5-415c-bb4e-477e3362a651"
      },
      "execution_count": null,
      "outputs": [
        {
          "output_type": "stream",
          "name": "stdout",
          "text": [
            "Found 3155 files belonging to 14 classes.\n",
            "Using 631 files for validation.\n"
          ]
        }
      ]
    },
    {
      "cell_type": "code",
      "source": [
        "# Save class names (folder names) for later use\n",
        "class_names = train_ds.class_names\n",
        "num_classes = len(class_names)\n",
        "print(\"Classes:\", class_names)"
      ],
      "metadata": {
        "colab": {
          "base_uri": "https://localhost:8080/"
        },
        "id": "Wak8UhhjLqNw",
        "outputId": "3aa195be-8059-47ab-e7c6-218a6a3efc08"
      },
      "execution_count": null,
      "outputs": [
        {
          "output_type": "stream",
          "name": "stdout",
          "text": [
            "Classes: ['Ayrshire cattle', 'Brown Swiss cattle', 'Gir Cow', 'Hallikar Cow', 'Holstein Friesian cattle', 'Jaffrabadi Buffalo', 'Jersey cattle', 'Kankrej Cow', 'Murrah', 'Nagpuri', 'Nili ravi Buffalo', 'Rathi Cow', 'Sahiwal Cow', 'Tharparkar Cow']\n"
          ]
        }
      ]
    },
    {
      "cell_type": "code",
      "source": [
        "# Check the labels\n",
        "#print(\"Class labels:\", train_ds.class_indices)\n",
        "label_map = {i: name for i, name in enumerate(class_names)}\n",
        "print(label_map)"
      ],
      "metadata": {
        "colab": {
          "base_uri": "https://localhost:8080/"
        },
        "id": "59tBBl9OKE0v",
        "outputId": "fd451c38-ba72-4b8a-83dd-1da95949e9da"
      },
      "execution_count": null,
      "outputs": [
        {
          "output_type": "stream",
          "name": "stdout",
          "text": [
            "{0: 'Ayrshire cattle', 1: 'Brown Swiss cattle', 2: 'Gir Cow', 3: 'Hallikar Cow', 4: 'Holstein Friesian cattle', 5: 'Jaffrabadi Buffalo', 6: 'Jersey cattle', 7: 'Kankrej Cow', 8: 'Murrah', 9: 'Nagpuri', 10: 'Nili ravi Buffalo', 11: 'Rathi Cow', 12: 'Sahiwal Cow', 13: 'Tharparkar Cow'}\n"
          ]
        }
      ]
    },
    {
      "cell_type": "code",
      "source": [
        "# Save mapping to file\n",
        "label_map = {i: name for i, name in enumerate(class_names)}\n",
        "#print(label_map)\n",
        "with open(\"/content/drive/MyDrive/Colab Notebooks/SIH/data/class_names.json\", \"w\") as f:\n",
        "    json.dump(label_map, f, indent=2)\n",
        "print(\"/content/drive/MyDrive/Colab Notebooks/SIH/data/class_names.json\")"
      ],
      "metadata": {
        "colab": {
          "base_uri": "https://localhost:8080/"
        },
        "id": "SIXJXrn4Mbij",
        "outputId": "0e4efbc2-9f46-4ef1-e04c-197fdc9ee8be"
      },
      "execution_count": null,
      "outputs": [
        {
          "output_type": "stream",
          "name": "stdout",
          "text": [
            "/content/drive/MyDrive/Colab Notebooks/SIH/data/class_names.json\n"
          ]
        }
      ]
    },
    {
      "cell_type": "code",
      "source": [
        "for images, labels in train_ds.take(1): # take first batch\n",
        "  print(\"Labels: \",labels.numpy())\n",
        "  print(\"Class names: \", [class_names[i] for i in labels.numpy()])"
      ],
      "metadata": {
        "colab": {
          "base_uri": "https://localhost:8080/"
        },
        "id": "jjeHKHsqNDja",
        "outputId": "985e42d1-a98f-4c51-9708-c77aa93cc1d2"
      },
      "execution_count": null,
      "outputs": [
        {
          "output_type": "stream",
          "name": "stdout",
          "text": [
            "Labels:  [13 10  2  1  5 11  1  7 11 11  8 11  1  5  4  0]\n",
            "Class names:  ['Tharparkar Cow', 'Nili ravi Buffalo', 'Gir Cow', 'Brown Swiss cattle', 'Jaffrabadi Buffalo', 'Rathi Cow', 'Brown Swiss cattle', 'Kankrej Cow', 'Rathi Cow', 'Rathi Cow', 'Murrah', 'Rathi Cow', 'Brown Swiss cattle', 'Jaffrabadi Buffalo', 'Holstein Friesian cattle', 'Ayrshire cattle']\n"
          ]
        }
      ]
    },
    {
      "cell_type": "code",
      "source": [
        "# revesre mapping\n",
        "class_to_idx = {name: i for i, name in enumerate(class_names)}\n",
        "print(class_to_idx)\n"
      ],
      "metadata": {
        "colab": {
          "base_uri": "https://localhost:8080/"
        },
        "id": "rtk2dR8_N0oU",
        "outputId": "88739a86-e284-43d4-ddcb-1b00ae4d08b8"
      },
      "execution_count": null,
      "outputs": [
        {
          "output_type": "stream",
          "name": "stdout",
          "text": [
            "{'Ayrshire cattle': 0, 'Brown Swiss cattle': 1, 'Gir Cow': 2, 'Hallikar Cow': 3, 'Holstein Friesian cattle': 4, 'Jaffrabadi Buffalo': 5, 'Jersey cattle': 6, 'Kankrej Cow': 7, 'Murrah': 8, 'Nagpuri': 9, 'Nili ravi Buffalo': 10, 'Rathi Cow': 11, 'Sahiwal Cow': 12, 'Tharparkar Cow': 13}\n"
          ]
        }
      ]
    },
    {
      "cell_type": "code",
      "source": [
        "# Split val_temp into real val and test (50/50)"
      ],
      "metadata": {
        "id": "7iTxjrLSRrxQ"
      },
      "execution_count": null,
      "outputs": []
    },
    {
      "cell_type": "code",
      "source": [
        "# In TensorFlow, a tf.data.Dataset doesn’t store everything in memory — it’s a pipeline of operations (like “read images → resize → batch → shuffle”)\n",
        "# To know how many batches are inside the dataset, you use: tf.data.experimental.cardinality(dataset)\n",
        "# This returns a special TensorFlow object (tf.Tensor) representing the count of batches\n",
        "val_temp_batches = tf.data.experimental.cardinality(val_temp_ds).numpy()\n",
        "print(val_temp_batches)"
      ],
      "metadata": {
        "colab": {
          "base_uri": "https://localhost:8080/"
        },
        "id": "QEJajt30Pfc8",
        "outputId": "dd9df389-ffa0-4799-94a9-3515e4e341ae"
      },
      "execution_count": null,
      "outputs": [
        {
          "output_type": "stream",
          "name": "stdout",
          "text": [
            "40\n"
          ]
        }
      ]
    },
    {
      "cell_type": "code",
      "source": [
        "test_ds = val_temp_ds.take(val_temp_batches // 2)\n",
        "val_ds  = val_temp_ds.skip(val_temp_batches // 2)"
      ],
      "metadata": {
        "id": "JB6-5YWJSOfm"
      },
      "execution_count": null,
      "outputs": []
    },
    {
      "cell_type": "code",
      "source": [
        "print(\"Batches -> train:\", tf.data.experimental.cardinality(train_ds).numpy(),\n",
        "      \"| val:\", tf.data.experimental.cardinality(val_ds).numpy(),\n",
        "      \"| test:\", tf.data.experimental.cardinality(test_ds).numpy())"
      ],
      "metadata": {
        "colab": {
          "base_uri": "https://localhost:8080/"
        },
        "id": "u4giij8YSVJO",
        "outputId": "57307ba3-2c00-48ef-91b5-44fa7eebc6ba"
      },
      "execution_count": null,
      "outputs": [
        {
          "output_type": "stream",
          "name": "stdout",
          "text": [
            "Batches -> train: 158 | val: 20 | test: 20\n"
          ]
        }
      ]
    },
    {
      "cell_type": "code",
      "source": [
        "print(32*(31+4+4))\n",
        "print(260+238+254+252+204) # last batch are not full"
      ],
      "metadata": {
        "colab": {
          "base_uri": "https://localhost:8080/"
        },
        "id": "vzpLOAxUSddW",
        "outputId": "f96c1690-ec0b-478d-ac78-6203a089357b"
      },
      "execution_count": null,
      "outputs": [
        {
          "output_type": "stream",
          "name": "stdout",
          "text": [
            "1248\n",
            "1208\n"
          ]
        }
      ]
    },
    {
      "cell_type": "markdown",
      "source": [
        "Data augmentation (training only)"
      ],
      "metadata": {
        "id": "aHaAuUvwTcBe"
      }
    },
    {
      "cell_type": "code",
      "source": [
        "#    Keep augmentations conservative to avoid distorting breed characteristics.\n",
        "#    NOTE: These layers work fine before preprocess_input(i.e., before preprocess_input). Augmentation works on normal images (0–255 pixel range)"
      ],
      "metadata": {
        "id": "OZZimYxvTfMn"
      },
      "execution_count": null,
      "outputs": []
    },
    {
      "cell_type": "code",
      "source": [
        "data_augmentation = tf.keras.Sequential([\n",
        "    tf.keras.layers.RandomFlip(\"horizontal\"),\n",
        "    tf.keras.layers.RandomRotation(factor=0.15),\n",
        "    tf.keras.layers.RandomZoom(height_factor=0.10, width_factor=0.10),\n",
        "    tf.keras.layers.RandomTranslation(height_factor=0.05, width_factor=0.05),\n",
        "    tf.keras.layers.RandomBrightness(0.15),  # brightness variation\n",
        "    tf.keras.layers.RandomContrast(0.15),    # contrast variation\n",
        "    #tf.keras.layers.RandomCrop(height=200, width=200),  # Random crop then resize\n",
        "    #tf.keras.layers.Resizing(224, 224)\n",
        "], name=\"enhanced_data_augmentation\")"
      ],
      "metadata": {
        "id": "4G3yxsuEU8vr"
      },
      "execution_count": null,
      "outputs": []
    },
    {
      "cell_type": "markdown",
      "source": [
        "Preprocess for ResNet50"
      ],
      "metadata": {
        "id": "LFpAMw6sV5Gj"
      }
    },
    {
      "cell_type": "code",
      "source": [
        "#    Use tf.keras.applications.resnet50.preprocess_input (Caffe-style: BGR, mean subtraction).\n",
        "#    Do NOT also rescale 1/255."
      ],
      "metadata": {
        "id": "e1OLohzZV54f"
      },
      "execution_count": null,
      "outputs": []
    },
    {
      "cell_type": "code",
      "source": [
        "from tensorflow.keras.applications.resnet50 import preprocess_input\n",
        "\n",
        "AUTOTUNE = tf.data.AUTOTUNE"
      ],
      "metadata": {
        "id": "Elb2zZj5W3DI"
      },
      "execution_count": null,
      "outputs": []
    },
    {
      "cell_type": "code",
      "source": [
        "def add_augmentation(image, label):\n",
        "    # Apply only on training\n",
        "    image = data_augmentation(image, training=True)\n",
        "    return image, label"
      ],
      "metadata": {
        "id": "ZcVFEwmKXWLe"
      },
      "execution_count": null,
      "outputs": []
    },
    {
      "cell_type": "code",
      "source": [
        "def preprocess_for_resnet(image, label):\n",
        "    image = tf.cast(image, tf.float32)      # convert to float32\n",
        "    image = preprocess_input(image)  # expects float32 in [0..255]\n",
        "    return image, label"
      ],
      "metadata": {
        "id": "D305xX9oXefK"
      },
      "execution_count": null,
      "outputs": []
    },
    {
      "cell_type": "code",
      "source": [
        "# Apply augmentation to train only, then preprocess on all sets\n",
        "train_ds = (train_ds\n",
        "            .map(add_augmentation, num_parallel_calls=AUTOTUNE)\n",
        "            .map(preprocess_for_resnet, num_parallel_calls=AUTOTUNE))"
      ],
      "metadata": {
        "id": "-9RRQKNJX5ct"
      },
      "execution_count": null,
      "outputs": []
    },
    {
      "cell_type": "code",
      "source": [
        "val_ds   = val_ds.map(preprocess_for_resnet, num_parallel_calls=AUTOTUNE)\n",
        "test_ds  = test_ds.map(preprocess_for_resnet, num_parallel_calls=AUTOTUNE)"
      ],
      "metadata": {
        "id": "4czDVrGyYSyw"
      },
      "execution_count": null,
      "outputs": []
    },
    {
      "cell_type": "markdown",
      "source": [
        "pipeline optimizations:- Caching, shuffling, prefetching (performance)\n",
        "Cache to disk to avoid RAM spikes on large datasets in Colab."
      ],
      "metadata": {
        "id": "RjlxP435hg7T"
      }
    },
    {
      "cell_type": "code",
      "source": [
        "import time\n",
        "import random\n",
        "\n",
        "# Create unique cache names\n",
        "cache_suffix = f\"{int(time.time())}_{random.randint(1000, 9999)}\"\n",
        "\n",
        "train_ds = (train_ds\n",
        "            .cache(f\"/tmp/cattle_train_{cache_suffix}.cache\")\n",
        "            .shuffle(buffer_size= 200, seed=SEED, reshuffle_each_iteration=True)\n",
        "            .prefetch(AUTOTUNE))\n",
        "\n",
        "val_ds   = val_ds.cache(f\"/tmp/cattle_val_{cache_suffix}.cache\").prefetch(AUTOTUNE)\n",
        "test_ds  = test_ds.cache(f\"/tmp/cattle_test_{cache_suffix}.cache\").prefetch(AUTOTUNE)"
      ],
      "metadata": {
        "id": "vUPUcPZfhpzc"
      },
      "execution_count": null,
      "outputs": []
    },
    {
      "cell_type": "markdown",
      "source": [
        "Quick sanity checks"
      ],
      "metadata": {
        "id": "E7vjvZy7_EXW"
      }
    },
    {
      "cell_type": "code",
      "source": [
        "'''for images, labels in train_ds.take(1):\n",
        "    print(\"Image batch shape:\", images.shape, \"Label batch shape:\", labels.shape)\n",
        "    print(\"Label dtype:\", labels.dtype)\n",
        "    print(\"Min/Max pixel after preprocess_input:\", tf.reduce_min(images).numpy(), tf.reduce_max(images).numpy())'''"
      ],
      "metadata": {
        "id": "RtvVA6rnh2rR",
        "colab": {
          "base_uri": "https://localhost:8080/",
          "height": 72
        },
        "outputId": "a46ccea4-6930-4fdf-d031-b63ae7a24bf5"
      },
      "execution_count": null,
      "outputs": [
        {
          "output_type": "execute_result",
          "data": {
            "text/plain": [
              "'for images, labels in train_ds.take(1):\\n    print(\"Image batch shape:\", images.shape, \"Label batch shape:\", labels.shape)\\n    print(\"Label dtype:\", labels.dtype)\\n    print(\"Min/Max pixel after preprocess_input:\", tf.reduce_min(images).numpy(), tf.reduce_max(images).numpy())'"
            ],
            "application/vnd.google.colaboratory.intrinsic+json": {
              "type": "string"
            }
          },
          "metadata": {},
          "execution_count": 34
        }
      ]
    },
    {
      "cell_type": "markdown",
      "source": [
        "Class distribution — helpful later for class weight"
      ],
      "metadata": {
        "id": "cbVNWpjdJnIh"
      }
    },
    {
      "cell_type": "code",
      "source": [
        "'''import numpy as np\n",
        "\n",
        "# Count labels in training dataset\n",
        "train_class_counts = np.zeros(len(class_names))\n",
        "for images, labels in train_ds.unbatch():\n",
        "    train_class_counts[labels.numpy()] += 1\n",
        "\n",
        "print(\"Class counts:\", train_class_counts)'''"
      ],
      "metadata": {
        "id": "NH4MmYjSiEc-",
        "colab": {
          "base_uri": "https://localhost:8080/",
          "height": 54
        },
        "outputId": "a9eb1403-3adb-4810-9f2c-ab119ce5365f"
      },
      "execution_count": null,
      "outputs": [
        {
          "output_type": "execute_result",
          "data": {
            "text/plain": [
              "'import numpy as np\\n\\n# Count labels in training dataset\\ntrain_class_counts = np.zeros(len(class_names))\\nfor images, labels in train_ds.unbatch():\\n    train_class_counts[labels.numpy()] += 1\\n\\nprint(\"Class counts:\", train_class_counts)'"
            ],
            "application/vnd.google.colaboratory.intrinsic+json": {
              "type": "string"
            }
          },
          "metadata": {},
          "execution_count": 35
        }
      ]
    },
    {
      "cell_type": "code",
      "source": [
        "def compute_balanced_class_weights():\n",
        "    \"\"\"Compute class weights using file count method (same as yours)\"\"\"\n",
        "    class_counts = {}\n",
        "    class_names_from_dir = sorted(os.listdir(DATA_DIR))\n",
        "\n",
        "    for class_name in class_names_from_dir:\n",
        "        class_path = os.path.join(DATA_DIR, class_name)\n",
        "        if os.path.isdir(class_path):\n",
        "            class_counts[class_name] = len([f for f in os.listdir(class_path)\n",
        "                                          if f.lower().endswith(('.png', '.jpg', '.jpeg'))])\n",
        "\n",
        "    # Create labels array\n",
        "    y_labels = []\n",
        "    for i, class_name in enumerate(class_names_from_dir):\n",
        "        if class_name in class_counts:\n",
        "            y_labels.extend([i] * class_counts[class_name])\n",
        "\n",
        "    # Compute balanced weights\n",
        "    class_weights = compute_class_weight(\n",
        "        class_weight=\"balanced\",\n",
        "        classes=np.arange(len(class_names_from_dir)),\n",
        "        y=np.array(y_labels)\n",
        "    )\n",
        "\n",
        "    # Apply smoothing to prevent extreme weights (NEW IMPROVEMENT)\n",
        "    class_weights = np.clip(class_weights, 0.5, 2.0)\n",
        "    class_weights_dict = dict(enumerate(class_weights))\n",
        "\n",
        "    print(\"Improved Class Weights:\", class_weights_dict)\n",
        "    return class_weights_dict\n",
        "class_weights = compute_balanced_class_weights()"
      ],
      "metadata": {
        "id": "DgG7R43GE6b0",
        "colab": {
          "base_uri": "https://localhost:8080/"
        },
        "outputId": "0f9841c5-81c4-4102-b05e-33fdb57cb3aa"
      },
      "execution_count": null,
      "outputs": [
        {
          "output_type": "stream",
          "name": "stdout",
          "text": [
            "Improved Class Weights: {0: np.float64(0.8653846153846154), 1: np.float64(0.9453781512605042), 2: np.float64(0.9), 3: np.float64(1.0714285714285714), 4: np.float64(0.8858267716535433), 5: np.float64(1.0714285714285714), 6: np.float64(0.8928571428571429), 7: np.float64(1.0714285714285714), 8: np.float64(1.0714285714285714), 9: np.float64(1.2857142857142858), 10: np.float64(1.0714285714285714), 11: np.float64(1.0714285714285714), 12: np.float64(0.9375), 13: np.float64(1.0180995475113122)}\n"
          ]
        }
      ]
    },
    {
      "cell_type": "code",
      "source": [
        "num_classes = len(class_names)"
      ],
      "metadata": {
        "id": "W3jDno4dLM4C"
      },
      "execution_count": null,
      "outputs": []
    },
    {
      "cell_type": "code",
      "source": [
        "def create_breed_classification_model():\n",
        "    \"\"\"\n",
        "    Create transfer learning model using ResNet50 as backbone\n",
        "    ResNet50: 50-layer Residual Network pre-trained on ImageNet\n",
        "    \"\"\"\n",
        "\n",
        "    # Load ResNet50 pre-trained on ImageNet (without top classification layer)\n",
        "    base_model = ResNet50(\n",
        "        weights='imagenet',  # Use ImageNet pre-trained weights\n",
        "        include_top=False,   # Exclude final classification layer\n",
        "        input_shape=(224, 224, 3),  # Input image shape\n",
        "        pooling=None         # We'll add our own pooling\n",
        "    )\n",
        "\n",
        "    # Freeze the base model initially (transfer learning)\n",
        "    base_model.trainable = False\n",
        "\n",
        "    print(f\"ResNet50 base model has {len(base_model.layers)} layers\")\n",
        "    print(f\"Base model output shape: {base_model.output_shape}\")\n",
        "\n",
        "    # Build the complete model\n",
        "\n",
        "    #Creates the \"entrance door\" for our images\n",
        "    inputs = tf.keras.Input(shape=(224, 224, 3))\n",
        "\n",
        "    # Pass through ResNet50 base\n",
        "    x = base_model(inputs, training=False)\n",
        "    # Input: (IMG_SIZE, IMG_SIZE, 3) → ResNet50 → Output: (7, 7, 2048)\n",
        "\n",
        "    # Add custom classification head with MORE regularization\n",
        "\n",
        "    x = GlobalAveragePooling2D(name='global_avg_pooling')(x) # Converts the 3D feature map to a 1D vector; Before: (7, 7, 2048) = 100,352 numbers arranged in grids After: (2048,) = 2048 summary numbers\n",
        "    x = BatchNormalization(name='batch_norm_1')(x) # Normalizes the data to have mean=0 and standard deviation=1\n",
        "    x = Dropout(0.3, name='dropout_1')(x)\n",
        "    # First dense layer with L2 regularization\n",
        "    x = Dense(1024,\n",
        "              activation='relu',\n",
        "              kernel_regularizer=l2(0.005),  # NEW: L2 regularization\n",
        "              name='dense_1')(x)\n",
        "    x = BatchNormalization(name='batch_norm_2')(x)\n",
        "    x = Dropout(0.5, name='dropout_2')(x)\n",
        "\n",
        "    # Second dense layer with L2 regularization\n",
        "    x = Dense(256,\n",
        "              activation='relu',\n",
        "              kernel_regularizer=l2(0.003),\n",
        "              name='dense_2')(x)\n",
        "    x = Dropout(0.2, name='dropout_3')(x)\n",
        "\n",
        "    # Second dense layer\n",
        "    x = Dense(256,\n",
        "              activation='relu',\n",
        "              kernel_regularizer=l2(0.005),\n",
        "              name='dense_3')(x)\n",
        "    x = Dropout(0.2, name='dropout_4')(x)\n",
        "\n",
        "    # Final classification layer\n",
        "    outputs = Dense(num_classes,\n",
        "                    activation='softmax',\n",
        "                    kernel_regularizer=l2(0.001),\n",
        "                    name='breed_classification',\n",
        "                    dtype='float32')(x)\n",
        "\n",
        "    # Create the model\n",
        "    model = Model(inputs, outputs, name='Cattle_Buffalo_Breed_Classifier')\n",
        "\n",
        "    return model, base_model\n"
      ],
      "metadata": {
        "id": "_6eNClZmt1_u"
      },
      "execution_count": null,
      "outputs": []
    },
    {
      "cell_type": "code",
      "source": [
        "# Create the model\n",
        "print(\"Building ResNet50-based breed classification model...\")\n",
        "model, base_model = create_breed_classification_model()"
      ],
      "metadata": {
        "id": "qC8Ycjzt0Zzs",
        "colab": {
          "base_uri": "https://localhost:8080/"
        },
        "outputId": "11cb38b5-b03b-48db-be00-420aaf427ebe"
      },
      "execution_count": null,
      "outputs": [
        {
          "output_type": "stream",
          "name": "stdout",
          "text": [
            "Building ResNet50-based breed classification model...\n",
            "Downloading data from https://storage.googleapis.com/tensorflow/keras-applications/resnet/resnet50_weights_tf_dim_ordering_tf_kernels_notop.h5\n",
            "\u001b[1m94765736/94765736\u001b[0m \u001b[32m━━━━━━━━━━━━━━━━━━━━\u001b[0m\u001b[37m\u001b[0m \u001b[1m3s\u001b[0m 0us/step\n",
            "ResNet50 base model has 175 layers\n",
            "Base model output shape: (None, 7, 7, 2048)\n"
          ]
        }
      ]
    },
    {
      "cell_type": "code",
      "source": [
        "# Display model architecture\n",
        "model.summary()"
      ],
      "metadata": {
        "id": "NAwSn_-g0dhU",
        "colab": {
          "base_uri": "https://localhost:8080/",
          "height": 606
        },
        "outputId": "7b5f45c9-d818-449d-d76b-1f2d3c8c93fd"
      },
      "execution_count": null,
      "outputs": [
        {
          "output_type": "display_data",
          "data": {
            "text/plain": [
              "\u001b[1mModel: \"Cattle_Buffalo_Breed_Classifier\"\u001b[0m\n"
            ],
            "text/html": [
              "<pre style=\"white-space:pre;overflow-x:auto;line-height:normal;font-family:Menlo,'DejaVu Sans Mono',consolas,'Courier New',monospace\"><span style=\"font-weight: bold\">Model: \"Cattle_Buffalo_Breed_Classifier\"</span>\n",
              "</pre>\n"
            ]
          },
          "metadata": {}
        },
        {
          "output_type": "display_data",
          "data": {
            "text/plain": [
              "┏━━━━━━━━━━━━━━━━━━━━━━━━━━━━━━━━━┳━━━━━━━━━━━━━━━━━━━━━━━━┳━━━━━━━━━━━━━━━┓\n",
              "┃\u001b[1m \u001b[0m\u001b[1mLayer (type)                   \u001b[0m\u001b[1m \u001b[0m┃\u001b[1m \u001b[0m\u001b[1mOutput Shape          \u001b[0m\u001b[1m \u001b[0m┃\u001b[1m \u001b[0m\u001b[1m      Param #\u001b[0m\u001b[1m \u001b[0m┃\n",
              "┡━━━━━━━━━━━━━━━━━━━━━━━━━━━━━━━━━╇━━━━━━━━━━━━━━━━━━━━━━━━╇━━━━━━━━━━━━━━━┩\n",
              "│ input_layer_2 (\u001b[38;5;33mInputLayer\u001b[0m)      │ (\u001b[38;5;45mNone\u001b[0m, \u001b[38;5;34m224\u001b[0m, \u001b[38;5;34m224\u001b[0m, \u001b[38;5;34m3\u001b[0m)    │             \u001b[38;5;34m0\u001b[0m │\n",
              "├─────────────────────────────────┼────────────────────────┼───────────────┤\n",
              "│ resnet50 (\u001b[38;5;33mFunctional\u001b[0m)           │ (\u001b[38;5;45mNone\u001b[0m, \u001b[38;5;34m7\u001b[0m, \u001b[38;5;34m7\u001b[0m, \u001b[38;5;34m2048\u001b[0m)     │    \u001b[38;5;34m23,587,712\u001b[0m │\n",
              "├─────────────────────────────────┼────────────────────────┼───────────────┤\n",
              "│ global_avg_pooling              │ (\u001b[38;5;45mNone\u001b[0m, \u001b[38;5;34m2048\u001b[0m)           │             \u001b[38;5;34m0\u001b[0m │\n",
              "│ (\u001b[38;5;33mGlobalAveragePooling2D\u001b[0m)        │                        │               │\n",
              "├─────────────────────────────────┼────────────────────────┼───────────────┤\n",
              "│ batch_norm_1                    │ (\u001b[38;5;45mNone\u001b[0m, \u001b[38;5;34m2048\u001b[0m)           │         \u001b[38;5;34m8,192\u001b[0m │\n",
              "│ (\u001b[38;5;33mBatchNormalization\u001b[0m)            │                        │               │\n",
              "├─────────────────────────────────┼────────────────────────┼───────────────┤\n",
              "│ dropout_1 (\u001b[38;5;33mDropout\u001b[0m)             │ (\u001b[38;5;45mNone\u001b[0m, \u001b[38;5;34m2048\u001b[0m)           │             \u001b[38;5;34m0\u001b[0m │\n",
              "├─────────────────────────────────┼────────────────────────┼───────────────┤\n",
              "│ dense_1 (\u001b[38;5;33mDense\u001b[0m)                 │ (\u001b[38;5;45mNone\u001b[0m, \u001b[38;5;34m1024\u001b[0m)           │     \u001b[38;5;34m2,098,176\u001b[0m │\n",
              "├─────────────────────────────────┼────────────────────────┼───────────────┤\n",
              "│ batch_norm_2                    │ (\u001b[38;5;45mNone\u001b[0m, \u001b[38;5;34m1024\u001b[0m)           │         \u001b[38;5;34m4,096\u001b[0m │\n",
              "│ (\u001b[38;5;33mBatchNormalization\u001b[0m)            │                        │               │\n",
              "├─────────────────────────────────┼────────────────────────┼───────────────┤\n",
              "│ dropout_2 (\u001b[38;5;33mDropout\u001b[0m)             │ (\u001b[38;5;45mNone\u001b[0m, \u001b[38;5;34m1024\u001b[0m)           │             \u001b[38;5;34m0\u001b[0m │\n",
              "├─────────────────────────────────┼────────────────────────┼───────────────┤\n",
              "│ dense_2 (\u001b[38;5;33mDense\u001b[0m)                 │ (\u001b[38;5;45mNone\u001b[0m, \u001b[38;5;34m256\u001b[0m)            │       \u001b[38;5;34m262,400\u001b[0m │\n",
              "├─────────────────────────────────┼────────────────────────┼───────────────┤\n",
              "│ dropout_3 (\u001b[38;5;33mDropout\u001b[0m)             │ (\u001b[38;5;45mNone\u001b[0m, \u001b[38;5;34m256\u001b[0m)            │             \u001b[38;5;34m0\u001b[0m │\n",
              "├─────────────────────────────────┼────────────────────────┼───────────────┤\n",
              "│ dense_3 (\u001b[38;5;33mDense\u001b[0m)                 │ (\u001b[38;5;45mNone\u001b[0m, \u001b[38;5;34m256\u001b[0m)            │        \u001b[38;5;34m65,792\u001b[0m │\n",
              "├─────────────────────────────────┼────────────────────────┼───────────────┤\n",
              "│ dropout_4 (\u001b[38;5;33mDropout\u001b[0m)             │ (\u001b[38;5;45mNone\u001b[0m, \u001b[38;5;34m256\u001b[0m)            │             \u001b[38;5;34m0\u001b[0m │\n",
              "├─────────────────────────────────┼────────────────────────┼───────────────┤\n",
              "│ breed_classification (\u001b[38;5;33mDense\u001b[0m)    │ (\u001b[38;5;45mNone\u001b[0m, \u001b[38;5;34m14\u001b[0m)             │         \u001b[38;5;34m3,598\u001b[0m │\n",
              "└─────────────────────────────────┴────────────────────────┴───────────────┘\n"
            ],
            "text/html": [
              "<pre style=\"white-space:pre;overflow-x:auto;line-height:normal;font-family:Menlo,'DejaVu Sans Mono',consolas,'Courier New',monospace\">┏━━━━━━━━━━━━━━━━━━━━━━━━━━━━━━━━━┳━━━━━━━━━━━━━━━━━━━━━━━━┳━━━━━━━━━━━━━━━┓\n",
              "┃<span style=\"font-weight: bold\"> Layer (type)                    </span>┃<span style=\"font-weight: bold\"> Output Shape           </span>┃<span style=\"font-weight: bold\">       Param # </span>┃\n",
              "┡━━━━━━━━━━━━━━━━━━━━━━━━━━━━━━━━━╇━━━━━━━━━━━━━━━━━━━━━━━━╇━━━━━━━━━━━━━━━┩\n",
              "│ input_layer_2 (<span style=\"color: #0087ff; text-decoration-color: #0087ff\">InputLayer</span>)      │ (<span style=\"color: #00d7ff; text-decoration-color: #00d7ff\">None</span>, <span style=\"color: #00af00; text-decoration-color: #00af00\">224</span>, <span style=\"color: #00af00; text-decoration-color: #00af00\">224</span>, <span style=\"color: #00af00; text-decoration-color: #00af00\">3</span>)    │             <span style=\"color: #00af00; text-decoration-color: #00af00\">0</span> │\n",
              "├─────────────────────────────────┼────────────────────────┼───────────────┤\n",
              "│ resnet50 (<span style=\"color: #0087ff; text-decoration-color: #0087ff\">Functional</span>)           │ (<span style=\"color: #00d7ff; text-decoration-color: #00d7ff\">None</span>, <span style=\"color: #00af00; text-decoration-color: #00af00\">7</span>, <span style=\"color: #00af00; text-decoration-color: #00af00\">7</span>, <span style=\"color: #00af00; text-decoration-color: #00af00\">2048</span>)     │    <span style=\"color: #00af00; text-decoration-color: #00af00\">23,587,712</span> │\n",
              "├─────────────────────────────────┼────────────────────────┼───────────────┤\n",
              "│ global_avg_pooling              │ (<span style=\"color: #00d7ff; text-decoration-color: #00d7ff\">None</span>, <span style=\"color: #00af00; text-decoration-color: #00af00\">2048</span>)           │             <span style=\"color: #00af00; text-decoration-color: #00af00\">0</span> │\n",
              "│ (<span style=\"color: #0087ff; text-decoration-color: #0087ff\">GlobalAveragePooling2D</span>)        │                        │               │\n",
              "├─────────────────────────────────┼────────────────────────┼───────────────┤\n",
              "│ batch_norm_1                    │ (<span style=\"color: #00d7ff; text-decoration-color: #00d7ff\">None</span>, <span style=\"color: #00af00; text-decoration-color: #00af00\">2048</span>)           │         <span style=\"color: #00af00; text-decoration-color: #00af00\">8,192</span> │\n",
              "│ (<span style=\"color: #0087ff; text-decoration-color: #0087ff\">BatchNormalization</span>)            │                        │               │\n",
              "├─────────────────────────────────┼────────────────────────┼───────────────┤\n",
              "│ dropout_1 (<span style=\"color: #0087ff; text-decoration-color: #0087ff\">Dropout</span>)             │ (<span style=\"color: #00d7ff; text-decoration-color: #00d7ff\">None</span>, <span style=\"color: #00af00; text-decoration-color: #00af00\">2048</span>)           │             <span style=\"color: #00af00; text-decoration-color: #00af00\">0</span> │\n",
              "├─────────────────────────────────┼────────────────────────┼───────────────┤\n",
              "│ dense_1 (<span style=\"color: #0087ff; text-decoration-color: #0087ff\">Dense</span>)                 │ (<span style=\"color: #00d7ff; text-decoration-color: #00d7ff\">None</span>, <span style=\"color: #00af00; text-decoration-color: #00af00\">1024</span>)           │     <span style=\"color: #00af00; text-decoration-color: #00af00\">2,098,176</span> │\n",
              "├─────────────────────────────────┼────────────────────────┼───────────────┤\n",
              "│ batch_norm_2                    │ (<span style=\"color: #00d7ff; text-decoration-color: #00d7ff\">None</span>, <span style=\"color: #00af00; text-decoration-color: #00af00\">1024</span>)           │         <span style=\"color: #00af00; text-decoration-color: #00af00\">4,096</span> │\n",
              "│ (<span style=\"color: #0087ff; text-decoration-color: #0087ff\">BatchNormalization</span>)            │                        │               │\n",
              "├─────────────────────────────────┼────────────────────────┼───────────────┤\n",
              "│ dropout_2 (<span style=\"color: #0087ff; text-decoration-color: #0087ff\">Dropout</span>)             │ (<span style=\"color: #00d7ff; text-decoration-color: #00d7ff\">None</span>, <span style=\"color: #00af00; text-decoration-color: #00af00\">1024</span>)           │             <span style=\"color: #00af00; text-decoration-color: #00af00\">0</span> │\n",
              "├─────────────────────────────────┼────────────────────────┼───────────────┤\n",
              "│ dense_2 (<span style=\"color: #0087ff; text-decoration-color: #0087ff\">Dense</span>)                 │ (<span style=\"color: #00d7ff; text-decoration-color: #00d7ff\">None</span>, <span style=\"color: #00af00; text-decoration-color: #00af00\">256</span>)            │       <span style=\"color: #00af00; text-decoration-color: #00af00\">262,400</span> │\n",
              "├─────────────────────────────────┼────────────────────────┼───────────────┤\n",
              "│ dropout_3 (<span style=\"color: #0087ff; text-decoration-color: #0087ff\">Dropout</span>)             │ (<span style=\"color: #00d7ff; text-decoration-color: #00d7ff\">None</span>, <span style=\"color: #00af00; text-decoration-color: #00af00\">256</span>)            │             <span style=\"color: #00af00; text-decoration-color: #00af00\">0</span> │\n",
              "├─────────────────────────────────┼────────────────────────┼───────────────┤\n",
              "│ dense_3 (<span style=\"color: #0087ff; text-decoration-color: #0087ff\">Dense</span>)                 │ (<span style=\"color: #00d7ff; text-decoration-color: #00d7ff\">None</span>, <span style=\"color: #00af00; text-decoration-color: #00af00\">256</span>)            │        <span style=\"color: #00af00; text-decoration-color: #00af00\">65,792</span> │\n",
              "├─────────────────────────────────┼────────────────────────┼───────────────┤\n",
              "│ dropout_4 (<span style=\"color: #0087ff; text-decoration-color: #0087ff\">Dropout</span>)             │ (<span style=\"color: #00d7ff; text-decoration-color: #00d7ff\">None</span>, <span style=\"color: #00af00; text-decoration-color: #00af00\">256</span>)            │             <span style=\"color: #00af00; text-decoration-color: #00af00\">0</span> │\n",
              "├─────────────────────────────────┼────────────────────────┼───────────────┤\n",
              "│ breed_classification (<span style=\"color: #0087ff; text-decoration-color: #0087ff\">Dense</span>)    │ (<span style=\"color: #00d7ff; text-decoration-color: #00d7ff\">None</span>, <span style=\"color: #00af00; text-decoration-color: #00af00\">14</span>)             │         <span style=\"color: #00af00; text-decoration-color: #00af00\">3,598</span> │\n",
              "└─────────────────────────────────┴────────────────────────┴───────────────┘\n",
              "</pre>\n"
            ]
          },
          "metadata": {}
        },
        {
          "output_type": "display_data",
          "data": {
            "text/plain": [
              "\u001b[1m Total params: \u001b[0m\u001b[38;5;34m26,029,966\u001b[0m (99.30 MB)\n"
            ],
            "text/html": [
              "<pre style=\"white-space:pre;overflow-x:auto;line-height:normal;font-family:Menlo,'DejaVu Sans Mono',consolas,'Courier New',monospace\"><span style=\"font-weight: bold\"> Total params: </span><span style=\"color: #00af00; text-decoration-color: #00af00\">26,029,966</span> (99.30 MB)\n",
              "</pre>\n"
            ]
          },
          "metadata": {}
        },
        {
          "output_type": "display_data",
          "data": {
            "text/plain": [
              "\u001b[1m Trainable params: \u001b[0m\u001b[38;5;34m2,436,110\u001b[0m (9.29 MB)\n"
            ],
            "text/html": [
              "<pre style=\"white-space:pre;overflow-x:auto;line-height:normal;font-family:Menlo,'DejaVu Sans Mono',consolas,'Courier New',monospace\"><span style=\"font-weight: bold\"> Trainable params: </span><span style=\"color: #00af00; text-decoration-color: #00af00\">2,436,110</span> (9.29 MB)\n",
              "</pre>\n"
            ]
          },
          "metadata": {}
        },
        {
          "output_type": "display_data",
          "data": {
            "text/plain": [
              "\u001b[1m Non-trainable params: \u001b[0m\u001b[38;5;34m23,593,856\u001b[0m (90.00 MB)\n"
            ],
            "text/html": [
              "<pre style=\"white-space:pre;overflow-x:auto;line-height:normal;font-family:Menlo,'DejaVu Sans Mono',consolas,'Courier New',monospace\"><span style=\"font-weight: bold\"> Non-trainable params: </span><span style=\"color: #00af00; text-decoration-color: #00af00\">23,593,856</span> (90.00 MB)\n",
              "</pre>\n"
            ]
          },
          "metadata": {}
        }
      ]
    },
    {
      "cell_type": "code",
      "source": [
        "# Visualize model architecture\n",
        "#plot_model(model, to_file='model_architecture.png', show_shapes=True, show_layer_names=True)\n"
      ],
      "metadata": {
        "id": "02a1SSIF_BIT"
      },
      "execution_count": null,
      "outputs": []
    },
    {
      "cell_type": "code",
      "source": [
        "# Create callbacks for better training\n",
        "callbacks = [\n",
        "    # Early stopping to prevent overfitting\n",
        "    EarlyStopping(\n",
        "        monitor='val_accuracy',\n",
        "        patience=7,\n",
        "        restore_best_weights=True,\n",
        "        verbose=1,\n",
        "        mode='max',\n",
        "        min_delta=0.003\n",
        "    ),\n",
        "\n",
        "    # Save best model\n",
        "    ModelCheckpoint(\n",
        "        '/content/drive/MyDrive/SIH/best_improved_model.keras', # use /content/drive/MyDrive/SIH/models/best_improved_model.keras\n",
        "        monitor='val_accuracy',\n",
        "        save_best_only=True,\n",
        "        save_weights_only=False,\n",
        "        verbose=1,\n",
        "        mode='max'\n",
        "    ),\n",
        "\n",
        "    # Reduce learning rate when stuck\n",
        "    # More aggressive learning rate reduction\n",
        "    ReduceLROnPlateau(\n",
        "        monitor='val_accuracy', # Monitor accuracy\n",
        "        factor=0.3,             # Reduce by 70%\n",
        "        patience=5,\n",
        "        min_lr=1e-8,\n",
        "        verbose=1,\n",
        "        mode='max'\n",
        "    )\n",
        "]"
      ],
      "metadata": {
        "id": "Rtg_LNiYANv1"
      },
      "execution_count": null,
      "outputs": []
    },
    {
      "cell_type": "code",
      "source": [
        "# Compile model with appropriate metrics\n",
        "\n",
        "optimizer = Adam(learning_rate=BASE_LR)\n",
        "optimizer = mixed_precision.LossScaleOptimizer(optimizer)\n",
        "\n",
        "model.compile(\n",
        "    optimizer=optimizer,\n",
        "    loss='sparse_categorical_crossentropy',\n",
        "    metrics=['accuracy']\n",
        ")\n",
        "\n",
        "print(\"Model compiled successfully!\")"
      ],
      "metadata": {
        "id": "FkDqXfY6_aZC",
        "colab": {
          "base_uri": "https://localhost:8080/"
        },
        "outputId": "70afb19f-2230-4946-f96c-708f86c2b49b"
      },
      "execution_count": null,
      "outputs": [
        {
          "output_type": "stream",
          "name": "stdout",
          "text": [
            "Model compiled successfully!\n"
          ]
        }
      ]
    },
    {
      "cell_type": "markdown",
      "source": [
        "PHASE 1 TRAINING (FROZEN BASE MODEL)"
      ],
      "metadata": {
        "id": "3Y73XojYAe0z"
      }
    },
    {
      "cell_type": "code",
      "source": [
        "# Train with frozen base model\n",
        "history_phase1 = model.fit(\n",
        "    train_ds,\n",
        "    epochs=EPOCHS_PHASE1,\n",
        "    validation_data=val_ds,\n",
        "    callbacks=callbacks,\n",
        "    verbose=1,\n",
        "    class_weight=class_weights,\n",
        ")\n",
        "\n",
        "print(\"Phase 1 training completed!\")"
      ],
      "metadata": {
        "id": "MjGfvPinAhcr",
        "colab": {
          "base_uri": "https://localhost:8080/",
          "height": 519
        },
        "outputId": "180da298-68ad-48e5-e8e6-8eaf7f5ad585"
      },
      "execution_count": null,
      "outputs": [
        {
          "output_type": "stream",
          "name": "stdout",
          "text": [
            "Epoch 1/20\n",
            "\u001b[1m158/158\u001b[0m \u001b[32m━━━━━━━━━━━━━━━━━━━━\u001b[0m\u001b[37m\u001b[0m \u001b[1m0s\u001b[0m 4s/step - accuracy: 0.1159 - loss: 12.3550\n",
            "Epoch 1: val_accuracy improved from -inf to 0.51768, saving model to /content/drive/MyDrive/SIH/best_improved_model.keras\n",
            "\u001b[1m158/158\u001b[0m \u001b[32m━━━━━━━━━━━━━━━━━━━━\u001b[0m\u001b[37m\u001b[0m \u001b[1m1520s\u001b[0m 6s/step - accuracy: 0.1161 - loss: 12.3533 - val_accuracy: 0.5177 - val_loss: 11.1161 - learning_rate: 1.0000e-04\n",
            "Epoch 2/20\n",
            "\u001b[1m 22/158\u001b[0m \u001b[32m━━\u001b[0m\u001b[37m━━━━━━━━━━━━━━━━━━\u001b[0m \u001b[1m10:22\u001b[0m 5s/step - accuracy: 0.2408 - loss: 11.5749"
          ]
        },
        {
          "output_type": "error",
          "ename": "KeyboardInterrupt",
          "evalue": "",
          "traceback": [
            "\u001b[0;31m---------------------------------------------------------------------------\u001b[0m",
            "\u001b[0;31mKeyboardInterrupt\u001b[0m                         Traceback (most recent call last)",
            "\u001b[0;32m/tmp/ipython-input-3934790470.py\u001b[0m in \u001b[0;36m<cell line: 0>\u001b[0;34m()\u001b[0m\n\u001b[1;32m      1\u001b[0m \u001b[0;31m# Train with frozen base model\u001b[0m\u001b[0;34m\u001b[0m\u001b[0;34m\u001b[0m\u001b[0m\n\u001b[0;32m----> 2\u001b[0;31m history_phase1 = model.fit(\n\u001b[0m\u001b[1;32m      3\u001b[0m     \u001b[0mtrain_ds\u001b[0m\u001b[0;34m,\u001b[0m\u001b[0;34m\u001b[0m\u001b[0;34m\u001b[0m\u001b[0m\n\u001b[1;32m      4\u001b[0m     \u001b[0mepochs\u001b[0m\u001b[0;34m=\u001b[0m\u001b[0mEPOCHS_PHASE1\u001b[0m\u001b[0;34m,\u001b[0m\u001b[0;34m\u001b[0m\u001b[0;34m\u001b[0m\u001b[0m\n\u001b[1;32m      5\u001b[0m     \u001b[0mvalidation_data\u001b[0m\u001b[0;34m=\u001b[0m\u001b[0mval_ds\u001b[0m\u001b[0;34m,\u001b[0m\u001b[0;34m\u001b[0m\u001b[0;34m\u001b[0m\u001b[0m\n",
            "\u001b[0;32m/usr/local/lib/python3.12/dist-packages/keras/src/utils/traceback_utils.py\u001b[0m in \u001b[0;36merror_handler\u001b[0;34m(*args, **kwargs)\u001b[0m\n\u001b[1;32m    115\u001b[0m         \u001b[0mfiltered_tb\u001b[0m \u001b[0;34m=\u001b[0m \u001b[0;32mNone\u001b[0m\u001b[0;34m\u001b[0m\u001b[0;34m\u001b[0m\u001b[0m\n\u001b[1;32m    116\u001b[0m         \u001b[0;32mtry\u001b[0m\u001b[0;34m:\u001b[0m\u001b[0;34m\u001b[0m\u001b[0;34m\u001b[0m\u001b[0m\n\u001b[0;32m--> 117\u001b[0;31m             \u001b[0;32mreturn\u001b[0m \u001b[0mfn\u001b[0m\u001b[0;34m(\u001b[0m\u001b[0;34m*\u001b[0m\u001b[0margs\u001b[0m\u001b[0;34m,\u001b[0m \u001b[0;34m**\u001b[0m\u001b[0mkwargs\u001b[0m\u001b[0;34m)\u001b[0m\u001b[0;34m\u001b[0m\u001b[0;34m\u001b[0m\u001b[0m\n\u001b[0m\u001b[1;32m    118\u001b[0m         \u001b[0;32mexcept\u001b[0m \u001b[0mException\u001b[0m \u001b[0;32mas\u001b[0m \u001b[0me\u001b[0m\u001b[0;34m:\u001b[0m\u001b[0;34m\u001b[0m\u001b[0;34m\u001b[0m\u001b[0m\n\u001b[1;32m    119\u001b[0m             \u001b[0mfiltered_tb\u001b[0m \u001b[0;34m=\u001b[0m \u001b[0m_process_traceback_frames\u001b[0m\u001b[0;34m(\u001b[0m\u001b[0me\u001b[0m\u001b[0;34m.\u001b[0m\u001b[0m__traceback__\u001b[0m\u001b[0;34m)\u001b[0m\u001b[0;34m\u001b[0m\u001b[0;34m\u001b[0m\u001b[0m\n",
            "\u001b[0;32m/usr/local/lib/python3.12/dist-packages/keras/src/backend/tensorflow/trainer.py\u001b[0m in \u001b[0;36mfit\u001b[0;34m(self, x, y, batch_size, epochs, verbose, callbacks, validation_split, validation_data, shuffle, class_weight, sample_weight, initial_epoch, steps_per_epoch, validation_steps, validation_batch_size, validation_freq)\u001b[0m\n\u001b[1;32m    375\u001b[0m                 \u001b[0;32mfor\u001b[0m \u001b[0mstep\u001b[0m\u001b[0;34m,\u001b[0m \u001b[0miterator\u001b[0m \u001b[0;32min\u001b[0m \u001b[0mepoch_iterator\u001b[0m\u001b[0;34m:\u001b[0m\u001b[0;34m\u001b[0m\u001b[0;34m\u001b[0m\u001b[0m\n\u001b[1;32m    376\u001b[0m                     \u001b[0mcallbacks\u001b[0m\u001b[0;34m.\u001b[0m\u001b[0mon_train_batch_begin\u001b[0m\u001b[0;34m(\u001b[0m\u001b[0mstep\u001b[0m\u001b[0;34m)\u001b[0m\u001b[0;34m\u001b[0m\u001b[0;34m\u001b[0m\u001b[0m\n\u001b[0;32m--> 377\u001b[0;31m                     \u001b[0mlogs\u001b[0m \u001b[0;34m=\u001b[0m \u001b[0mself\u001b[0m\u001b[0;34m.\u001b[0m\u001b[0mtrain_function\u001b[0m\u001b[0;34m(\u001b[0m\u001b[0miterator\u001b[0m\u001b[0;34m)\u001b[0m\u001b[0;34m\u001b[0m\u001b[0;34m\u001b[0m\u001b[0m\n\u001b[0m\u001b[1;32m    378\u001b[0m                     \u001b[0mcallbacks\u001b[0m\u001b[0;34m.\u001b[0m\u001b[0mon_train_batch_end\u001b[0m\u001b[0;34m(\u001b[0m\u001b[0mstep\u001b[0m\u001b[0;34m,\u001b[0m \u001b[0mlogs\u001b[0m\u001b[0;34m)\u001b[0m\u001b[0;34m\u001b[0m\u001b[0;34m\u001b[0m\u001b[0m\n\u001b[1;32m    379\u001b[0m                     \u001b[0;32mif\u001b[0m \u001b[0mself\u001b[0m\u001b[0;34m.\u001b[0m\u001b[0mstop_training\u001b[0m\u001b[0;34m:\u001b[0m\u001b[0;34m\u001b[0m\u001b[0;34m\u001b[0m\u001b[0m\n",
            "\u001b[0;32m/usr/local/lib/python3.12/dist-packages/keras/src/backend/tensorflow/trainer.py\u001b[0m in \u001b[0;36mfunction\u001b[0;34m(iterator)\u001b[0m\n\u001b[1;32m    218\u001b[0m                 \u001b[0miterator\u001b[0m\u001b[0;34m,\u001b[0m \u001b[0;34m(\u001b[0m\u001b[0mtf\u001b[0m\u001b[0;34m.\u001b[0m\u001b[0mdata\u001b[0m\u001b[0;34m.\u001b[0m\u001b[0mIterator\u001b[0m\u001b[0;34m,\u001b[0m \u001b[0mtf\u001b[0m\u001b[0;34m.\u001b[0m\u001b[0mdistribute\u001b[0m\u001b[0;34m.\u001b[0m\u001b[0mDistributedIterator\u001b[0m\u001b[0;34m)\u001b[0m\u001b[0;34m\u001b[0m\u001b[0;34m\u001b[0m\u001b[0m\n\u001b[1;32m    219\u001b[0m             ):\n\u001b[0;32m--> 220\u001b[0;31m                 \u001b[0mopt_outputs\u001b[0m \u001b[0;34m=\u001b[0m \u001b[0mmulti_step_on_iterator\u001b[0m\u001b[0;34m(\u001b[0m\u001b[0miterator\u001b[0m\u001b[0;34m)\u001b[0m\u001b[0;34m\u001b[0m\u001b[0;34m\u001b[0m\u001b[0m\n\u001b[0m\u001b[1;32m    221\u001b[0m                 \u001b[0;32mif\u001b[0m \u001b[0;32mnot\u001b[0m \u001b[0mopt_outputs\u001b[0m\u001b[0;34m.\u001b[0m\u001b[0mhas_value\u001b[0m\u001b[0;34m(\u001b[0m\u001b[0;34m)\u001b[0m\u001b[0;34m:\u001b[0m\u001b[0;34m\u001b[0m\u001b[0;34m\u001b[0m\u001b[0m\n\u001b[1;32m    222\u001b[0m                     \u001b[0;32mraise\u001b[0m \u001b[0mStopIteration\u001b[0m\u001b[0;34m\u001b[0m\u001b[0;34m\u001b[0m\u001b[0m\n",
            "\u001b[0;32m/usr/local/lib/python3.12/dist-packages/tensorflow/python/util/traceback_utils.py\u001b[0m in \u001b[0;36merror_handler\u001b[0;34m(*args, **kwargs)\u001b[0m\n\u001b[1;32m    148\u001b[0m     \u001b[0mfiltered_tb\u001b[0m \u001b[0;34m=\u001b[0m \u001b[0;32mNone\u001b[0m\u001b[0;34m\u001b[0m\u001b[0;34m\u001b[0m\u001b[0m\n\u001b[1;32m    149\u001b[0m     \u001b[0;32mtry\u001b[0m\u001b[0;34m:\u001b[0m\u001b[0;34m\u001b[0m\u001b[0;34m\u001b[0m\u001b[0m\n\u001b[0;32m--> 150\u001b[0;31m       \u001b[0;32mreturn\u001b[0m \u001b[0mfn\u001b[0m\u001b[0;34m(\u001b[0m\u001b[0;34m*\u001b[0m\u001b[0margs\u001b[0m\u001b[0;34m,\u001b[0m \u001b[0;34m**\u001b[0m\u001b[0mkwargs\u001b[0m\u001b[0;34m)\u001b[0m\u001b[0;34m\u001b[0m\u001b[0;34m\u001b[0m\u001b[0m\n\u001b[0m\u001b[1;32m    151\u001b[0m     \u001b[0;32mexcept\u001b[0m \u001b[0mException\u001b[0m \u001b[0;32mas\u001b[0m \u001b[0me\u001b[0m\u001b[0;34m:\u001b[0m\u001b[0;34m\u001b[0m\u001b[0;34m\u001b[0m\u001b[0m\n\u001b[1;32m    152\u001b[0m       \u001b[0mfiltered_tb\u001b[0m \u001b[0;34m=\u001b[0m \u001b[0m_process_traceback_frames\u001b[0m\u001b[0;34m(\u001b[0m\u001b[0me\u001b[0m\u001b[0;34m.\u001b[0m\u001b[0m__traceback__\u001b[0m\u001b[0;34m)\u001b[0m\u001b[0;34m\u001b[0m\u001b[0;34m\u001b[0m\u001b[0m\n",
            "\u001b[0;32m/usr/local/lib/python3.12/dist-packages/tensorflow/python/eager/polymorphic_function/polymorphic_function.py\u001b[0m in \u001b[0;36m__call__\u001b[0;34m(self, *args, **kwds)\u001b[0m\n\u001b[1;32m    831\u001b[0m \u001b[0;34m\u001b[0m\u001b[0m\n\u001b[1;32m    832\u001b[0m       \u001b[0;32mwith\u001b[0m \u001b[0mOptionalXlaContext\u001b[0m\u001b[0;34m(\u001b[0m\u001b[0mself\u001b[0m\u001b[0;34m.\u001b[0m\u001b[0m_jit_compile\u001b[0m\u001b[0;34m)\u001b[0m\u001b[0;34m:\u001b[0m\u001b[0;34m\u001b[0m\u001b[0;34m\u001b[0m\u001b[0m\n\u001b[0;32m--> 833\u001b[0;31m         \u001b[0mresult\u001b[0m \u001b[0;34m=\u001b[0m \u001b[0mself\u001b[0m\u001b[0;34m.\u001b[0m\u001b[0m_call\u001b[0m\u001b[0;34m(\u001b[0m\u001b[0;34m*\u001b[0m\u001b[0margs\u001b[0m\u001b[0;34m,\u001b[0m \u001b[0;34m**\u001b[0m\u001b[0mkwds\u001b[0m\u001b[0;34m)\u001b[0m\u001b[0;34m\u001b[0m\u001b[0;34m\u001b[0m\u001b[0m\n\u001b[0m\u001b[1;32m    834\u001b[0m \u001b[0;34m\u001b[0m\u001b[0m\n\u001b[1;32m    835\u001b[0m       \u001b[0mnew_tracing_count\u001b[0m \u001b[0;34m=\u001b[0m \u001b[0mself\u001b[0m\u001b[0;34m.\u001b[0m\u001b[0mexperimental_get_tracing_count\u001b[0m\u001b[0;34m(\u001b[0m\u001b[0;34m)\u001b[0m\u001b[0;34m\u001b[0m\u001b[0;34m\u001b[0m\u001b[0m\n",
            "\u001b[0;32m/usr/local/lib/python3.12/dist-packages/tensorflow/python/eager/polymorphic_function/polymorphic_function.py\u001b[0m in \u001b[0;36m_call\u001b[0;34m(self, *args, **kwds)\u001b[0m\n\u001b[1;32m    876\u001b[0m       \u001b[0;31m# In this case we have not created variables on the first call. So we can\u001b[0m\u001b[0;34m\u001b[0m\u001b[0;34m\u001b[0m\u001b[0m\n\u001b[1;32m    877\u001b[0m       \u001b[0;31m# run the first trace but we should fail if variables are created.\u001b[0m\u001b[0;34m\u001b[0m\u001b[0;34m\u001b[0m\u001b[0m\n\u001b[0;32m--> 878\u001b[0;31m       results = tracing_compilation.call_function(\n\u001b[0m\u001b[1;32m    879\u001b[0m           \u001b[0margs\u001b[0m\u001b[0;34m,\u001b[0m \u001b[0mkwds\u001b[0m\u001b[0;34m,\u001b[0m \u001b[0mself\u001b[0m\u001b[0;34m.\u001b[0m\u001b[0m_variable_creation_config\u001b[0m\u001b[0;34m\u001b[0m\u001b[0;34m\u001b[0m\u001b[0m\n\u001b[1;32m    880\u001b[0m       )\n",
            "\u001b[0;32m/usr/local/lib/python3.12/dist-packages/tensorflow/python/eager/polymorphic_function/tracing_compilation.py\u001b[0m in \u001b[0;36mcall_function\u001b[0;34m(args, kwargs, tracing_options)\u001b[0m\n\u001b[1;32m    137\u001b[0m   \u001b[0mbound_args\u001b[0m \u001b[0;34m=\u001b[0m \u001b[0mfunction\u001b[0m\u001b[0;34m.\u001b[0m\u001b[0mfunction_type\u001b[0m\u001b[0;34m.\u001b[0m\u001b[0mbind\u001b[0m\u001b[0;34m(\u001b[0m\u001b[0;34m*\u001b[0m\u001b[0margs\u001b[0m\u001b[0;34m,\u001b[0m \u001b[0;34m**\u001b[0m\u001b[0mkwargs\u001b[0m\u001b[0;34m)\u001b[0m\u001b[0;34m\u001b[0m\u001b[0;34m\u001b[0m\u001b[0m\n\u001b[1;32m    138\u001b[0m   \u001b[0mflat_inputs\u001b[0m \u001b[0;34m=\u001b[0m \u001b[0mfunction\u001b[0m\u001b[0;34m.\u001b[0m\u001b[0mfunction_type\u001b[0m\u001b[0;34m.\u001b[0m\u001b[0munpack_inputs\u001b[0m\u001b[0;34m(\u001b[0m\u001b[0mbound_args\u001b[0m\u001b[0;34m)\u001b[0m\u001b[0;34m\u001b[0m\u001b[0;34m\u001b[0m\u001b[0m\n\u001b[0;32m--> 139\u001b[0;31m   return function._call_flat(  # pylint: disable=protected-access\n\u001b[0m\u001b[1;32m    140\u001b[0m       \u001b[0mflat_inputs\u001b[0m\u001b[0;34m,\u001b[0m \u001b[0mcaptured_inputs\u001b[0m\u001b[0;34m=\u001b[0m\u001b[0mfunction\u001b[0m\u001b[0;34m.\u001b[0m\u001b[0mcaptured_inputs\u001b[0m\u001b[0;34m\u001b[0m\u001b[0;34m\u001b[0m\u001b[0m\n\u001b[1;32m    141\u001b[0m   )\n",
            "\u001b[0;32m/usr/local/lib/python3.12/dist-packages/tensorflow/python/eager/polymorphic_function/concrete_function.py\u001b[0m in \u001b[0;36m_call_flat\u001b[0;34m(self, tensor_inputs, captured_inputs)\u001b[0m\n\u001b[1;32m   1320\u001b[0m         and executing_eagerly):\n\u001b[1;32m   1321\u001b[0m       \u001b[0;31m# No tape is watching; skip to running the function.\u001b[0m\u001b[0;34m\u001b[0m\u001b[0;34m\u001b[0m\u001b[0m\n\u001b[0;32m-> 1322\u001b[0;31m       \u001b[0;32mreturn\u001b[0m \u001b[0mself\u001b[0m\u001b[0;34m.\u001b[0m\u001b[0m_inference_function\u001b[0m\u001b[0;34m.\u001b[0m\u001b[0mcall_preflattened\u001b[0m\u001b[0;34m(\u001b[0m\u001b[0margs\u001b[0m\u001b[0;34m)\u001b[0m\u001b[0;34m\u001b[0m\u001b[0;34m\u001b[0m\u001b[0m\n\u001b[0m\u001b[1;32m   1323\u001b[0m     forward_backward = self._select_forward_and_backward_functions(\n\u001b[1;32m   1324\u001b[0m         \u001b[0margs\u001b[0m\u001b[0;34m,\u001b[0m\u001b[0;34m\u001b[0m\u001b[0;34m\u001b[0m\u001b[0m\n",
            "\u001b[0;32m/usr/local/lib/python3.12/dist-packages/tensorflow/python/eager/polymorphic_function/atomic_function.py\u001b[0m in \u001b[0;36mcall_preflattened\u001b[0;34m(self, args)\u001b[0m\n\u001b[1;32m    214\u001b[0m   \u001b[0;32mdef\u001b[0m \u001b[0mcall_preflattened\u001b[0m\u001b[0;34m(\u001b[0m\u001b[0mself\u001b[0m\u001b[0;34m,\u001b[0m \u001b[0margs\u001b[0m\u001b[0;34m:\u001b[0m \u001b[0mSequence\u001b[0m\u001b[0;34m[\u001b[0m\u001b[0mcore\u001b[0m\u001b[0;34m.\u001b[0m\u001b[0mTensor\u001b[0m\u001b[0;34m]\u001b[0m\u001b[0;34m)\u001b[0m \u001b[0;34m->\u001b[0m \u001b[0mAny\u001b[0m\u001b[0;34m:\u001b[0m\u001b[0;34m\u001b[0m\u001b[0;34m\u001b[0m\u001b[0m\n\u001b[1;32m    215\u001b[0m     \u001b[0;34m\"\"\"Calls with flattened tensor inputs and returns the structured output.\"\"\"\u001b[0m\u001b[0;34m\u001b[0m\u001b[0;34m\u001b[0m\u001b[0m\n\u001b[0;32m--> 216\u001b[0;31m     \u001b[0mflat_outputs\u001b[0m \u001b[0;34m=\u001b[0m \u001b[0mself\u001b[0m\u001b[0;34m.\u001b[0m\u001b[0mcall_flat\u001b[0m\u001b[0;34m(\u001b[0m\u001b[0;34m*\u001b[0m\u001b[0margs\u001b[0m\u001b[0;34m)\u001b[0m\u001b[0;34m\u001b[0m\u001b[0;34m\u001b[0m\u001b[0m\n\u001b[0m\u001b[1;32m    217\u001b[0m     \u001b[0;32mreturn\u001b[0m \u001b[0mself\u001b[0m\u001b[0;34m.\u001b[0m\u001b[0mfunction_type\u001b[0m\u001b[0;34m.\u001b[0m\u001b[0mpack_output\u001b[0m\u001b[0;34m(\u001b[0m\u001b[0mflat_outputs\u001b[0m\u001b[0;34m)\u001b[0m\u001b[0;34m\u001b[0m\u001b[0;34m\u001b[0m\u001b[0m\n\u001b[1;32m    218\u001b[0m \u001b[0;34m\u001b[0m\u001b[0m\n",
            "\u001b[0;32m/usr/local/lib/python3.12/dist-packages/tensorflow/python/eager/polymorphic_function/atomic_function.py\u001b[0m in \u001b[0;36mcall_flat\u001b[0;34m(self, *args)\u001b[0m\n\u001b[1;32m    249\u001b[0m         \u001b[0;32mwith\u001b[0m \u001b[0mrecord\u001b[0m\u001b[0;34m.\u001b[0m\u001b[0mstop_recording\u001b[0m\u001b[0;34m(\u001b[0m\u001b[0;34m)\u001b[0m\u001b[0;34m:\u001b[0m\u001b[0;34m\u001b[0m\u001b[0;34m\u001b[0m\u001b[0m\n\u001b[1;32m    250\u001b[0m           \u001b[0;32mif\u001b[0m \u001b[0mself\u001b[0m\u001b[0;34m.\u001b[0m\u001b[0m_bound_context\u001b[0m\u001b[0;34m.\u001b[0m\u001b[0mexecuting_eagerly\u001b[0m\u001b[0;34m(\u001b[0m\u001b[0;34m)\u001b[0m\u001b[0;34m:\u001b[0m\u001b[0;34m\u001b[0m\u001b[0;34m\u001b[0m\u001b[0m\n\u001b[0;32m--> 251\u001b[0;31m             outputs = self._bound_context.call_function(\n\u001b[0m\u001b[1;32m    252\u001b[0m                 \u001b[0mself\u001b[0m\u001b[0;34m.\u001b[0m\u001b[0mname\u001b[0m\u001b[0;34m,\u001b[0m\u001b[0;34m\u001b[0m\u001b[0;34m\u001b[0m\u001b[0m\n\u001b[1;32m    253\u001b[0m                 \u001b[0mlist\u001b[0m\u001b[0;34m(\u001b[0m\u001b[0margs\u001b[0m\u001b[0;34m)\u001b[0m\u001b[0;34m,\u001b[0m\u001b[0;34m\u001b[0m\u001b[0;34m\u001b[0m\u001b[0m\n",
            "\u001b[0;32m/usr/local/lib/python3.12/dist-packages/tensorflow/python/eager/context.py\u001b[0m in \u001b[0;36mcall_function\u001b[0;34m(self, name, tensor_inputs, num_outputs)\u001b[0m\n\u001b[1;32m   1686\u001b[0m     \u001b[0mcancellation_context\u001b[0m \u001b[0;34m=\u001b[0m \u001b[0mcancellation\u001b[0m\u001b[0;34m.\u001b[0m\u001b[0mcontext\u001b[0m\u001b[0;34m(\u001b[0m\u001b[0;34m)\u001b[0m\u001b[0;34m\u001b[0m\u001b[0;34m\u001b[0m\u001b[0m\n\u001b[1;32m   1687\u001b[0m     \u001b[0;32mif\u001b[0m \u001b[0mcancellation_context\u001b[0m \u001b[0;32mis\u001b[0m \u001b[0;32mNone\u001b[0m\u001b[0;34m:\u001b[0m\u001b[0;34m\u001b[0m\u001b[0;34m\u001b[0m\u001b[0m\n\u001b[0;32m-> 1688\u001b[0;31m       outputs = execute.execute(\n\u001b[0m\u001b[1;32m   1689\u001b[0m           \u001b[0mname\u001b[0m\u001b[0;34m.\u001b[0m\u001b[0mdecode\u001b[0m\u001b[0;34m(\u001b[0m\u001b[0;34m\"utf-8\"\u001b[0m\u001b[0;34m)\u001b[0m\u001b[0;34m,\u001b[0m\u001b[0;34m\u001b[0m\u001b[0;34m\u001b[0m\u001b[0m\n\u001b[1;32m   1690\u001b[0m           \u001b[0mnum_outputs\u001b[0m\u001b[0;34m=\u001b[0m\u001b[0mnum_outputs\u001b[0m\u001b[0;34m,\u001b[0m\u001b[0;34m\u001b[0m\u001b[0;34m\u001b[0m\u001b[0m\n",
            "\u001b[0;32m/usr/local/lib/python3.12/dist-packages/tensorflow/python/eager/execute.py\u001b[0m in \u001b[0;36mquick_execute\u001b[0;34m(op_name, num_outputs, inputs, attrs, ctx, name)\u001b[0m\n\u001b[1;32m     51\u001b[0m   \u001b[0;32mtry\u001b[0m\u001b[0;34m:\u001b[0m\u001b[0;34m\u001b[0m\u001b[0;34m\u001b[0m\u001b[0m\n\u001b[1;32m     52\u001b[0m     \u001b[0mctx\u001b[0m\u001b[0;34m.\u001b[0m\u001b[0mensure_initialized\u001b[0m\u001b[0;34m(\u001b[0m\u001b[0;34m)\u001b[0m\u001b[0;34m\u001b[0m\u001b[0;34m\u001b[0m\u001b[0m\n\u001b[0;32m---> 53\u001b[0;31m     tensors = pywrap_tfe.TFE_Py_Execute(ctx._handle, device_name, op_name,\n\u001b[0m\u001b[1;32m     54\u001b[0m                                         inputs, attrs, num_outputs)\n\u001b[1;32m     55\u001b[0m   \u001b[0;32mexcept\u001b[0m \u001b[0mcore\u001b[0m\u001b[0;34m.\u001b[0m\u001b[0m_NotOkStatusException\u001b[0m \u001b[0;32mas\u001b[0m \u001b[0me\u001b[0m\u001b[0;34m:\u001b[0m\u001b[0;34m\u001b[0m\u001b[0;34m\u001b[0m\u001b[0m\n",
            "\u001b[0;31mKeyboardInterrupt\u001b[0m: "
          ]
        }
      ]
    },
    {
      "cell_type": "code",
      "source": [
        "test_loss, test_acc = model.evaluate(test_ds)\n",
        "print(f\"Phase 1 - Test Accuracy: {test_acc:.4f}\")\n",
        "print(f\"Phase 1 - Test Loss: {test_loss:.4f}\")"
      ],
      "metadata": {
        "id": "zq7l9NllBwxB"
      },
      "execution_count": null,
      "outputs": []
    },
    {
      "cell_type": "markdown",
      "source": [
        "PHASE 2 TRAINING (FINE-TUNING)"
      ],
      "metadata": {
        "id": "ZHaWxvPnGq4n"
      }
    },
    {
      "cell_type": "code",
      "source": [
        "# Unfreeze the base model for fine-tuning\n",
        "base_model.trainable = True\n",
        "\n",
        "# Only unfreeze the last 15 layers (more conservative than your layer 100)\n",
        "fine_tune_at = len(base_model.layers) - 30\n",
        "\n",
        "for layer in base_model.layers[:fine_tune_at]:\n",
        "    layer.trainable = False\n",
        "\n",
        "print(f\"Unfrozen layers: {len([layer for layer in base_model.layers if layer.trainable])}\")\n",
        "\n",
        "# VERY LOW learning rate for fine-tuning\n",
        "model.compile(\n",
        "    optimizer=Adam(learning_rate=FINE_TUNE_LR * 0.5),  # Even lower LR\n",
        "    loss='sparse_categorical_crossentropy',\n",
        "    metrics=['accuracy']\n",
        ")"
      ],
      "metadata": {
        "id": "BKCROh3NGrel"
      },
      "execution_count": null,
      "outputs": []
    },
    {
      "cell_type": "code",
      "source": [
        "callbacks_phase2 = [\n",
        "        EarlyStopping(\n",
        "            monitor='val_accuracy',\n",
        "            patience=5,                 # Less patience for fine-tuning\n",
        "            restore_best_weights=True,\n",
        "            verbose=1,\n",
        "            mode='max',\n",
        "            min_delta=0.001\n",
        "        ),\n",
        "\n",
        "        ModelCheckpoint(\n",
        "            '/content/drive/MyDrive/SIH/best_resnet50_finetuned.keras',\n",
        "            monitor='val_accuracy',\n",
        "            save_best_only=True,\n",
        "            verbose=1,\n",
        "            mode='max'\n",
        "        ),\n",
        "\n",
        "        ReduceLROnPlateau(\n",
        "            monitor='val_accuracy',\n",
        "            factor=0.2,                # Even more aggressive reduction\n",
        "            patience=3,\n",
        "            min_lr=1e-9,\n",
        "            verbose=1,\n",
        "            mode='max'\n",
        "        )\n",
        "    ]"
      ],
      "metadata": {
        "id": "4kB8SaR206Xm"
      },
      "execution_count": null,
      "outputs": []
    },
    {
      "cell_type": "code",
      "source": [
        "\n",
        "history_phase2 = model.fit(\n",
        "    train_ds,\n",
        "    epochs=EPOCHS_PHASE2,\n",
        "    validation_data=val_ds,\n",
        "    callbacks=callbacks_phase2,\n",
        "    initial_epoch=len(history_phase1.history['loss']),\n",
        "    verbose=1,   #initial_epoch=len(history_phase1.history['loss']),  # Continue from where Phase 1 ended also we need to increse epochs =\n",
        "    class_weight=class_weights,\n",
        ")\n",
        "\n",
        "print(\"Fine-tuning completed!\")"
      ],
      "metadata": {
        "id": "V1WMDODeHOiW"
      },
      "execution_count": null,
      "outputs": []
    },
    {
      "cell_type": "code",
      "source": [
        "test_loss, test_acc = model.evaluate(test_ds)\n",
        "print(f\"Final Test Accuracy: {test_acc:.4f}\")\n",
        "print(f\"Final Test Loss: {test_loss:.4f}\")"
      ],
      "metadata": {
        "id": "fT9WJOaWHrtT"
      },
      "execution_count": null,
      "outputs": []
    },
    {
      "cell_type": "code",
      "source": [
        "# Check for overfitting\n",
        "final_train_acc = history_phase2.history['accuracy'][-1]\n",
        "final_val_acc = history_phase2.history['val_accuracy'][-1]\n",
        "overfitting_gap = final_train_acc - final_val_acc"
      ],
      "metadata": {
        "id": "5ZlH0ibq1Syx"
      },
      "execution_count": null,
      "outputs": []
    },
    {
      "cell_type": "code",
      "source": [
        "print(f\"\\nOverfitting Analysis:\")\n",
        "print(f\"Final Training Accuracy: {final_train_acc:.4f}\")\n",
        "print(f\"Final Validation Accuracy: {final_val_acc:.4f}\")\n",
        "print(f\"Overfitting Gap: {overfitting_gap:.4f}\")\n",
        "\n",
        "if overfitting_gap > 0.15:\n",
        "    print(\"⚠️  Still overfitting - consider more regularization\")\n",
        "elif overfitting_gap > 0.10:\n",
        "    print(\"⚠️  Mild overfitting - acceptable\")\n",
        "else:\n",
        "    print(\"✅ Good generalization!\")"
      ],
      "metadata": {
        "id": "ApSkEK0j1m9m"
      },
      "execution_count": null,
      "outputs": []
    },
    {
      "cell_type": "code",
      "source": [
        "# Add this after training to analyze performance\n",
        "def analyze_model_performance(model, test_ds, class_names):\n",
        "    \"\"\"Analyze model performance in detail\"\"\"\n",
        "\n",
        "    # Get predictions and true labels\n",
        "    y_pred = []\n",
        "    y_true = []\n",
        "\n",
        "    for images, labels in test_ds:\n",
        "        predictions = model.predict(images, verbose=0)\n",
        "        y_pred.extend(np.argmax(predictions, axis=1))\n",
        "        y_true.extend(labels.numpy())\n",
        "\n",
        "    # Classification report\n",
        "    from sklearn.metrics import classification_report, confusion_matrix\n",
        "\n",
        "    print(\"Classification Report:\")\n",
        "    print(classification_report(y_true, y_pred, target_names=class_names))\n",
        "\n",
        "    # Confusion matrix\n",
        "    cm = confusion_matrix(y_true, y_pred)\n",
        "\n",
        "    plt.figure(figsize=(12, 10))\n",
        "    plt.imshow(cm, interpolation='nearest', cmap=plt.cm.Blues)\n",
        "    plt.title('Confusion Matrix')\n",
        "    plt.colorbar()\n",
        "    tick_marks = np.arange(len(class_names))\n",
        "    plt.xticks(tick_marks, class_names, rotation=45)\n",
        "    plt.yticks(tick_marks, class_names)\n",
        "    plt.ylabel('True Label')\n",
        "    plt.xlabel('Predicted Label')\n",
        "    plt.tight_layout()\n",
        "    plt.show()\n",
        "\n",
        "# Run analysis\n",
        "analyze_model_performance(model, test_ds, class_names)"
      ],
      "metadata": {
        "id": "mjRFCtGN2LIZ"
      },
      "execution_count": null,
      "outputs": []
    },
    {
      "cell_type": "code",
      "source": [
        "'''# Train 3-5 models with different random seeds\n",
        "ensemble_models = []\n",
        "for seed in [42, 123, 456, 789, 999]:\n",
        "    tf.random.set_seed(seed)\n",
        "    np.random.seed(seed)\n",
        "\n",
        "    # Create and train model\n",
        "    model_i, _ = create_breed_classification_model()\n",
        "    # ... train model_i ...\n",
        "    ensemble_models.append(model_i)\n",
        "\n",
        "# Ensemble prediction\n",
        "def ensemble_predict(models, img_path):\n",
        "    predictions = []\n",
        "    for model in models:\n",
        "        # ... preprocess image ...\n",
        "        pred = model.predict(img_array)\n",
        "        predictions.append(pred)\n",
        "\n",
        "    # Average predictions\n",
        "    avg_pred = np.mean(predictions, axis=0)\n",
        "    return avg_pred'''"
      ],
      "metadata": {
        "id": "jPfCDeFl1jLZ"
      },
      "execution_count": null,
      "outputs": []
    },
    {
      "cell_type": "code",
      "source": [],
      "metadata": {
        "id": "Te6Jo7hDIK1N"
      },
      "execution_count": null,
      "outputs": []
    },
    {
      "cell_type": "code",
      "source": [],
      "metadata": {
        "id": "BzVAvxJ7NHdy"
      },
      "execution_count": null,
      "outputs": []
    },
    {
      "cell_type": "code",
      "source": [
        "\n",
        "def predict_cattle_breed(model, img_path, class_names):\n",
        "    \"\"\"Predict cattle breed using tf.data approach\"\"\"\n",
        "\n",
        "    # Load and preprocess image\n",
        "    img = tf.keras.utils.load_img(img_path, target_size=(IMG_SIZE, IMG_SIZE))\n",
        "    img_array = tf.keras.utils.img_to_array(img)\n",
        "    img_array = tf.expand_dims(img_array, 0)  # Add batch dimension\n",
        "    img_array = tf.cast(img_array, tf.float32)\n",
        "    img_array = preprocess_input(img_array)      # Use ResNet50 preprocessing\n",
        "\n",
        "    # Make prediction\n",
        "    predictions = model.predict(img_array)     # ex [[0.85, 0.08, 0.04, 0.02, 0.01]] 2D array\n",
        "    predicted_class_idx = np.argmax(predictions[0])  #Finds the position of the highest probability ex: 0\n",
        "    confidence = np.max(predictions[0])           #Gets the actual highest probability value ex: 0.85\n",
        "\n",
        "    # Get breed name\n",
        "    predicted_breed = class_names[predicted_class_idx]\n",
        "\n",
        "    # Show results\n",
        "    print(f\"\\nPrediction for {img_path}:\")\n",
        "    print(f\"Predicted breed: {predicted_breed}\")\n",
        "    print(f\"Confidence: {confidence:.2%}\")\n",
        "    print(\"\\nAll breed probabilities:\")\n",
        "    for i, prob in enumerate(predictions[0]):\n",
        "        print(f\"  {class_names[i]}: {prob:.2%}\")\n",
        "\n",
        "    return predicted_breed, confidence\n",
        "\n",
        "# Example usage\n",
        "'''breed, confidence = predict_cattle_breed(\n",
        "    model,\n",
        "    'path/to/cattle_image.jpg',\n",
        "    train_ds.class_names  # Use this instead of class_indices\n",
        ")'''"
      ],
      "metadata": {
        "id": "zWWEF5uvNHus"
      },
      "execution_count": null,
      "outputs": []
    }
  ]
}