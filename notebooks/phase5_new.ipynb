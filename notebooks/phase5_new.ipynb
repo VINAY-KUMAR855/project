{
  "nbformat": 4,
  "nbformat_minor": 0,
  "metadata": {
    "colab": {
      "provenance": [],
      "gpuType": "T4"
    },
    "kernelspec": {
      "name": "python3",
      "display_name": "Python 3"
    },
    "language_info": {
      "name": "python"
    },
    "accelerator": "GPU"
  },
  "cells": [
    {
      "cell_type": "code",
      "execution_count": null,
      "metadata": {
        "id": "DJCui_tAgJ0T"
      },
      "outputs": [],
      "source": []
    },
    {
      "cell_type": "code",
      "source": [
        "from google.colab import drive\n",
        "drive.mount('/content/drive')"
      ],
      "metadata": {
        "colab": {
          "base_uri": "https://localhost:8080/"
        },
        "id": "OJcSD6dF9KjC",
        "outputId": "1c38bda4-a0a3-4c9c-bfa2-4fb34cc99551"
      },
      "execution_count": null,
      "outputs": [
        {
          "output_type": "stream",
          "name": "stdout",
          "text": [
            "Mounted at /content/drive\n"
          ]
        }
      ]
    },
    {
      "cell_type": "code",
      "source": [
        "!ls \"/content/drive/MyDrive/Colab Notebooks/SIH/data/raw_data\""
      ],
      "metadata": {
        "colab": {
          "base_uri": "https://localhost:8080/"
        },
        "id": "1oRMD2tj9hcY",
        "outputId": "ff35e149-c79d-4de7-9d50-5e4dbfd2f8cd"
      },
      "execution_count": null,
      "outputs": [
        {
          "output_type": "stream",
          "name": "stdout",
          "text": [
            "'Ayrshire cattle'\t    'Jaffrabadi Buffalo'  'Nili ravi Buffalo'\n",
            "'Brown Swiss cattle'\t    'Jersey cattle'\t  'Rathi Cow'\n",
            "'Gir Cow'\t\t    'Kankrej Cow'\t  'Sahiwal Cow'\n",
            "'Hallikar Cow'\t\t     Murrah\t\t  'Tharparkar Cow'\n",
            "'Holstein Friesian cattle'   Nagpuri\n"
          ]
        }
      ]
    },
    {
      "cell_type": "code",
      "execution_count": null,
      "metadata": {
        "id": "ag8uxtGdyt5J"
      },
      "outputs": [],
      "source": [
        "import os, json, math, random, gc, time\n",
        "import numpy as np\n",
        "import tensorflow as tf\n",
        "import matplotlib.pyplot as plt\n",
        "from sklearn.utils.class_weight import compute_class_weight\n",
        "from sklearn.metrics import classification_report, confusion_matrix\n",
        "from tensorflow.keras.applications import ResNet50\n",
        "from tensorflow.keras.applications.resnet50 import preprocess_input\n",
        "from tensorflow.keras.layers import Dense, GlobalAveragePooling2D, Dropout, BatchNormalization\n",
        "from tensorflow.keras.models import Model\n",
        "from tensorflow.keras.optimizers import Adam\n",
        "from tensorflow.keras.callbacks import EarlyStopping, ModelCheckpoint, ReduceLROnPlateau\n",
        "from tensorflow.keras.regularizers import l2\n",
        "from tensorflow.keras import mixed_precision"
      ]
    },
    {
      "cell_type": "code",
      "source": [
        "tf.random.set_seed(42)\n",
        "np.random.seed(42)\n",
        "random.seed(42)"
      ],
      "metadata": {
        "id": "P0jNckVw8HAB"
      },
      "execution_count": null,
      "outputs": []
    },
    {
      "cell_type": "code",
      "source": [
        "# Enable mixed precision for better performance\n",
        "policy = mixed_precision.Policy('mixed_float16')\n",
        "mixed_precision.set_global_policy(policy)"
      ],
      "metadata": {
        "id": "UyaUAQVxvSVy"
      },
      "execution_count": null,
      "outputs": []
    },
    {
      "cell_type": "code",
      "source": [
        "IMG_SIZE = 224  # ResNet50 default\n",
        "BATCH_SIZE = 12\n",
        "VAL_SPLIT = 0.20       # 20% for val+test (we'll split this in half later into val and test)\n",
        "SEED = 42\n",
        "COLOR_MODE = \"rgb\"\n",
        "EPOCHS_PHASE1 = 30\n",
        "EPOCHS_PHASE2 = 40\n",
        "BASE_LR = 0.0001\n",
        "FINE_TUNE_LR = 0.000005\n",
        "#LEARNING_RATE = 0.0001"
      ],
      "metadata": {
        "id": "s-5o4wkP-Qhr"
      },
      "execution_count": null,
      "outputs": []
    },
    {
      "cell_type": "code",
      "source": [
        "DATA_DIR = \"/content/drive/MyDrive/Colab Notebooks/SIH/data/raw_data\""
      ],
      "metadata": {
        "id": "ElfPG6868IEz"
      },
      "execution_count": null,
      "outputs": []
    },
    {
      "cell_type": "code",
      "execution_count": null,
      "metadata": {
        "id": "LmFQCiSWyyd1",
        "colab": {
          "base_uri": "https://localhost:8080/"
        },
        "outputId": "43959fe4-5939-4e6a-b0ee-76ee276ea1fa"
      },
      "outputs": [
        {
          "output_type": "stream",
          "name": "stdout",
          "text": [
            "Removing cache files...\n",
            "Cache files cleared!\n"
          ]
        }
      ],
      "source": [
        "# Solution 1: Clear cache files and restart\n",
        "import os\n",
        "import glob\n",
        "\n",
        "# Clear all cache files\n",
        "cache_files = glob.glob(\"/tmp/cattle_*.cache*\")\n",
        "lock_files = glob.glob(\"/tmp/cattle_*.lockfile\")\n",
        "\n",
        "print(\"Removing cache files...\")\n",
        "for file in cache_files + lock_files:\n",
        "    try:\n",
        "        os.remove(file)\n",
        "        print(f\"Removed: {file}\")\n",
        "    except FileNotFoundError:\n",
        "        print(f\"File not found: {file}\")\n",
        "    except Exception as e:\n",
        "        print(f\"Error removing {file}: {e}\")\n",
        "\n",
        "print(\"Cache files cleared!\")"
      ]
    },
    {
      "cell_type": "code",
      "source": [
        "if os.path.isdir(DATA_DIR):\n",
        "  print(f\"Folder found: {DATA_DIR}\")\n",
        "else:\n",
        "  print(f\"Folder not found: {DATA_DIR}\")"
      ],
      "metadata": {
        "colab": {
          "base_uri": "https://localhost:8080/"
        },
        "id": "EAyzsTp6-CnZ",
        "outputId": "154794af-4e39-460a-8565-f34ed0b35e6d"
      },
      "execution_count": null,
      "outputs": [
        {
          "output_type": "stream",
          "name": "stdout",
          "text": [
            "Folder found: /content/drive/MyDrive/Colab Notebooks/SIH/data/raw_data\n"
          ]
        }
      ]
    },
    {
      "cell_type": "code",
      "source": [
        "def explore_dataset(data_dir):\n",
        "    \"\"\"\n",
        "    Explore the dataset structure and show sample counts\n",
        "    \"\"\"\n",
        "    print(\"Dataset Structure:\")\n",
        "    print(\"-\" * 40)\n",
        "\n",
        "    breeds = []\n",
        "    image_counts = []\n",
        "\n",
        "    if os.path.exists(data_dir):\n",
        "        for breed_folder in sorted(os.listdir(data_dir)):\n",
        "            breed_path = os.path.join(data_dir, breed_folder)\n",
        "            if os.path.isdir(breed_path):\n",
        "                image_count = len([f for f in os.listdir(breed_path)\n",
        "                                 if f.lower().endswith(('.jpg', '.jpeg', '.png'))])\n",
        "                breeds.append(breed_folder)\n",
        "                image_counts.append(image_count)\n",
        "                print(f\"{breed_folder}: {image_count} images\")\n",
        "\n",
        "    total_images = sum(image_counts)\n",
        "    print(\"-\" * 40)\n",
        "    print(f\"Total Images: {total_images}\")\n",
        "    print(f\"Total Breeds: {len(breeds)}\")\n",
        "\n",
        "    # Plot distribution\n",
        "    plt.figure(figsize=(12, 6))\n",
        "    plt.bar(breeds, image_counts, color=['skyblue' if 'cattle' in breed.lower() else 'lightcoral' for breed in breeds])\n",
        "    plt.title('Distribution of Images per Breed')\n",
        "    plt.xlabel('Breed')\n",
        "    plt.ylabel('Number of Images')\n",
        "    plt.xticks(rotation=45, ha='right')\n",
        "    plt.tight_layout()\n",
        "    plt.show()\n",
        "\n",
        "    return breeds, image_counts"
      ],
      "metadata": {
        "id": "H4NzXrx6C10Z"
      },
      "execution_count": null,
      "outputs": []
    },
    {
      "cell_type": "code",
      "source": [
        "# Explore your dataset\n",
        "breeds, counts = explore_dataset(DATA_DIR)"
      ],
      "metadata": {
        "colab": {
          "base_uri": "https://localhost:8080/",
          "height": 919
        },
        "id": "jzM4t_mcEVzw",
        "outputId": "7a3633ee-8b5d-4c02-e303-4a2e1727b031",
        "collapsed": true
      },
      "execution_count": null,
      "outputs": [
        {
          "output_type": "stream",
          "name": "stdout",
          "text": [
            "Dataset Structure:\n",
            "----------------------------------------\n",
            "Ayrshire cattle: 260 images\n",
            "Brown Swiss cattle: 238 images\n",
            "Gir Cow: 250 images\n",
            "Hallikar Cow: 210 images\n",
            "Holstein Friesian cattle: 254 images\n",
            "Jaffrabadi Buffalo: 210 images\n",
            "Jersey cattle: 252 images\n",
            "Kankrej Cow: 210 images\n",
            "Murrah: 210 images\n",
            "Nagpuri: 175 images\n",
            "Nili ravi Buffalo: 210 images\n",
            "Rathi Cow: 210 images\n",
            "Sahiwal Cow: 240 images\n",
            "Tharparkar Cow: 221 images\n",
            "----------------------------------------\n",
            "Total Images: 3150\n",
            "Total Breeds: 14\n"
          ]
        },
        {
          "output_type": "display_data",
          "data": {
            "text/plain": [
              "<Figure size 1200x600 with 1 Axes>"
            ],
            "image/png": "[encoded data removed]"
          },
          "metadata": {}
        }
      ]
    },
    {
      "cell_type": "code",
      "source": [
        "import os\n",
        "for cls in sorted(os.listdir(DATA_DIR)):\n",
        "    cls_path = os.path.join(DATA_DIR, cls)\n",
        "    if os.path.isdir(cls_path):\n",
        "        print(cls, len(os.listdir(cls_path)))\n"
      ],
      "metadata": {
        "colab": {
          "base_uri": "https://localhost:8080/"
        },
        "id": "BF9CBOtWQF1u",
        "outputId": "703fd729-ffb7-4530-8d44-ca6d6872f06b"
      },
      "execution_count": null,
      "outputs": [
        {
          "output_type": "stream",
          "name": "stdout",
          "text": [
            "Ayrshire cattle 260\n",
            "Brown Swiss cattle 238\n",
            "Gir Cow 250\n",
            "Hallikar Cow 210\n",
            "Holstein Friesian cattle 254\n",
            "Jaffrabadi Buffalo 210\n",
            "Jersey cattle 252\n",
            "Kankrej Cow 210\n",
            "Murrah 210\n",
            "Nagpuri 180\n",
            "Nili ravi Buffalo 210\n",
            "Rathi Cow 210\n",
            "Sahiwal Cow 240\n",
            "Tharparkar Cow 221\n"
          ]
        }
      ]
    },
    {
      "cell_type": "code",
      "source": [
        "# Load datasets (train / val_temp)\n",
        "train_ds = tf.keras.preprocessing.image_dataset_from_directory(\n",
        "    DATA_DIR,\n",
        "    labels=\"inferred\",       # Automatically label based on folder\n",
        "    label_mode=\"int\",        # keep integer labels; we can one-hot later inside the model\n",
        "    class_names=None,        # infer from subfolder names\n",
        "    color_mode=COLOR_MODE,\n",
        "    batch_size=BATCH_SIZE,\n",
        "    image_size=(IMG_SIZE,IMG_SIZE),     # will resize for you\n",
        "    shuffle=True,\n",
        "    seed=SEED,\n",
        "    validation_split=VAL_SPLIT,\n",
        "    subset=\"training\",\n",
        ")\n"
      ],
      "metadata": {
        "id": "TCGZd6A--bvm",
        "colab": {
          "base_uri": "https://localhost:8080/"
        },
        "outputId": "5e5afda2-9ac1-4497-f5da-7f7888790fa5"
      },
      "execution_count": null,
      "outputs": [
        {
          "output_type": "stream",
          "name": "stdout",
          "text": [
            "Found 3155 files belonging to 14 classes.\n",
            "Using 2524 files for training.\n"
          ]
        }
      ]
    },
    {
      "cell_type": "code",
      "source": [
        "val_temp_ds = tf.keras.preprocessing.image_dataset_from_directory(\n",
        "    DATA_DIR,\n",
        "    labels=\"inferred\",\n",
        "    label_mode=\"int\",\n",
        "    color_mode=COLOR_MODE,\n",
        "    batch_size=BATCH_SIZE,\n",
        "    image_size=(IMG_SIZE,IMG_SIZE),\n",
        "    shuffle=True,\n",
        "    seed=SEED,\n",
        "    validation_split=VAL_SPLIT,\n",
        "    subset=\"validation\",\n",
        ")"
      ],
      "metadata": {
        "colab": {
          "base_uri": "https://localhost:8080/"
        },
        "id": "kP5AL60XLncz",
        "outputId": "b40b076d-4360-4f1a-eba6-6e7149ba5d6c"
      },
      "execution_count": null,
      "outputs": [
        {
          "output_type": "stream",
          "name": "stdout",
          "text": [
            "Found 3155 files belonging to 14 classes.\n",
            "Using 631 files for validation.\n"
          ]
        }
      ]
    },
    {
      "cell_type": "code",
      "source": [
        "# Save class names (folder names) for later use\n",
        "class_names = train_ds.class_names\n",
        "num_classes = len(class_names)\n",
        "print(\"Classes:\", class_names)"
      ],
      "metadata": {
        "colab": {
          "base_uri": "https://localhost:8080/"
        },
        "id": "Wak8UhhjLqNw",
        "outputId": "8db07045-debe-4150-afd8-699f93251bb9"
      },
      "execution_count": null,
      "outputs": [
        {
          "output_type": "stream",
          "name": "stdout",
          "text": [
            "Classes: ['Ayrshire cattle', 'Brown Swiss cattle', 'Gir Cow', 'Hallikar Cow', 'Holstein Friesian cattle', 'Jaffrabadi Buffalo', 'Jersey cattle', 'Kankrej Cow', 'Murrah', 'Nagpuri', 'Nili ravi Buffalo', 'Rathi Cow', 'Sahiwal Cow', 'Tharparkar Cow']\n"
          ]
        }
      ]
    },
    {
      "cell_type": "code",
      "source": [
        "# Check the labels\n",
        "#print(\"Class labels:\", train_ds.class_indices)\n",
        "label_map = {i: name for i, name in enumerate(class_names)}\n",
        "print(label_map)"
      ],
      "metadata": {
        "colab": {
          "base_uri": "https://localhost:8080/"
        },
        "id": "59tBBl9OKE0v",
        "outputId": "fb184d47-03ea-4fee-c398-a4da8d878030"
      },
      "execution_count": null,
      "outputs": [
        {
          "output_type": "stream",
          "name": "stdout",
          "text": [
            "{0: 'Ayrshire cattle', 1: 'Brown Swiss cattle', 2: 'Gir Cow', 3: 'Hallikar Cow', 4: 'Holstein Friesian cattle', 5: 'Jaffrabadi Buffalo', 6: 'Jersey cattle', 7: 'Kankrej Cow', 8: 'Murrah', 9: 'Nagpuri', 10: 'Nili ravi Buffalo', 11: 'Rathi Cow', 12: 'Sahiwal Cow', 13: 'Tharparkar Cow'}\n"
          ]
        }
      ]
    },
    {
      "cell_type": "code",
      "source": [
        "# Save mapping to file\n",
        "label_map = {i: name for i, name in enumerate(class_names)}\n",
        "#print(label_map)\n",
        "with open(\"/content/drive/MyDrive/Colab Notebooks/SIH/data/class_names.json\", \"w\") as f:\n",
        "    json.dump(label_map, f, indent=2)\n",
        "print(\"/content/drive/MyDrive/Colab Notebooks/SIH/data/class_names.json\")"
      ],
      "metadata": {
        "colab": {
          "base_uri": "https://localhost:8080/"
        },
        "id": "SIXJXrn4Mbij",
        "outputId": "4d6734ed-4d1b-4a51-856a-380bc3ca0caf"
      },
      "execution_count": null,
      "outputs": [
        {
          "output_type": "stream",
          "name": "stdout",
          "text": [
            "/content/drive/MyDrive/Colab Notebooks/SIH/data/class_names.json\n"
          ]
        }
      ]
    },
    {
      "cell_type": "code",
      "source": [
        "for images, labels in train_ds.take(1): # take first batch\n",
        "  print(\"Labels: \",labels.numpy())\n",
        "  print(\"Class names: \", [class_names[i] for i in labels.numpy()])"
      ],
      "metadata": {
        "colab": {
          "base_uri": "https://localhost:8080/"
        },
        "id": "jjeHKHsqNDja",
        "outputId": "0f190459-c261-4914-8741-5cb2a814ac9f"
      },
      "execution_count": null,
      "outputs": [
        {
          "output_type": "stream",
          "name": "stdout",
          "text": [
            "Labels:  [13 10  2  1  5 11  1  7 11 11  8 11  1  5  4  0]\n",
            "Class names:  ['Tharparkar Cow', 'Nili ravi Buffalo', 'Gir Cow', 'Brown Swiss cattle', 'Jaffrabadi Buffalo', 'Rathi Cow', 'Brown Swiss cattle', 'Kankrej Cow', 'Rathi Cow', 'Rathi Cow', 'Murrah', 'Rathi Cow', 'Brown Swiss cattle', 'Jaffrabadi Buffalo', 'Holstein Friesian cattle', 'Ayrshire cattle']\n"
          ]
        }
      ]
    },
    {
      "cell_type": "code",
      "source": [
        "# revesre mapping\n",
        "class_to_idx = {name: i for i, name in enumerate(class_names)}\n",
        "print(class_to_idx)\n"
      ],
      "metadata": {
        "colab": {
          "base_uri": "https://localhost:8080/"
        },
        "id": "rtk2dR8_N0oU",
        "outputId": "050a8d14-dcec-483b-f23a-7df5b87b314e"
      },
      "execution_count": null,
      "outputs": [
        {
          "output_type": "stream",
          "name": "stdout",
          "text": [
            "{'Ayrshire cattle': 0, 'Brown Swiss cattle': 1, 'Gir Cow': 2, 'Hallikar Cow': 3, 'Holstein Friesian cattle': 4, 'Jaffrabadi Buffalo': 5, 'Jersey cattle': 6, 'Kankrej Cow': 7, 'Murrah': 8, 'Nagpuri': 9, 'Nili ravi Buffalo': 10, 'Rathi Cow': 11, 'Sahiwal Cow': 12, 'Tharparkar Cow': 13}\n"
          ]
        }
      ]
    },
    {
      "cell_type": "code",
      "source": [
        "# Split val_temp into real val and test (50/50)"
      ],
      "metadata": {
        "id": "7iTxjrLSRrxQ"
      },
      "execution_count": null,
      "outputs": []
    },
    {
      "cell_type": "code",
      "source": [
        "# In TensorFlow, a tf.data.Dataset doesn’t store everything in memory — it’s a pipeline of operations (like “read images → resize → batch → shuffle”)\n",
        "# To know how many batches are inside the dataset, you use: tf.data.experimental.cardinality(dataset)\n",
        "# This returns a special TensorFlow object (tf.Tensor) representing the count of batches\n",
        "val_temp_batches = tf.data.experimental.cardinality(val_temp_ds).numpy()\n",
        "print(val_temp_batches)"
      ],
      "metadata": {
        "colab": {
          "base_uri": "https://localhost:8080/"
        },
        "id": "QEJajt30Pfc8",
        "outputId": "b419e089-8b00-46d8-e32b-7fb854061e02"
      },
      "execution_count": null,
      "outputs": [
        {
          "output_type": "stream",
          "name": "stdout",
          "text": [
            "40\n"
          ]
        }
      ]
    },
    {
      "cell_type": "code",
      "source": [
        "test_ds = val_temp_ds.take(val_temp_batches // 2)\n",
        "val_ds  = val_temp_ds.skip(val_temp_batches // 2)"
      ],
      "metadata": {
        "id": "JB6-5YWJSOfm"
      },
      "execution_count": null,
      "outputs": []
    },
    {
      "cell_type": "code",
      "source": [
        "print(\"Batches -> train:\", tf.data.experimental.cardinality(train_ds).numpy(),\n",
        "      \"| val:\", tf.data.experimental.cardinality(val_ds).numpy(),\n",
        "      \"| test:\", tf.data.experimental.cardinality(test_ds).numpy())"
      ],
      "metadata": {
        "colab": {
          "base_uri": "https://localhost:8080/"
        },
        "id": "u4giij8YSVJO",
        "outputId": "e7abd599-8841-4305-9012-c40dc8b816e5"
      },
      "execution_count": null,
      "outputs": [
        {
          "output_type": "stream",
          "name": "stdout",
          "text": [
            "Batches -> train: 158 | val: 20 | test: 20\n"
          ]
        }
      ]
    },
    {
      "cell_type": "code",
      "source": [
        "print(32*(31+4+4))\n",
        "print(260+238+254+252+204) # last batch are not full"
      ],
      "metadata": {
        "colab": {
          "base_uri": "https://localhost:8080/"
        },
        "id": "vzpLOAxUSddW",
        "outputId": "395cdb98-c9d7-418e-e683-24b6401ce43b"
      },
      "execution_count": null,
      "outputs": [
        {
          "output_type": "stream",
          "name": "stdout",
          "text": [
            "1248\n",
            "1208\n"
          ]
        }
      ]
    },
    {
      "cell_type": "markdown",
      "source": [
        "Data augmentation (training only)"
      ],
      "metadata": {
        "id": "aHaAuUvwTcBe"
      }
    },
    {
      "cell_type": "code",
      "source": [
        "#    Keep augmentations conservative to avoid distorting breed characteristics.\n",
        "#    NOTE: These layers work fine before preprocess_input(i.e., before preprocess_input). Augmentation works on normal images (0–255 pixel range)"
      ],
      "metadata": {
        "id": "OZZimYxvTfMn"
      },
      "execution_count": null,
      "outputs": []
    },
    {
      "cell_type": "code",
      "source": [
        "data_augmentation = tf.keras.Sequential([\n",
        "    tf.keras.layers.RandomFlip(\"horizontal\"),\n",
        "    tf.keras.layers.RandomRotation(factor=0.12),\n",
        "    tf.keras.layers.RandomZoom(height_factor=0.08, width_factor=0.08),\n",
        "    tf.keras.layers.RandomTranslation(height_factor=0.06, width_factor=0.06),\n",
        "    tf.keras.layers.RandomBrightness(0.1),  # brightness variation\n",
        "    tf.keras.layers.RandomContrast(0.1),    # contrast variation\n",
        "    # Add some noise for robustness\n",
        "    tf.keras.layers.Lambda(lambda x: x + tf.random.normal(tf.shape(x), 0, 0.01)),\n",
        "\n",
        "    # Ensure values stay in valid range\n",
        "    tf.keras.layers.Lambda(lambda x: tf.clip_by_value(x, 0, 255))\n",
        "    #tf.keras.layers.RandomCrop(height=200, width=200),  # Random crop then resize\n",
        "    #tf.keras.layers.Resizing(224, 224)\n",
        "], name=\"enhanced_data_augmentation\")"
      ],
      "metadata": {
        "id": "4G3yxsuEU8vr"
      },
      "execution_count": null,
      "outputs": []
    },
    {
      "cell_type": "markdown",
      "source": [
        "Preprocess for ResNet50"
      ],
      "metadata": {
        "id": "LFpAMw6sV5Gj"
      }
    },
    {
      "cell_type": "code",
      "source": [
        "#    Use tf.keras.applications.resnet50.preprocess_input (Caffe-style: BGR, mean subtraction).\n",
        "#    Do NOT also rescale 1/255."
      ],
      "metadata": {
        "id": "e1OLohzZV54f"
      },
      "execution_count": null,
      "outputs": []
    },
    {
      "cell_type": "code",
      "source": [
        "from tensorflow.keras.applications.resnet50 import preprocess_input\n",
        "\n",
        "AUTOTUNE = tf.data.AUTOTUNE"
      ],
      "metadata": {
        "id": "Elb2zZj5W3DI"
      },
      "execution_count": null,
      "outputs": []
    },
    {
      "cell_type": "code",
      "source": [
        "def add_augmentation(image, label):\n",
        "    # Apply only on training\n",
        "    image = data_augmentation(image, training=True)\n",
        "    return image, label"
      ],
      "metadata": {
        "id": "ZcVFEwmKXWLe"
      },
      "execution_count": null,
      "outputs": []
    },
    {
      "cell_type": "code",
      "source": [
        "def preprocess_for_resnet(image, label):\n",
        "    image = tf.cast(image, tf.float32)      # convert to float32\n",
        "    image = preprocess_input(image)  # expects float32 in [0..255]\n",
        "    return image, label"
      ],
      "metadata": {
        "id": "D305xX9oXefK"
      },
      "execution_count": null,
      "outputs": []
    },
    {
      "cell_type": "code",
      "source": [
        "# Apply augmentation to train only, then preprocess on all sets\n",
        "train_ds = (train_ds\n",
        "            .map(add_augmentation, num_parallel_calls=AUTOTUNE)\n",
        "            .map(preprocess_for_resnet, num_parallel_calls=AUTOTUNE))"
      ],
      "metadata": {
        "id": "-9RRQKNJX5ct"
      },
      "execution_count": null,
      "outputs": []
    },
    {
      "cell_type": "code",
      "source": [
        "val_ds   = val_ds.map(preprocess_for_resnet, num_parallel_calls=AUTOTUNE)\n",
        "test_ds  = test_ds.map(preprocess_for_resnet, num_parallel_calls=AUTOTUNE)"
      ],
      "metadata": {
        "id": "4czDVrGyYSyw"
      },
      "execution_count": null,
      "outputs": []
    },
    {
      "cell_type": "markdown",
      "source": [
        "pipeline optimizations:- Caching, shuffling, prefetching (performance)\n",
        "Cache to disk to avoid RAM spikes on large datasets in Colab."
      ],
      "metadata": {
        "id": "RjlxP435hg7T"
      }
    },
    {
      "cell_type": "code",
      "source": [
        "import time\n",
        "import random\n",
        "\n",
        "# Create unique cache names\n",
        "cache_suffix = f\"{int(time.time())}_{random.randint(1000, 9999)}\"\n",
        "\n",
        "train_ds = (train_ds\n",
        "            .cache(f\"/tmp/cattle_train_{cache_suffix}.cache\")\n",
        "            .shuffle(buffer_size= 150, seed=SEED, reshuffle_each_iteration=True)\n",
        "            .prefetch(AUTOTUNE))\n",
        "\n",
        "val_ds   = val_ds.cache(f\"/tmp/cattle_val_{cache_suffix}.cache\").prefetch(AUTOTUNE)\n",
        "test_ds  = test_ds.cache(f\"/tmp/cattle_test_{cache_suffix}.cache\").prefetch(AUTOTUNE)"
      ],
      "metadata": {
        "id": "vUPUcPZfhpzc"
      },
      "execution_count": null,
      "outputs": []
    },
    {
      "cell_type": "markdown",
      "source": [
        "Quick sanity checks"
      ],
      "metadata": {
        "id": "E7vjvZy7_EXW"
      }
    },
    {
      "cell_type": "code",
      "source": [
        "'''for images, labels in train_ds.take(1):\n",
        "    print(\"Image batch shape:\", images.shape, \"Label batch shape:\", labels.shape)\n",
        "    print(\"Label dtype:\", labels.dtype)\n",
        "    print(\"Min/Max pixel after preprocess_input:\", tf.reduce_min(images).numpy(), tf.reduce_max(images).numpy())'''"
      ],
      "metadata": {
        "id": "RtvVA6rnh2rR",
        "colab": {
          "base_uri": "https://localhost:8080/",
          "height": 72
        },
        "outputId": "d13b6676-a76d-4412-88e4-88ad7a3e8961"
      },
      "execution_count": null,
      "outputs": [
        {
          "output_type": "execute_result",
          "data": {
            "text/plain": [
              "'for images, labels in train_ds.take(1):\\n    print(\"Image batch shape:\", images.shape, \"Label batch shape:\", labels.shape)\\n    print(\"Label dtype:\", labels.dtype)\\n    print(\"Min/Max pixel after preprocess_input:\", tf.reduce_min(images).numpy(), tf.reduce_max(images).numpy())'"
            ],
            "application/vnd.google.colaboratory.intrinsic+json": {
              "type": "string"
            }
          },
          "metadata": {},
          "execution_count": 34
        }
      ]
    },
    {
      "cell_type": "markdown",
      "source": [
        "Class distribution — helpful later for class weight"
      ],
      "metadata": {
        "id": "cbVNWpjdJnIh"
      }
    },
    {
      "cell_type": "code",
      "source": [
        "'''import numpy as np\n",
        "\n",
        "# Count labels in training dataset\n",
        "train_class_counts = np.zeros(len(class_names))\n",
        "for images, labels in train_ds.unbatch():\n",
        "    train_class_counts[labels.numpy()] += 1\n",
        "\n",
        "print(\"Class counts:\", train_class_counts)'''"
      ],
      "metadata": {
        "id": "NH4MmYjSiEc-",
        "colab": {
          "base_uri": "https://localhost:8080/",
          "height": 54
        },
        "outputId": "d8f79076-7522-49e8-c1cd-6707be675c62"
      },
      "execution_count": null,
      "outputs": [
        {
          "output_type": "execute_result",
          "data": {
            "text/plain": [
              "'import numpy as np\\n\\n# Count labels in training dataset\\ntrain_class_counts = np.zeros(len(class_names))\\nfor images, labels in train_ds.unbatch():\\n    train_class_counts[labels.numpy()] += 1\\n\\nprint(\"Class counts:\", train_class_counts)'"
            ],
            "application/vnd.google.colaboratory.intrinsic+json": {
              "type": "string"
            }
          },
          "metadata": {},
          "execution_count": 35
        }
      ]
    },
    {
      "cell_type": "code",
      "source": [
        "def compute_balanced_class_weights():\n",
        "    \"\"\"Compute class weights using file count method (same as yours)\"\"\"\n",
        "    class_counts = {}\n",
        "    class_names_from_dir = sorted(os.listdir(DATA_DIR))\n",
        "\n",
        "    for class_name in class_names_from_dir:\n",
        "        class_path = os.path.join(DATA_DIR, class_name)\n",
        "        if os.path.isdir(class_path):\n",
        "            class_counts[class_name] = len([f for f in os.listdir(class_path)\n",
        "                                          if f.lower().endswith(('.png', '.jpg', '.jpeg'))])\n",
        "\n",
        "    # Create labels array\n",
        "    y_labels = []\n",
        "    for i, class_name in enumerate(class_names_from_dir):\n",
        "        if class_name in class_counts:\n",
        "            y_labels.extend([i] * class_counts[class_name])\n",
        "\n",
        "    # Compute balanced weights\n",
        "    class_weights = compute_class_weight(\n",
        "        class_weight=\"balanced\",\n",
        "        classes=np.arange(len(class_names_from_dir)),\n",
        "        y=np.array(y_labels)\n",
        "    )\n",
        "\n",
        "    # Apply smoothing to prevent extreme weights (NEW IMPROVEMENT)\n",
        "    class_weights = np.clip(class_weights, 0.5, 2.0)\n",
        "    class_weights_dict = dict(enumerate(class_weights))\n",
        "\n",
        "    print(\"Improved Class Weights:\", class_weights_dict)\n",
        "    return class_weights_dict\n",
        "class_weights = compute_balanced_class_weights()"
      ],
      "metadata": {
        "id": "DgG7R43GE6b0",
        "colab": {
          "base_uri": "https://localhost:8080/"
        },
        "outputId": "fa0141cf-d2de-4a15-847a-1c5569e22f2f"
      },
      "execution_count": null,
      "outputs": [
        {
          "output_type": "stream",
          "name": "stdout",
          "text": [
            "Improved Class Weights: {0: np.float64(0.8653846153846154), 1: np.float64(0.9453781512605042), 2: np.float64(0.9), 3: np.float64(1.0714285714285714), 4: np.float64(0.8858267716535433), 5: np.float64(1.0714285714285714), 6: np.float64(0.8928571428571429), 7: np.float64(1.0714285714285714), 8: np.float64(1.0714285714285714), 9: np.float64(1.2857142857142858), 10: np.float64(1.0714285714285714), 11: np.float64(1.0714285714285714), 12: np.float64(0.9375), 13: np.float64(1.0180995475113122)}\n"
          ]
        }
      ]
    },
    {
      "cell_type": "code",
      "source": [
        "num_classes = len(class_names)"
      ],
      "metadata": {
        "id": "W3jDno4dLM4C"
      },
      "execution_count": null,
      "outputs": []
    },
    {
      "cell_type": "code",
      "source": [
        "def create_breed_classification_model():\n",
        "    \"\"\"\n",
        "    Create transfer learning model using ResNet50 as backbone\n",
        "    ResNet50: 50-layer Residual Network pre-trained on ImageNet\n",
        "    \"\"\"\n",
        "\n",
        "    # Load ResNet50 pre-trained on ImageNet (without top classification layer)\n",
        "    base_model = ResNet50(\n",
        "        weights='imagenet',  # Use ImageNet pre-trained weights\n",
        "        include_top=False,   # Exclude final classification layer\n",
        "        input_shape=(224, 224, 3),  # Input image shape\n",
        "        pooling=None         # We'll add our own pooling\n",
        "    )\n",
        "\n",
        "    # Freeze the base model initially (transfer learning)\n",
        "    base_model.trainable = False\n",
        "\n",
        "    print(f\"ResNet50 base model has {len(base_model.layers)} layers\")\n",
        "    print(f\"Base model output shape: {base_model.output_shape}\")\n",
        "\n",
        "    # Build the complete model\n",
        "\n",
        "    #Creates the \"entrance door\" for our images\n",
        "    inputs = tf.keras.Input(shape=(224, 224, 3))\n",
        "\n",
        "    # Pass through ResNet50 base\n",
        "    x = base_model(inputs, training=False)\n",
        "    # Input: (IMG_SIZE, IMG_SIZE, 3) → ResNet50 → Output: (7, 7, 2048)\n",
        "\n",
        "    # Add custom classification head with MORE regularization\n",
        "\n",
        "    x = GlobalAveragePooling2D(name='global_avg_pooling')(x) # Converts the 3D feature map to a 1D vector; Before: (7, 7, 2048) = 100,352 numbers arranged in grids After: (2048,) = 2048 summary numbers\n",
        "    x_max = tf.keras.layers.GlobalMaxPooling2D(name='global_max_pooling')(base_model.output)\n",
        "    # Concatenate both pooling outputs\n",
        "    x = tf.keras.layers.Concatenate(name='pooling_concat')([x, x_max])\n",
        "\n",
        "    x = BatchNormalization(name='batch_norm_1')(x) # Normalizes the data to have mean=0 and standard deviation=1\n",
        "    x = Dropout(0.4, name='dropout_1')(x)\n",
        "    # First dense layer with L2 regularization\n",
        "    x = Dense(1024,\n",
        "              activation='relu',\n",
        "              kernel_regularizer=l2(0.003),  # NEW: L2 regularization\n",
        "              name='dense_1')(x)\n",
        "    x = BatchNormalization(name='batch_norm_2')(x)\n",
        "    x = Dropout(0.3, name='dropout_2')(x)\n",
        "\n",
        "    # Second dense layer with L2 regularization\n",
        "    x = Dense(512,\n",
        "              activation='relu',\n",
        "              kernel_regularizer=l2(0.002),\n",
        "              name='dense_2')(x)\n",
        "    x = Dropout(0.3, name='dropout_3')(x)\n",
        "\n",
        "    # Second dense layer\n",
        "    x = Dense(256,\n",
        "              activation='relu',\n",
        "              kernel_regularizer=l2(0.001),\n",
        "              name='dense_3')(x)\n",
        "    x = Dropout(0.2, name='dropout_4')(x)\n",
        "\n",
        "    # Final classification layer\n",
        "    outputs = Dense(num_classes,\n",
        "                    activation='softmax',\n",
        "                    kernel_regularizer=l2(0.0005),\n",
        "                    name='breed_classification',\n",
        "                    dtype='float32')(x)\n",
        "\n",
        "    # Create the model\n",
        "    model = Model(inputs, outputs, name='Cattle_Buffalo_Breed_Classifier')\n",
        "\n",
        "    return model, base_model\n"
      ],
      "metadata": {
        "id": "_6eNClZmt1_u"
      },
      "execution_count": null,
      "outputs": []
    },
    {
      "cell_type": "code",
      "source": [
        "# Create the model\n",
        "print(\"Building ResNet50-based breed classification model...\")\n",
        "model, base_model = create_breed_classification_model()"
      ],
      "metadata": {
        "id": "qC8Ycjzt0Zzs",
        "colab": {
          "base_uri": "https://localhost:8080/"
        },
        "outputId": "5f0c1031-c565-4d40-e8a3-2157278de601"
      },
      "execution_count": null,
      "outputs": [
        {
          "output_type": "stream",
          "name": "stdout",
          "text": [
            "Building ResNet50-based breed classification model...\n",
            "Downloading data from https://storage.googleapis.com/tensorflow/keras-applications/resnet/resnet50_weights_tf_dim_ordering_tf_kernels_notop.h5\n",
            "\u001b[1m94765736/94765736\u001b[0m \u001b[32m━━━━━━━━━━━━━━━━━━━━\u001b[0m\u001b[37m\u001b[0m \u001b[1m5s\u001b[0m 0us/step\n",
            "ResNet50 base model has 175 layers\n",
            "Base model output shape: (None, 7, 7, 2048)\n"
          ]
        }
      ]
    },
    {
      "cell_type": "code",
      "source": [
        "# Display model architecture\n",
        "model.summary()"
      ],
      "metadata": {
        "id": "NAwSn_-g0dhU",
        "colab": {
          "base_uri": "https://localhost:8080/",
          "height": 606
        },
        "outputId": "dbf7dff4-fe65-4eb4-8724-0e2918827a5a"
      },
      "execution_count": null,
      "outputs": [
        {
          "output_type": "display_data",
          "data": {
            "text/plain": [
              "\u001b[1mModel: \"Cattle_Buffalo_Breed_Classifier\"\u001b[0m\n"
            ],
            "text/html": [
              "<pre style=\"white-space:pre;overflow-x:auto;line-height:normal;font-family:Menlo,'DejaVu Sans Mono',consolas,'Courier New',monospace\"><span style=\"font-weight: bold\">Model: \"Cattle_Buffalo_Breed_Classifier\"</span>\n",
              "</pre>\n"
            ]
          },
          "metadata": {}
        },
        {
          "output_type": "display_data",
          "data": {
            "text/plain": [
              "┏━━━━━━━━━━━━━━━━━━━━━━━━━━━━━━━━━┳━━━━━━━━━━━━━━━━━━━━━━━━┳━━━━━━━━━━━━━━━┓\n",
              "┃\u001b[1m \u001b[0m\u001b[1mLayer (type)                   \u001b[0m\u001b[1m \u001b[0m┃\u001b[1m \u001b[0m\u001b[1mOutput Shape          \u001b[0m\u001b[1m \u001b[0m┃\u001b[1m \u001b[0m\u001b[1m      Param #\u001b[0m\u001b[1m \u001b[0m┃\n",
              "┡━━━━━━━━━━━━━━━━━━━━━━━━━━━━━━━━━╇━━━━━━━━━━━━━━━━━━━━━━━━╇━━━━━━━━━━━━━━━┩\n",
              "│ input_layer_2 (\u001b[38;5;33mInputLayer\u001b[0m)      │ (\u001b[38;5;45mNone\u001b[0m, \u001b[38;5;34m224\u001b[0m, \u001b[38;5;34m224\u001b[0m, \u001b[38;5;34m3\u001b[0m)    │             \u001b[38;5;34m0\u001b[0m │\n",
              "├─────────────────────────────────┼────────────────────────┼───────────────┤\n",
              "│ resnet50 (\u001b[38;5;33mFunctional\u001b[0m)           │ (\u001b[38;5;45mNone\u001b[0m, \u001b[38;5;34m7\u001b[0m, \u001b[38;5;34m7\u001b[0m, \u001b[38;5;34m2048\u001b[0m)     │    \u001b[38;5;34m23,587,712\u001b[0m │\n",
              "├─────────────────────────────────┼────────────────────────┼───────────────┤\n",
              "│ global_avg_pooling              │ (\u001b[38;5;45mNone\u001b[0m, \u001b[38;5;34m2048\u001b[0m)           │             \u001b[38;5;34m0\u001b[0m │\n",
              "│ (\u001b[38;5;33mGlobalAveragePooling2D\u001b[0m)        │                        │               │\n",
              "├─────────────────────────────────┼────────────────────────┼───────────────┤\n",
              "│ batch_norm_1                    │ (\u001b[38;5;45mNone\u001b[0m, \u001b[38;5;34m2048\u001b[0m)           │         \u001b[38;5;34m8,192\u001b[0m │\n",
              "│ (\u001b[38;5;33mBatchNormalization\u001b[0m)            │                        │               │\n",
              "├─────────────────────────────────┼────────────────────────┼───────────────┤\n",
              "│ dropout_1 (\u001b[38;5;33mDropout\u001b[0m)             │ (\u001b[38;5;45mNone\u001b[0m, \u001b[38;5;34m2048\u001b[0m)           │             \u001b[38;5;34m0\u001b[0m │\n",
              "├─────────────────────────────────┼────────────────────────┼───────────────┤\n",
              "│ dense_1 (\u001b[38;5;33mDense\u001b[0m)                 │ (\u001b[38;5;45mNone\u001b[0m, \u001b[38;5;34m1024\u001b[0m)           │     \u001b[38;5;34m2,098,176\u001b[0m │\n",
              "├─────────────────────────────────┼────────────────────────┼───────────────┤\n",
              "│ batch_norm_2                    │ (\u001b[38;5;45mNone\u001b[0m, \u001b[38;5;34m1024\u001b[0m)           │         \u001b[38;5;34m4,096\u001b[0m │\n",
              "│ (\u001b[38;5;33mBatchNormalization\u001b[0m)            │                        │               │\n",
              "├─────────────────────────────────┼────────────────────────┼───────────────┤\n",
              "│ dropout_2 (\u001b[38;5;33mDropout\u001b[0m)             │ (\u001b[38;5;45mNone\u001b[0m, \u001b[38;5;34m1024\u001b[0m)           │             \u001b[38;5;34m0\u001b[0m │\n",
              "├─────────────────────────────────┼────────────────────────┼───────────────┤\n",
              "│ dense_2 (\u001b[38;5;33mDense\u001b[0m)                 │ (\u001b[38;5;45mNone\u001b[0m, \u001b[38;5;34m256\u001b[0m)            │       \u001b[38;5;34m262,400\u001b[0m │\n",
              "├─────────────────────────────────┼────────────────────────┼───────────────┤\n",
              "│ dropout_3 (\u001b[38;5;33mDropout\u001b[0m)             │ (\u001b[38;5;45mNone\u001b[0m, \u001b[38;5;34m256\u001b[0m)            │             \u001b[38;5;34m0\u001b[0m │\n",
              "├─────────────────────────────────┼────────────────────────┼───────────────┤\n",
              "│ dense_3 (\u001b[38;5;33mDense\u001b[0m)                 │ (\u001b[38;5;45mNone\u001b[0m, \u001b[38;5;34m256\u001b[0m)            │        \u001b[38;5;34m65,792\u001b[0m │\n",
              "├─────────────────────────────────┼────────────────────────┼───────────────┤\n",
              "│ dropout_4 (\u001b[38;5;33mDropout\u001b[0m)             │ (\u001b[38;5;45mNone\u001b[0m, \u001b[38;5;34m256\u001b[0m)            │             \u001b[38;5;34m0\u001b[0m │\n",
              "├─────────────────────────────────┼────────────────────────┼───────────────┤\n",
              "│ breed_classification (\u001b[38;5;33mDense\u001b[0m)    │ (\u001b[38;5;45mNone\u001b[0m, \u001b[38;5;34m14\u001b[0m)             │         \u001b[38;5;34m3,598\u001b[0m │\n",
              "└─────────────────────────────────┴────────────────────────┴───────────────┘\n"
            ],
            "text/html": [
              "<pre style=\"white-space:pre;overflow-x:auto;line-height:normal;font-family:Menlo,'DejaVu Sans Mono',consolas,'Courier New',monospace\">┏━━━━━━━━━━━━━━━━━━━━━━━━━━━━━━━━━┳━━━━━━━━━━━━━━━━━━━━━━━━┳━━━━━━━━━━━━━━━┓\n",
              "┃<span style=\"font-weight: bold\"> Layer (type)                    </span>┃<span style=\"font-weight: bold\"> Output Shape           </span>┃<span style=\"font-weight: bold\">       Param # </span>┃\n",
              "┡━━━━━━━━━━━━━━━━━━━━━━━━━━━━━━━━━╇━━━━━━━━━━━━━━━━━━━━━━━━╇━━━━━━━━━━━━━━━┩\n",
              "│ input_layer_2 (<span style=\"color: #0087ff; text-decoration-color: #0087ff\">InputLayer</span>)      │ (<span style=\"color: #00d7ff; text-decoration-color: #00d7ff\">None</span>, <span style=\"color: #00af00; text-decoration-color: #00af00\">224</span>, <span style=\"color: #00af00; text-decoration-color: #00af00\">224</span>, <span style=\"color: #00af00; text-decoration-color: #00af00\">3</span>)    │             <span style=\"color: #00af00; text-decoration-color: #00af00\">0</span> │\n",
              "├─────────────────────────────────┼────────────────────────┼───────────────┤\n",
              "│ resnet50 (<span style=\"color: #0087ff; text-decoration-color: #0087ff\">Functional</span>)           │ (<span style=\"color: #00d7ff; text-decoration-color: #00d7ff\">None</span>, <span style=\"color: #00af00; text-decoration-color: #00af00\">7</span>, <span style=\"color: #00af00; text-decoration-color: #00af00\">7</span>, <span style=\"color: #00af00; text-decoration-color: #00af00\">2048</span>)     │    <span style=\"color: #00af00; text-decoration-color: #00af00\">23,587,712</span> │\n",
              "├─────────────────────────────────┼────────────────────────┼───────────────┤\n",
              "│ global_avg_pooling              │ (<span style=\"color: #00d7ff; text-decoration-color: #00d7ff\">None</span>, <span style=\"color: #00af00; text-decoration-color: #00af00\">2048</span>)           │             <span style=\"color: #00af00; text-decoration-color: #00af00\">0</span> │\n",
              "│ (<span style=\"color: #0087ff; text-decoration-color: #0087ff\">GlobalAveragePooling2D</span>)        │                        │               │\n",
              "├─────────────────────────────────┼────────────────────────┼───────────────┤\n",
              "│ batch_norm_1                    │ (<span style=\"color: #00d7ff; text-decoration-color: #00d7ff\">None</span>, <span style=\"color: #00af00; text-decoration-color: #00af00\">2048</span>)           │         <span style=\"color: #00af00; text-decoration-color: #00af00\">8,192</span> │\n",
              "│ (<span style=\"color: #0087ff; text-decoration-color: #0087ff\">BatchNormalization</span>)            │                        │               │\n",
              "├─────────────────────────────────┼────────────────────────┼───────────────┤\n",
              "│ dropout_1 (<span style=\"color: #0087ff; text-decoration-color: #0087ff\">Dropout</span>)             │ (<span style=\"color: #00d7ff; text-decoration-color: #00d7ff\">None</span>, <span style=\"color: #00af00; text-decoration-color: #00af00\">2048</span>)           │             <span style=\"color: #00af00; text-decoration-color: #00af00\">0</span> │\n",
              "├─────────────────────────────────┼────────────────────────┼───────────────┤\n",
              "│ dense_1 (<span style=\"color: #0087ff; text-decoration-color: #0087ff\">Dense</span>)                 │ (<span style=\"color: #00d7ff; text-decoration-color: #00d7ff\">None</span>, <span style=\"color: #00af00; text-decoration-color: #00af00\">1024</span>)           │     <span style=\"color: #00af00; text-decoration-color: #00af00\">2,098,176</span> │\n",
              "├─────────────────────────────────┼────────────────────────┼───────────────┤\n",
              "│ batch_norm_2                    │ (<span style=\"color: #00d7ff; text-decoration-color: #00d7ff\">None</span>, <span style=\"color: #00af00; text-decoration-color: #00af00\">1024</span>)           │         <span style=\"color: #00af00; text-decoration-color: #00af00\">4,096</span> │\n",
              "│ (<span style=\"color: #0087ff; text-decoration-color: #0087ff\">BatchNormalization</span>)            │                        │               │\n",
              "├─────────────────────────────────┼────────────────────────┼───────────────┤\n",
              "│ dropout_2 (<span style=\"color: #0087ff; text-decoration-color: #0087ff\">Dropout</span>)             │ (<span style=\"color: #00d7ff; text-decoration-color: #00d7ff\">None</span>, <span style=\"color: #00af00; text-decoration-color: #00af00\">1024</span>)           │             <span style=\"color: #00af00; text-decoration-color: #00af00\">0</span> │\n",
              "├─────────────────────────────────┼────────────────────────┼───────────────┤\n",
              "│ dense_2 (<span style=\"color: #0087ff; text-decoration-color: #0087ff\">Dense</span>)                 │ (<span style=\"color: #00d7ff; text-decoration-color: #00d7ff\">None</span>, <span style=\"color: #00af00; text-decoration-color: #00af00\">256</span>)            │       <span style=\"color: #00af00; text-decoration-color: #00af00\">262,400</span> │\n",
              "├─────────────────────────────────┼────────────────────────┼───────────────┤\n",
              "│ dropout_3 (<span style=\"color: #0087ff; text-decoration-color: #0087ff\">Dropout</span>)             │ (<span style=\"color: #00d7ff; text-decoration-color: #00d7ff\">None</span>, <span style=\"color: #00af00; text-decoration-color: #00af00\">256</span>)            │             <span style=\"color: #00af00; text-decoration-color: #00af00\">0</span> │\n",
              "├─────────────────────────────────┼────────────────────────┼───────────────┤\n",
              "│ dense_3 (<span style=\"color: #0087ff; text-decoration-color: #0087ff\">Dense</span>)                 │ (<span style=\"color: #00d7ff; text-decoration-color: #00d7ff\">None</span>, <span style=\"color: #00af00; text-decoration-color: #00af00\">256</span>)            │        <span style=\"color: #00af00; text-decoration-color: #00af00\">65,792</span> │\n",
              "├─────────────────────────────────┼────────────────────────┼───────────────┤\n",
              "│ dropout_4 (<span style=\"color: #0087ff; text-decoration-color: #0087ff\">Dropout</span>)             │ (<span style=\"color: #00d7ff; text-decoration-color: #00d7ff\">None</span>, <span style=\"color: #00af00; text-decoration-color: #00af00\">256</span>)            │             <span style=\"color: #00af00; text-decoration-color: #00af00\">0</span> │\n",
              "├─────────────────────────────────┼────────────────────────┼───────────────┤\n",
              "│ breed_classification (<span style=\"color: #0087ff; text-decoration-color: #0087ff\">Dense</span>)    │ (<span style=\"color: #00d7ff; text-decoration-color: #00d7ff\">None</span>, <span style=\"color: #00af00; text-decoration-color: #00af00\">14</span>)             │         <span style=\"color: #00af00; text-decoration-color: #00af00\">3,598</span> │\n",
              "└─────────────────────────────────┴────────────────────────┴───────────────┘\n",
              "</pre>\n"
            ]
          },
          "metadata": {}
        },
        {
          "output_type": "display_data",
          "data": {
            "text/plain": [
              "\u001b[1m Total params: \u001b[0m\u001b[38;5;34m26,029,966\u001b[0m (99.30 MB)\n"
            ],
            "text/html": [
              "<pre style=\"white-space:pre;overflow-x:auto;line-height:normal;font-family:Menlo,'DejaVu Sans Mono',consolas,'Courier New',monospace\"><span style=\"font-weight: bold\"> Total params: </span><span style=\"color: #00af00; text-decoration-color: #00af00\">26,029,966</span> (99.30 MB)\n",
              "</pre>\n"
            ]
          },
          "metadata": {}
        },
        {
          "output_type": "display_data",
          "data": {
            "text/plain": [
              "\u001b[1m Trainable params: \u001b[0m\u001b[38;5;34m2,436,110\u001b[0m (9.29 MB)\n"
            ],
            "text/html": [
              "<pre style=\"white-space:pre;overflow-x:auto;line-height:normal;font-family:Menlo,'DejaVu Sans Mono',consolas,'Courier New',monospace\"><span style=\"font-weight: bold\"> Trainable params: </span><span style=\"color: #00af00; text-decoration-color: #00af00\">2,436,110</span> (9.29 MB)\n",
              "</pre>\n"
            ]
          },
          "metadata": {}
        },
        {
          "output_type": "display_data",
          "data": {
            "text/plain": [
              "\u001b[1m Non-trainable params: \u001b[0m\u001b[38;5;34m23,593,856\u001b[0m (90.00 MB)\n"
            ],
            "text/html": [
              "<pre style=\"white-space:pre;overflow-x:auto;line-height:normal;font-family:Menlo,'DejaVu Sans Mono',consolas,'Courier New',monospace\"><span style=\"font-weight: bold\"> Non-trainable params: </span><span style=\"color: #00af00; text-decoration-color: #00af00\">23,593,856</span> (90.00 MB)\n",
              "</pre>\n"
            ]
          },
          "metadata": {}
        }
      ]
    },
    {
      "cell_type": "code",
      "source": [
        "# Visualize model architecture\n",
        "#plot_model(model, to_file='model_architecture.png', show_shapes=True, show_layer_names=True)\n"
      ],
      "metadata": {
        "id": "02a1SSIF_BIT"
      },
      "execution_count": null,
      "outputs": []
    },
    {
      "cell_type": "code",
      "source": [
        "# Create callbacks for better training\n",
        "callbacks = [\n",
        "    # Early stopping to prevent overfitting\n",
        "    EarlyStopping(\n",
        "        monitor='val_accuracy',\n",
        "        patience=10,\n",
        "        restore_best_weights=True,\n",
        "        verbose=1,\n",
        "        mode='max',\n",
        "        min_delta=0.002\n",
        "    ),\n",
        "\n",
        "    # Save best model\n",
        "    ModelCheckpoint(\n",
        "        '/content/drive/MyDrive/SIH/best_improved_model.keras', # use /content/drive/MyDrive/SIH/models/best_improved_model.keras\n",
        "        monitor='val_accuracy',\n",
        "        save_best_only=True,\n",
        "        save_weights_only=False,\n",
        "        verbose=1,\n",
        "        mode='max'\n",
        "    ),\n",
        "\n",
        "    # Reduce learning rate when stuck\n",
        "    # More aggressive learning rate reduction\n",
        "    ReduceLROnPlateau(\n",
        "        monitor='val_accuracy', # Monitor accuracy\n",
        "        factor=0.5,             # Reduce by 70%\n",
        "        patience=6,\n",
        "        min_lr=1e-8,\n",
        "        verbose=1,\n",
        "        mode='max'\n",
        "    )\n",
        "]"
      ],
      "metadata": {
        "id": "Rtg_LNiYANv1"
      },
      "execution_count": null,
      "outputs": []
    },
    {
      "cell_type": "code",
      "source": [
        "# Compile model with appropriate metrics\n",
        "\n",
        "optimizer = Adam(learning_rate=BASE_LR)\n",
        "optimizer = mixed_precision.LossScaleOptimizer(optimizer)\n",
        "\n",
        "model.compile(\n",
        "    optimizer=optimizer,\n",
        "    loss='sparse_categorical_crossentropy',\n",
        "    metrics=['accuracy']\n",
        ")\n",
        "\n",
        "print(\"Model compiled successfully!\")"
      ],
      "metadata": {
        "id": "FkDqXfY6_aZC",
        "colab": {
          "base_uri": "https://localhost:8080/"
        },
        "outputId": "47ca838c-1041-4012-d17a-bc9514341be2"
      },
      "execution_count": null,
      "outputs": [
        {
          "output_type": "stream",
          "name": "stdout",
          "text": [
            "Model compiled successfully!\n"
          ]
        }
      ]
    },
    {
      "cell_type": "markdown",
      "source": [
        "PHASE 1 TRAINING (FROZEN BASE MODEL)"
      ],
      "metadata": {
        "id": "3Y73XojYAe0z"
      }
    },
    {
      "cell_type": "code",
      "source": [
        "# Train with frozen base model\n",
        "history_phase1 = model.fit(\n",
        "    train_ds,\n",
        "    epochs=EPOCHS_PHASE1,\n",
        "    validation_data=val_ds,\n",
        "    callbacks=callbacks,\n",
        "    verbose=1,\n",
        "    class_weight=class_weights,\n",
        ")\n",
        "\n",
        "print(\"Phase 1 training completed!\")"
      ],
      "metadata": {
        "id": "MjGfvPinAhcr",
        "colab": {
          "base_uri": "https://localhost:8080/"
        },
        "outputId": "cd949c96-8d82-40d6-9c04-f697fad82c55"
      },
      "execution_count": null,
      "outputs": [
        {
          "output_type": "stream",
          "name": "stdout",
          "text": [
            "Epoch 1/20\n",
            "\u001b[1m156/158\u001b[0m \u001b[32m━━━━━━━━━━━━━━━━━━━\u001b[0m\u001b[37m━\u001b[0m \u001b[1m0s\u001b[0m 89ms/step - accuracy: 0.1155 - loss: 12.3585\n",
            "Epoch 1: val_accuracy improved from -inf to 0.51447, saving model to /content/drive/MyDrive/SIH/best_improved_model.keras\n",
            "\u001b[1m158/158\u001b[0m \u001b[32m━━━━━━━━━━━━━━━━━━━━\u001b[0m\u001b[37m\u001b[0m \u001b[1m1084s\u001b[0m 1s/step - accuracy: 0.1162 - loss: 12.3535 - val_accuracy: 0.5145 - val_loss: 11.1147 - learning_rate: 1.0000e-04\n",
            "Epoch 2/20\n",
            "\u001b[1m157/158\u001b[0m \u001b[32m━━━━━━━━━━━━━━━━━━━\u001b[0m\u001b[37m━\u001b[0m \u001b[1m0s\u001b[0m 18ms/step - accuracy: 0.2834 - loss: 11.3659\n",
            "Epoch 2: val_accuracy improved from 0.51447 to 0.60450, saving model to /content/drive/MyDrive/SIH/best_improved_model.keras\n",
            "\u001b[1m158/158\u001b[0m \u001b[32m━━━━━━━━━━━━━━━━━━━━\u001b[0m\u001b[37m\u001b[0m \u001b[1m33s\u001b[0m 29ms/step - accuracy: 0.2838 - loss: 11.3638 - val_accuracy: 0.6045 - val_loss: 10.4233 - learning_rate: 1.0000e-04\n",
            "Epoch 3/20\n",
            "\u001b[1m156/158\u001b[0m \u001b[32m━━━━━━━━━━━━━━━━━━━\u001b[0m\u001b[37m━\u001b[0m \u001b[1m0s\u001b[0m 20ms/step - accuracy: 0.3971 - loss: 10.7694\n",
            "Epoch 3: val_accuracy improved from 0.60450 to 0.63344, saving model to /content/drive/MyDrive/SIH/best_improved_model.keras\n",
            "\u001b[1m158/158\u001b[0m \u001b[32m━━━━━━━━━━━━━━━━━━━━\u001b[0m\u001b[37m\u001b[0m \u001b[1m7s\u001b[0m 33ms/step - accuracy: 0.3975 - loss: 10.7670 - val_accuracy: 0.6334 - val_loss: 9.9750 - learning_rate: 1.0000e-04\n",
            "Epoch 4/20\n",
            "\u001b[1m157/158\u001b[0m \u001b[32m━━━━━━━━━━━━━━━━━━━\u001b[0m\u001b[37m━\u001b[0m \u001b[1m0s\u001b[0m 19ms/step - accuracy: 0.4906 - loss: 10.2939\n",
            "Epoch 4: val_accuracy improved from 0.63344 to 0.67524, saving model to /content/drive/MyDrive/SIH/best_improved_model.keras\n",
            "\u001b[1m158/158\u001b[0m \u001b[32m━━━━━━━━━━━━━━━━━━━━\u001b[0m\u001b[37m\u001b[0m \u001b[1m6s\u001b[0m 31ms/step - accuracy: 0.4908 - loss: 10.2927 - val_accuracy: 0.6752 - val_loss: 9.6215 - learning_rate: 1.0000e-04\n",
            "Epoch 5/20\n",
            "\u001b[1m156/158\u001b[0m \u001b[32m━━━━━━━━━━━━━━━━━━━\u001b[0m\u001b[37m━\u001b[0m \u001b[1m0s\u001b[0m 20ms/step - accuracy: 0.5488 - loss: 9.8843\n",
            "Epoch 5: val_accuracy improved from 0.67524 to 0.70740, saving model to /content/drive/MyDrive/SIH/best_improved_model.keras\n",
            "\u001b[1m158/158\u001b[0m \u001b[32m━━━━━━━━━━━━━━━━━━━━\u001b[0m\u001b[37m\u001b[0m \u001b[1m7s\u001b[0m 33ms/step - accuracy: 0.5491 - loss: 9.8827 - val_accuracy: 0.7074 - val_loss: 9.3139 - learning_rate: 1.0000e-04\n",
            "Epoch 6/20\n",
            "\u001b[1m158/158\u001b[0m \u001b[32m━━━━━━━━━━━━━━━━━━━━\u001b[0m\u001b[37m\u001b[0m \u001b[1m0s\u001b[0m 19ms/step - accuracy: 0.5867 - loss: 9.5467\n",
            "Epoch 6: val_accuracy improved from 0.70740 to 0.72990, saving model to /content/drive/MyDrive/SIH/best_improved_model.keras\n",
            "\u001b[1m158/158\u001b[0m \u001b[32m━━━━━━━━━━━━━━━━━━━━\u001b[0m\u001b[37m\u001b[0m \u001b[1m6s\u001b[0m 30ms/step - accuracy: 0.5869 - loss: 9.5461 - val_accuracy: 0.7299 - val_loss: 9.0651 - learning_rate: 1.0000e-04\n",
            "Epoch 7/20\n",
            "\u001b[1m157/158\u001b[0m \u001b[32m━━━━━━━━━━━━━━━━━━━\u001b[0m\u001b[37m━\u001b[0m \u001b[1m0s\u001b[0m 20ms/step - accuracy: 0.6501 - loss: 9.1778\n",
            "Epoch 7: val_accuracy improved from 0.72990 to 0.73633, saving model to /content/drive/MyDrive/SIH/best_improved_model.keras\n",
            "\u001b[1m158/158\u001b[0m \u001b[32m━━━━━━━━━━━━━━━━━━━━\u001b[0m\u001b[37m\u001b[0m \u001b[1m7s\u001b[0m 33ms/step - accuracy: 0.6501 - loss: 9.1773 - val_accuracy: 0.7363 - val_loss: 8.8183 - learning_rate: 1.0000e-04\n",
            "Epoch 8/20\n",
            "\u001b[1m156/158\u001b[0m \u001b[32m━━━━━━━━━━━━━━━━━━━\u001b[0m\u001b[37m━\u001b[0m \u001b[1m0s\u001b[0m 19ms/step - accuracy: 0.6873 - loss: 8.8802\n",
            "Epoch 8: val_accuracy did not improve from 0.73633\n",
            "\u001b[1m158/158\u001b[0m \u001b[32m━━━━━━━━━━━━━━━━━━━━\u001b[0m\u001b[37m\u001b[0m \u001b[1m9s\u001b[0m 23ms/step - accuracy: 0.6873 - loss: 8.8792 - val_accuracy: 0.7267 - val_loss: 8.6071 - learning_rate: 1.0000e-04\n",
            "Epoch 9/20\n",
            "\u001b[1m156/158\u001b[0m \u001b[32m━━━━━━━━━━━━━━━━━━━\u001b[0m\u001b[37m━\u001b[0m \u001b[1m0s\u001b[0m 19ms/step - accuracy: 0.7185 - loss: 8.5576\n",
            "Epoch 9: val_accuracy improved from 0.73633 to 0.74920, saving model to /content/drive/MyDrive/SIH/best_improved_model.keras\n",
            "\u001b[1m158/158\u001b[0m \u001b[32m━━━━━━━━━━━━━━━━━━━━\u001b[0m\u001b[37m\u001b[0m \u001b[1m11s\u001b[0m 30ms/step - accuracy: 0.7183 - loss: 8.5575 - val_accuracy: 0.7492 - val_loss: 8.3649 - learning_rate: 1.0000e-04\n",
            "Epoch 10/20\n",
            "\u001b[1m157/158\u001b[0m \u001b[32m━━━━━━━━━━━━━━━━━━━\u001b[0m\u001b[37m━\u001b[0m \u001b[1m0s\u001b[0m 19ms/step - accuracy: 0.7410 - loss: 8.2920\n",
            "Epoch 10: val_accuracy improved from 0.74920 to 0.76527, saving model to /content/drive/MyDrive/SIH/best_improved_model.keras\n",
            "\u001b[1m158/158\u001b[0m \u001b[32m━━━━━━━━━━━━━━━━━━━━\u001b[0m\u001b[37m\u001b[0m \u001b[1m11s\u001b[0m 32ms/step - accuracy: 0.7409 - loss: 8.2917 - val_accuracy: 0.7653 - val_loss: 8.1311 - learning_rate: 1.0000e-04\n",
            "Epoch 11/20\n",
            "\u001b[1m158/158\u001b[0m \u001b[32m━━━━━━━━━━━━━━━━━━━━\u001b[0m\u001b[37m\u001b[0m \u001b[1m0s\u001b[0m 21ms/step - accuracy: 0.7503 - loss: 8.0408\n",
            "Epoch 11: val_accuracy did not improve from 0.76527\n",
            "\u001b[1m158/158\u001b[0m \u001b[32m━━━━━━━━━━━━━━━━━━━━\u001b[0m\u001b[37m\u001b[0m \u001b[1m13s\u001b[0m 26ms/step - accuracy: 0.7504 - loss: 8.0403 - val_accuracy: 0.7653 - val_loss: 7.9027 - learning_rate: 1.0000e-04\n",
            "Epoch 12/20\n",
            "\u001b[1m157/158\u001b[0m \u001b[32m━━━━━━━━━━━━━━━━━━━\u001b[0m\u001b[37m━\u001b[0m \u001b[1m0s\u001b[0m 21ms/step - accuracy: 0.7983 - loss: 7.7295\n",
            "Epoch 12: val_accuracy improved from 0.76527 to 0.77170, saving model to /content/drive/MyDrive/SIH/best_improved_model.keras\n",
            "\u001b[1m158/158\u001b[0m \u001b[32m━━━━━━━━━━━━━━━━━━━━\u001b[0m\u001b[37m\u001b[0m \u001b[1m12s\u001b[0m 38ms/step - accuracy: 0.7981 - loss: 7.7292 - val_accuracy: 0.7717 - val_loss: 7.6910 - learning_rate: 1.0000e-04\n",
            "Epoch 13/20\n",
            "\u001b[1m158/158\u001b[0m \u001b[32m━━━━━━━━━━━━━━━━━━━━\u001b[0m\u001b[37m\u001b[0m \u001b[1m0s\u001b[0m 19ms/step - accuracy: 0.8054 - loss: 7.4883\n",
            "Epoch 13: val_accuracy did not improve from 0.77170\n",
            "\u001b[1m158/158\u001b[0m \u001b[32m━━━━━━━━━━━━━━━━━━━━\u001b[0m\u001b[37m\u001b[0m \u001b[1m18s\u001b[0m 24ms/step - accuracy: 0.8054 - loss: 7.4880 - val_accuracy: 0.7621 - val_loss: 7.4961 - learning_rate: 1.0000e-04\n",
            "Epoch 14/20\n",
            "\u001b[1m156/158\u001b[0m \u001b[32m━━━━━━━━━━━━━━━━━━━\u001b[0m\u001b[37m━\u001b[0m \u001b[1m0s\u001b[0m 19ms/step - accuracy: 0.8245 - loss: 7.2145\n",
            "Epoch 14: val_accuracy did not improve from 0.77170\n",
            "\u001b[1m158/158\u001b[0m \u001b[32m━━━━━━━━━━━━━━━━━━━━\u001b[0m\u001b[37m\u001b[0m \u001b[1m9s\u001b[0m 22ms/step - accuracy: 0.8245 - loss: 7.2137 - val_accuracy: 0.7717 - val_loss: 7.3063 - learning_rate: 1.0000e-04\n",
            "Epoch 15/20\n",
            "\u001b[1m156/158\u001b[0m \u001b[32m━━━━━━━━━━━━━━━━━━━\u001b[0m\u001b[37m━\u001b[0m \u001b[1m0s\u001b[0m 19ms/step - accuracy: 0.8674 - loss: 6.9267\n",
            "Epoch 15: val_accuracy did not improve from 0.77170\n",
            "\u001b[1m158/158\u001b[0m \u001b[32m━━━━━━━━━━━━━━━━━━━━\u001b[0m\u001b[37m\u001b[0m \u001b[1m10s\u001b[0m 23ms/step - accuracy: 0.8672 - loss: 6.9264 - val_accuracy: 0.7685 - val_loss: 7.0971 - learning_rate: 1.0000e-04\n",
            "Epoch 16/20\n",
            "\u001b[1m156/158\u001b[0m \u001b[32m━━━━━━━━━━━━━━━━━━━\u001b[0m\u001b[37m━\u001b[0m \u001b[1m0s\u001b[0m 20ms/step - accuracy: 0.8760 - loss: 6.7151\n",
            "Epoch 16: val_accuracy did not improve from 0.77170\n",
            "\u001b[1m158/158\u001b[0m \u001b[32m━━━━━━━━━━━━━━━━━━━━\u001b[0m\u001b[37m\u001b[0m \u001b[1m9s\u001b[0m 23ms/step - accuracy: 0.8757 - loss: 6.7147 - val_accuracy: 0.7717 - val_loss: 6.8944 - learning_rate: 1.0000e-04\n",
            "Epoch 17/20\n",
            "\u001b[1m157/158\u001b[0m \u001b[32m━━━━━━━━━━━━━━━━━━━\u001b[0m\u001b[37m━\u001b[0m \u001b[1m0s\u001b[0m 19ms/step - accuracy: 0.8583 - loss: 6.5581\n",
            "Epoch 17: val_accuracy did not improve from 0.77170\n",
            "\n",
            "Epoch 17: ReduceLROnPlateau reducing learning rate to 2.9999999242136255e-05.\n",
            "\u001b[1m158/158\u001b[0m \u001b[32m━━━━━━━━━━━━━━━━━━━━\u001b[0m\u001b[37m\u001b[0m \u001b[1m9s\u001b[0m 22ms/step - accuracy: 0.8584 - loss: 6.5573 - val_accuracy: 0.7717 - val_loss: 6.6989 - learning_rate: 1.0000e-04\n",
            "Epoch 18/20\n",
            "\u001b[1m157/158\u001b[0m \u001b[32m━━━━━━━━━━━━━━━━━━━\u001b[0m\u001b[37m━\u001b[0m \u001b[1m0s\u001b[0m 21ms/step - accuracy: 0.8844 - loss: 6.3132\n",
            "Epoch 18: val_accuracy did not improve from 0.77170\n",
            "\u001b[1m158/158\u001b[0m \u001b[32m━━━━━━━━━━━━━━━━━━━━\u001b[0m\u001b[37m\u001b[0m \u001b[1m9s\u001b[0m 25ms/step - accuracy: 0.8846 - loss: 6.3128 - val_accuracy: 0.7653 - val_loss: 6.6396 - learning_rate: 3.0000e-05\n",
            "Epoch 19/20\n",
            "\u001b[1m157/158\u001b[0m \u001b[32m━━━━━━━━━━━━━━━━━━━\u001b[0m\u001b[37m━\u001b[0m \u001b[1m0s\u001b[0m 19ms/step - accuracy: 0.9041 - loss: 6.2203\n",
            "Epoch 19: val_accuracy did not improve from 0.77170\n",
            "\u001b[1m158/158\u001b[0m \u001b[32m━━━━━━━━━━━━━━━━━━━━\u001b[0m\u001b[37m\u001b[0m \u001b[1m10s\u001b[0m 27ms/step - accuracy: 0.9042 - loss: 6.2201 - val_accuracy: 0.7717 - val_loss: 6.5845 - learning_rate: 3.0000e-05\n",
            "Epoch 19: early stopping\n",
            "Restoring model weights from the end of the best epoch: 12.\n",
            "Phase 1 training completed!\n"
          ]
        }
      ]
    },
    {
      "cell_type": "code",
      "source": [
        "test_loss, test_acc = model.evaluate(test_ds)\n",
        "print(f\"Phase 1 - Test Accuracy: {test_acc:.4f}\")\n",
        "print(f\"Phase 1 - Test Loss: {test_loss:.4f}\")"
      ],
      "metadata": {
        "id": "zq7l9NllBwxB",
        "colab": {
          "base_uri": "https://localhost:8080/"
        },
        "outputId": "b3a0108d-0924-4fd2-ca78-1d96ded9dcc6"
      },
      "execution_count": null,
      "outputs": [
        {
          "output_type": "stream",
          "name": "stdout",
          "text": [
            "\u001b[1m20/20\u001b[0m \u001b[32m━━━━━━━━━━━━━━━━━━━━\u001b[0m\u001b[37m\u001b[0m \u001b[1m3s\u001b[0m 101ms/step - accuracy: 0.7606 - loss: 7.7868\n",
            "Phase 1 - Test Accuracy: 0.7625\n",
            "Phase 1 - Test Loss: 7.7649\n"
          ]
        }
      ]
    },
    {
      "cell_type": "markdown",
      "source": [
        "PHASE 2 TRAINING (FINE-TUNING)"
      ],
      "metadata": {
        "id": "ZHaWxvPnGq4n"
      }
    },
    {
      "cell_type": "code",
      "source": [
        "# Unfreeze the base model for fine-tuning\n",
        "base_model.trainable = True\n",
        "\n",
        "# Only unfreeze the last 15 layers (more conservative than your layer 100)\n",
        "fine_tune_at = len(base_model.layers) - 25\n",
        "\n",
        "for layer in base_model.layers[:fine_tune_at]:\n",
        "    layer.trainable = False\n",
        "\n",
        "print(f\"Unfrozen layers: {len([layer for layer in base_model.layers if layer.trainable])}\")\n",
        "\n",
        "# VERY LOW learning rate for fine-tuning\n",
        "model.compile(\n",
        "    optimizer=Adam(learning_rate=FINE_TUNE_LR),  # Even lower LR\n",
        "    loss='sparse_categorical_crossentropy',\n",
        "    metrics=['accuracy']\n",
        ")"
      ],
      "metadata": {
        "id": "BKCROh3NGrel",
        "colab": {
          "base_uri": "https://localhost:8080/"
        },
        "outputId": "b68b4831-b5f8-4874-ae17-2c51486c022e"
      },
      "execution_count": null,
      "outputs": [
        {
          "output_type": "stream",
          "name": "stdout",
          "text": [
            "Unfrozen layers: 30\n"
          ]
        }
      ]
    },
    {
      "cell_type": "code",
      "source": [
        "callbacks_phase2 = [\n",
        "        EarlyStopping(\n",
        "            monitor='val_accuracy',\n",
        "            patience=8,                 # Less patience for fine-tuning\n",
        "            restore_best_weights=True,\n",
        "            verbose=1,\n",
        "            mode='max',\n",
        "            min_delta=0.001\n",
        "        ),\n",
        "\n",
        "        ModelCheckpoint(\n",
        "            '/content/drive/MyDrive/SIH/best_resnet50_finetuned.keras',\n",
        "            monitor='val_accuracy',\n",
        "            save_best_only=True,\n",
        "            verbose=1,\n",
        "            mode='max'\n",
        "        ),\n",
        "\n",
        "        ReduceLROnPlateau(\n",
        "            monitor='val_accuracy',\n",
        "            factor=0.3,                # Even more aggressive reduction\n",
        "            patience=4,\n",
        "            min_lr=1e-9,\n",
        "            verbose=1,\n",
        "            mode='max'\n",
        "        )\n",
        "    ]"
      ],
      "metadata": {
        "id": "4kB8SaR206Xm"
      },
      "execution_count": null,
      "outputs": []
    },
    {
      "cell_type": "code",
      "source": [
        "\n",
        "history_phase2 = model.fit(\n",
        "    train_ds,\n",
        "    epochs=EPOCHS_PHASE2,\n",
        "    validation_data=val_ds,\n",
        "    callbacks=callbacks_phase2,\n",
        "    initial_epoch=len(history_phase1.history['loss']),\n",
        "    verbose=1,   #initial_epoch=len(history_phase1.history['loss']),  # Continue from where Phase 1 ended also we need to increse epochs =\n",
        "    class_weight=class_weights,\n",
        ")\n",
        "\n",
        "print(\"Fine-tuning completed!\")"
      ],
      "metadata": {
        "id": "V1WMDODeHOiW",
        "colab": {
          "base_uri": "https://localhost:8080/"
        },
        "outputId": "4bc5793e-a1ec-4137-b8db-79d367433ec5"
      },
      "execution_count": null,
      "outputs": [
        {
          "output_type": "stream",
          "name": "stdout",
          "text": [
            "Epoch 20/35\n",
            "\u001b[1m157/158\u001b[0m \u001b[32m━━━━━━━━━━━━━━━━━━━\u001b[0m\u001b[37m━\u001b[0m \u001b[1m0s\u001b[0m 125ms/step - accuracy: 0.7764 - loss: 7.6256\n",
            "Epoch 20: val_accuracy improved from -inf to 0.77170, saving model to /content/drive/MyDrive/SIH/best_resnet50_finetuned.keras\n",
            "\u001b[1m158/158\u001b[0m \u001b[32m━━━━━━━━━━━━━━━━━━━━\u001b[0m\u001b[37m\u001b[0m \u001b[1m64s\u001b[0m 183ms/step - accuracy: 0.7764 - loss: 7.6256 - val_accuracy: 0.7717 - val_loss: 7.6796 - learning_rate: 5.0000e-06\n",
            "Epoch 21/35\n",
            "\u001b[1m157/158\u001b[0m \u001b[32m━━━━━━━━━━━━━━━━━━━\u001b[0m\u001b[37m━\u001b[0m \u001b[1m0s\u001b[0m 28ms/step - accuracy: 0.7898 - loss: 7.5601\n",
            "Epoch 21: val_accuracy did not improve from 0.77170\n",
            "\u001b[1m158/158\u001b[0m \u001b[32m━━━━━━━━━━━━━━━━━━━━\u001b[0m\u001b[37m\u001b[0m \u001b[1m7s\u001b[0m 32ms/step - accuracy: 0.7899 - loss: 7.5601 - val_accuracy: 0.7685 - val_loss: 7.6637 - learning_rate: 5.0000e-06\n",
            "Epoch 22/35\n",
            "\u001b[1m157/158\u001b[0m \u001b[32m━━━━━━━━━━━━━━━━━━━\u001b[0m\u001b[37m━\u001b[0m \u001b[1m0s\u001b[0m 28ms/step - accuracy: 0.8363 - loss: 7.4518\n",
            "Epoch 22: val_accuracy did not improve from 0.77170\n",
            "\u001b[1m158/158\u001b[0m \u001b[32m━━━━━━━━━━━━━━━━━━━━\u001b[0m\u001b[37m\u001b[0m \u001b[1m7s\u001b[0m 31ms/step - accuracy: 0.8363 - loss: 7.4520 - val_accuracy: 0.7653 - val_loss: 7.6473 - learning_rate: 5.0000e-06\n",
            "Epoch 23/35\n",
            "\u001b[1m158/158\u001b[0m \u001b[32m━━━━━━━━━━━━━━━━━━━━\u001b[0m\u001b[37m\u001b[0m \u001b[1m0s\u001b[0m 27ms/step - accuracy: 0.8111 - loss: 7.4638\n",
            "Epoch 23: val_accuracy did not improve from 0.77170\n",
            "\n",
            "Epoch 23: ReduceLROnPlateau reducing learning rate to 9.999999747378752e-07.\n",
            "\u001b[1m158/158\u001b[0m \u001b[32m━━━━━━━━━━━━━━━━━━━━\u001b[0m\u001b[37m\u001b[0m \u001b[1m7s\u001b[0m 31ms/step - accuracy: 0.8112 - loss: 7.4637 - val_accuracy: 0.7653 - val_loss: 7.6383 - learning_rate: 5.0000e-06\n",
            "Epoch 24/35\n",
            "\u001b[1m157/158\u001b[0m \u001b[32m━━━━━━━━━━━━━━━━━━━\u001b[0m\u001b[37m━\u001b[0m \u001b[1m0s\u001b[0m 26ms/step - accuracy: 0.8387 - loss: 7.3958\n",
            "Epoch 24: val_accuracy did not improve from 0.77170\n",
            "\u001b[1m158/158\u001b[0m \u001b[32m━━━━━━━━━━━━━━━━━━━━\u001b[0m\u001b[37m\u001b[0m \u001b[1m10s\u001b[0m 32ms/step - accuracy: 0.8387 - loss: 7.3956 - val_accuracy: 0.7556 - val_loss: 7.6371 - learning_rate: 1.0000e-06\n",
            "Epoch 25/35\n",
            "\u001b[1m156/158\u001b[0m \u001b[32m━━━━━━━━━━━━━━━━━━━\u001b[0m\u001b[37m━\u001b[0m \u001b[1m0s\u001b[0m 28ms/step - accuracy: 0.8511 - loss: 7.3638\n",
            "Epoch 25: val_accuracy did not improve from 0.77170\n",
            "\u001b[1m158/158\u001b[0m \u001b[32m━━━━━━━━━━━━━━━━━━━━\u001b[0m\u001b[37m\u001b[0m \u001b[1m10s\u001b[0m 33ms/step - accuracy: 0.8510 - loss: 7.3640 - val_accuracy: 0.7621 - val_loss: 7.6311 - learning_rate: 1.0000e-06\n",
            "Epoch 25: early stopping\n",
            "Restoring model weights from the end of the best epoch: 20.\n",
            "Fine-tuning completed!\n"
          ]
        }
      ]
    },
    {
      "cell_type": "code",
      "source": [
        "test_loss, test_acc = model.evaluate(test_ds)\n",
        "print(f\"Final Test Accuracy: {test_acc:.4f}\")\n",
        "print(f\"Final Test Loss: {test_loss:.4f}\")"
      ],
      "metadata": {
        "id": "fT9WJOaWHrtT",
        "colab": {
          "base_uri": "https://localhost:8080/"
        },
        "outputId": "a7477f3a-69e9-4f03-cb42-96c15cc00283"
      },
      "execution_count": null,
      "outputs": [
        {
          "output_type": "stream",
          "name": "stdout",
          "text": [
            "\u001b[1m20/20\u001b[0m \u001b[32m━━━━━━━━━━━━━━━━━━━━\u001b[0m\u001b[37m\u001b[0m \u001b[1m1s\u001b[0m 36ms/step - accuracy: 0.7356 - loss: 7.7965\n",
            "Final Test Accuracy: 0.7469\n",
            "Final Test Loss: 7.7596\n"
          ]
        }
      ]
    },
    {
      "cell_type": "code",
      "source": [
        "# Check for overfitting\n",
        "final_train_acc = history_phase2.history['accuracy'][-1]\n",
        "final_val_acc = history_phase2.history['val_accuracy'][-1]\n",
        "overfitting_gap = final_train_acc - final_val_acc"
      ],
      "metadata": {
        "id": "5ZlH0ibq1Syx"
      },
      "execution_count": null,
      "outputs": []
    },
    {
      "cell_type": "code",
      "source": [
        "print(f\"\\nOverfitting Analysis:\")\n",
        "print(f\"Final Training Accuracy: {final_train_acc:.4f}\")\n",
        "print(f\"Final Validation Accuracy: {final_val_acc:.4f}\")\n",
        "print(f\"Overfitting Gap: {overfitting_gap:.4f}\")\n",
        "\n",
        "if overfitting_gap > 0.15:\n",
        "    print(\"⚠️  Still overfitting - consider more regularization\")\n",
        "elif overfitting_gap > 0.10:\n",
        "    print(\"⚠️  Mild overfitting - acceptable\")\n",
        "else:\n",
        "    print(\"✅ Good generalization!\")"
      ],
      "metadata": {
        "id": "ApSkEK0j1m9m",
        "colab": {
          "base_uri": "https://localhost:8080/"
        },
        "outputId": "bac0967c-59b4-4c99-b5da-31ac74b94c16"
      },
      "execution_count": null,
      "outputs": [
        {
          "output_type": "stream",
          "name": "stdout",
          "text": [
            "\n",
            "Overfitting Analysis:\n",
            "Final Training Accuracy: 0.8427\n",
            "Final Validation Accuracy: 0.7621\n",
            "Overfitting Gap: 0.0807\n",
            "✅ Good generalization!\n"
          ]
        }
      ]
    },
    {
      "cell_type": "code",
      "source": [
        "# Add this after training to analyze performance\n",
        "def analyze_model_performance(model, test_ds, class_names):\n",
        "    \"\"\"Analyze model performance in detail\"\"\"\n",
        "\n",
        "    # Get predictions and true labels\n",
        "    y_pred = []\n",
        "    y_true = []\n",
        "\n",
        "    for images, labels in test_ds:\n",
        "        predictions = model.predict(images, verbose=0)\n",
        "        y_pred.extend(np.argmax(predictions, axis=1))\n",
        "        y_true.extend(labels.numpy())\n",
        "\n",
        "    # Classification report\n",
        "    from sklearn.metrics import classification_report, confusion_matrix\n",
        "\n",
        "    print(\"Classification Report:\")\n",
        "    print(classification_report(y_true, y_pred, target_names=class_names))\n",
        "\n",
        "    # Confusion matrix\n",
        "    cm = confusion_matrix(y_true, y_pred)\n",
        "\n",
        "    plt.figure(figsize=(12, 10))\n",
        "    plt.imshow(cm, interpolation='nearest', cmap=plt.cm.Blues)\n",
        "    plt.title('Confusion Matrix')\n",
        "    plt.colorbar()\n",
        "    tick_marks = np.arange(len(class_names))\n",
        "    plt.xticks(tick_marks, class_names, rotation=45)\n",
        "    plt.yticks(tick_marks, class_names)\n",
        "    plt.ylabel('True Label')\n",
        "    plt.xlabel('Predicted Label')\n",
        "    plt.tight_layout()\n",
        "    plt.show()\n",
        "\n",
        "# Run analysis\n",
        "analyze_model_performance(model, test_ds, class_names)"
      ],
      "metadata": {
        "id": "mjRFCtGN2LIZ",
        "colab": {
          "base_uri": "https://localhost:8080/",
          "height": 1000
        },
        "outputId": "9decba44-7090-497b-94f1-df0ebd0bb6be"
      },
      "execution_count": null,
      "outputs": [
        {
          "output_type": "stream",
          "name": "stdout",
          "text": [
            "Classification Report:\n",
            "                          precision    recall  f1-score   support\n",
            "\n",
            "         Ayrshire cattle       0.96      0.93      0.95        28\n",
            "      Brown Swiss cattle       0.67      0.80      0.73        15\n",
            "                 Gir Cow       0.74      0.61      0.67        33\n",
            "            Hallikar Cow       0.77      0.71      0.74        28\n",
            "Holstein Friesian cattle       0.94      1.00      0.97        31\n",
            "      Jaffrabadi Buffalo       0.80      0.84      0.82        19\n",
            "           Jersey cattle       0.90      0.83      0.86        23\n",
            "             Kankrej Cow       0.72      0.72      0.72        25\n",
            "                  Murrah       0.63      0.86      0.73        14\n",
            "                 Nagpuri       0.40      0.33      0.36        12\n",
            "       Nili ravi Buffalo       0.81      0.68      0.74        19\n",
            "               Rathi Cow       0.63      0.52      0.57        23\n",
            "             Sahiwal Cow       0.41      0.55      0.47        20\n",
            "          Tharparkar Cow       0.78      0.83      0.81        30\n",
            "\n",
            "                accuracy                           0.75       320\n",
            "               macro avg       0.73      0.73      0.72       320\n",
            "            weighted avg       0.75      0.75      0.75       320\n",
            "\n"
          ]
        },
        {
          "output_type": "display_data",
          "data": {
            "text/plain": [
              "<Figure size 1200x1000 with 2 Axes>"
            ],
            "image/png": "[encoded data removed]"
          },
          "metadata": {}
        }
      ]
    },
    {
      "cell_type": "code",
      "source": [
        "'''# Train 3-5 models with different random seeds\n",
        "ensemble_models = []\n",
        "for seed in [42, 123, 456, 789, 999]:\n",
        "    tf.random.set_seed(seed)\n",
        "    np.random.seed(seed)\n",
        "\n",
        "    # Create and train model\n",
        "    model_i, _ = create_breed_classification_model()\n",
        "    # ... train model_i ...\n",
        "    ensemble_models.append(model_i)\n",
        "\n",
        "# Ensemble prediction\n",
        "def ensemble_predict(models, img_path):\n",
        "    predictions = []\n",
        "    for model in models:\n",
        "        # ... preprocess image ...\n",
        "        pred = model.predict(img_array)\n",
        "        predictions.append(pred)\n",
        "\n",
        "    # Average predictions\n",
        "    avg_pred = np.mean(predictions, axis=0)\n",
        "    return avg_pred'''"
      ],
      "metadata": {
        "id": "jPfCDeFl1jLZ"
      },
      "execution_count": null,
      "outputs": []
    },
    {
      "cell_type": "code",
      "source": [],
      "metadata": {
        "id": "Te6Jo7hDIK1N"
      },
      "execution_count": null,
      "outputs": []
    },
    {
      "cell_type": "code",
      "source": [],
      "metadata": {
        "id": "BzVAvxJ7NHdy"
      },
      "execution_count": null,
      "outputs": []
    },
    {
      "cell_type": "code",
      "source": [
        "\n",
        "def predict_cattle_breed(model, img_path, class_names):\n",
        "    \"\"\"Predict cattle breed using tf.data approach\"\"\"\n",
        "\n",
        "    # Load and preprocess image\n",
        "    img = tf.keras.utils.load_img(img_path, target_size=(IMG_SIZE, IMG_SIZE))\n",
        "    img_array = tf.keras.utils.img_to_array(img)\n",
        "    img_array = tf.expand_dims(img_array, 0)  # Add batch dimension\n",
        "    img_array = tf.cast(img_array, tf.float32)\n",
        "    img_array = preprocess_input(img_array)      # Use ResNet50 preprocessing\n",
        "\n",
        "    # Make prediction\n",
        "    predictions = model.predict(img_array)     # ex [[0.85, 0.08, 0.04, 0.02, 0.01]] 2D array\n",
        "    predicted_class_idx = np.argmax(predictions[0])  #Finds the position of the highest probability ex: 0\n",
        "    confidence = np.max(predictions[0])           #Gets the actual highest probability value ex: 0.85\n",
        "\n",
        "    # Get breed name\n",
        "    predicted_breed = class_names[predicted_class_idx]\n",
        "\n",
        "    # Show results\n",
        "    print(f\"\\nPrediction for {img_path}:\")\n",
        "    print(f\"Predicted breed: {predicted_breed}\")\n",
        "    print(f\"Confidence: {confidence:.2%}\")\n",
        "    print(\"\\nAll breed probabilities:\")\n",
        "    for i, prob in enumerate(predictions[0]):\n",
        "        print(f\"  {class_names[i]}: {prob:.2%}\")\n",
        "\n",
        "    return predicted_breed, confidence\n",
        "\n",
        "# Example usage\n",
        "'''breed, confidence = predict_cattle_breed(\n",
        "    model,\n",
        "    'path/to/cattle_image.jpg',\n",
        "    train_ds.class_names  # Use this instead of class_indices\n",
        ")'''"
      ],
      "metadata": {
        "id": "zWWEF5uvNHus"
      },
      "execution_count": null,
      "outputs": []
    }
  ]
}